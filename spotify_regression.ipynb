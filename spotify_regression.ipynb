{
 "cells": [
  {
   "cell_type": "markdown",
   "metadata": {},
   "source": [
    "# (Kernel) Ridge Regression\n",
    "Download the Spotify Tracks Dataset and perform ridge regression to predict the tracks’ popularity. Note that this dataset contains both numerical and categorical features. The student is thus required to follow these guidelines:\n",
    "- first, train the model using only the numerical features,\n",
    "- second, appropriately handle the categorical features (for example, with one-hot encoding or other techniques) and use them together with the numerical ones to train the model, in both cases, experiment with different training parameters, \n",
    "- use 5-fold cross validation to compute your risk estimates, thoroughly discuss and compare the performance of the model\n",
    "\n",
    "The student is required to implement from scratch (without using libraries, such as Scikit-learn) the code for the ridge regression, while it is not mandatory to do so for the implementation of the 5-fold cross-validation.\n",
    "\n",
    "Optional: Instead of regular ridge regression, implement kernel ridge regression using a Gaussian kernel.\n"
   ]
  },
  {
   "cell_type": "markdown",
   "metadata": {},
   "source": [
    "# Initialization\n"
   ]
  },
  {
   "cell_type": "code",
   "execution_count": 1,
   "metadata": {},
   "outputs": [],
   "source": [
    "if \"google.colab\" in str(get_ipython()):\n",
    "    !git clone https://github.com/lukebella/SpotifyRegression.git\n",
    "    !mv SpotifyRegression/* .\n",
    "    !rm -fr SpotifyRegression"
   ]
  },
  {
   "cell_type": "code",
   "execution_count": 2,
   "metadata": {},
   "outputs": [
    {
     "name": "stdout",
     "output_type": "stream",
     "text": [
      "zsh:1: command not found: kaggle\n",
      "unzip:  cannot find or open ./data/-spotify-tracks-dataset.zip, ./data/-spotify-tracks-dataset.zip.zip or ./data/-spotify-tracks-dataset.zip.ZIP.\n"
     ]
    }
   ],
   "source": [
    "import os\n",
    "\n",
    "os.environ['KAGGLE_USERNAME'] = \"xxxxxx\" # insert here your kaggle username\n",
    "os.environ['KAGGLE_KEY'] = \"xxxxxx\"      # insert here your kaggle key\n",
    "!kaggle datasets download -p ./data -d maharshipandya/-spotify-tracks-dataset\n",
    "!unzip -n ./data/-spotify-tracks-dataset.zip -d ./data"
   ]
  },
  {
   "cell_type": "code",
   "execution_count": 3,
   "metadata": {},
   "outputs": [],
   "source": [
    "import pandas as pd\n",
    "import numpy as np\n",
    "import matplotlib.pyplot as plt\n",
    "from sklearn.linear_model import Ridge, RidgeCV\n",
    "from sklearn.kernel_ridge import KernelRidge\n",
    "from sklearn.gaussian_process.kernels import RBF\n",
    "from sklearn.metrics import mean_squared_error\n",
    "%matplotlib inline"
   ]
  },
  {
   "cell_type": "code",
   "execution_count": 4,
   "metadata": {},
   "outputs": [
    {
     "data": {
      "text/html": [
       "<div>\n",
       "<style scoped>\n",
       "    .dataframe tbody tr th:only-of-type {\n",
       "        vertical-align: middle;\n",
       "    }\n",
       "\n",
       "    .dataframe tbody tr th {\n",
       "        vertical-align: top;\n",
       "    }\n",
       "\n",
       "    .dataframe thead th {\n",
       "        text-align: right;\n",
       "    }\n",
       "</style>\n",
       "<table border=\"1\" class=\"dataframe\">\n",
       "  <thead>\n",
       "    <tr style=\"text-align: right;\">\n",
       "      <th></th>\n",
       "      <th>track_id</th>\n",
       "      <th>artists</th>\n",
       "      <th>album_name</th>\n",
       "      <th>track_name</th>\n",
       "      <th>popularity</th>\n",
       "      <th>duration_ms</th>\n",
       "      <th>explicit</th>\n",
       "      <th>danceability</th>\n",
       "      <th>energy</th>\n",
       "      <th>key</th>\n",
       "      <th>loudness</th>\n",
       "      <th>mode</th>\n",
       "      <th>speechiness</th>\n",
       "      <th>acousticness</th>\n",
       "      <th>instrumentalness</th>\n",
       "      <th>liveness</th>\n",
       "      <th>valence</th>\n",
       "      <th>tempo</th>\n",
       "      <th>time_signature</th>\n",
       "      <th>track_genre</th>\n",
       "    </tr>\n",
       "  </thead>\n",
       "  <tbody>\n",
       "    <tr>\n",
       "      <th>94264</th>\n",
       "      <td>55swcR1hqOlJ45RNoamfDH</td>\n",
       "      <td>Powfu;KNOWN.</td>\n",
       "      <td>tell me your feelings and i won't tell you mine</td>\n",
       "      <td>soda stream sky (feat. KNOWN)</td>\n",
       "      <td>52</td>\n",
       "      <td>224825</td>\n",
       "      <td>True</td>\n",
       "      <td>0.609</td>\n",
       "      <td>0.394</td>\n",
       "      <td>0</td>\n",
       "      <td>-10.142</td>\n",
       "      <td>1</td>\n",
       "      <td>0.2090</td>\n",
       "      <td>0.757000</td>\n",
       "      <td>0.000340</td>\n",
       "      <td>0.1270</td>\n",
       "      <td>0.191</td>\n",
       "      <td>172.031</td>\n",
       "      <td>4</td>\n",
       "      <td>sad</td>\n",
       "    </tr>\n",
       "    <tr>\n",
       "      <th>6236</th>\n",
       "      <td>4DxJKxGAJMus7zVDOGI3Ab</td>\n",
       "      <td>Summoning</td>\n",
       "      <td>Lugburz</td>\n",
       "      <td>Flight of the Nazgul</td>\n",
       "      <td>20</td>\n",
       "      <td>427000</td>\n",
       "      <td>False</td>\n",
       "      <td>0.110</td>\n",
       "      <td>0.951</td>\n",
       "      <td>9</td>\n",
       "      <td>-9.627</td>\n",
       "      <td>0</td>\n",
       "      <td>0.2620</td>\n",
       "      <td>0.013000</td>\n",
       "      <td>0.384000</td>\n",
       "      <td>0.0626</td>\n",
       "      <td>0.054</td>\n",
       "      <td>76.699</td>\n",
       "      <td>4</td>\n",
       "      <td>black-metal</td>\n",
       "    </tr>\n",
       "    <tr>\n",
       "      <th>56</th>\n",
       "      <td>7lLKxcNeJtDTWVRKHovLEC</td>\n",
       "      <td>Aron Wright</td>\n",
       "      <td>Build It Better</td>\n",
       "      <td>Build It Better</td>\n",
       "      <td>51</td>\n",
       "      <td>234473</td>\n",
       "      <td>False</td>\n",
       "      <td>0.526</td>\n",
       "      <td>0.333</td>\n",
       "      <td>4</td>\n",
       "      <td>-13.020</td>\n",
       "      <td>1</td>\n",
       "      <td>0.0314</td>\n",
       "      <td>0.910000</td>\n",
       "      <td>0.168000</td>\n",
       "      <td>0.1110</td>\n",
       "      <td>0.159</td>\n",
       "      <td>94.951</td>\n",
       "      <td>4</td>\n",
       "      <td>acoustic</td>\n",
       "    </tr>\n",
       "    <tr>\n",
       "      <th>44601</th>\n",
       "      <td>1euszbbvkUzQzIhZUWFmXG</td>\n",
       "      <td>Highly Suspect</td>\n",
       "      <td>The Boy Who Died Wolf</td>\n",
       "      <td>My Name Is Human</td>\n",
       "      <td>64</td>\n",
       "      <td>258773</td>\n",
       "      <td>True</td>\n",
       "      <td>0.515</td>\n",
       "      <td>0.698</td>\n",
       "      <td>2</td>\n",
       "      <td>-5.572</td>\n",
       "      <td>0</td>\n",
       "      <td>0.0279</td>\n",
       "      <td>0.000057</td>\n",
       "      <td>0.000086</td>\n",
       "      <td>0.0827</td>\n",
       "      <td>0.194</td>\n",
       "      <td>139.960</td>\n",
       "      <td>4</td>\n",
       "      <td>grunge</td>\n",
       "    </tr>\n",
       "    <tr>\n",
       "      <th>112474</th>\n",
       "      <td>3aSrj9NKKBlZ3PSg2PFB17</td>\n",
       "      <td>Allame</td>\n",
       "      <td>Toprak</td>\n",
       "      <td>Toprak</td>\n",
       "      <td>40</td>\n",
       "      <td>186283</td>\n",
       "      <td>False</td>\n",
       "      <td>0.770</td>\n",
       "      <td>0.825</td>\n",
       "      <td>7</td>\n",
       "      <td>-4.985</td>\n",
       "      <td>1</td>\n",
       "      <td>0.1960</td>\n",
       "      <td>0.302000</td>\n",
       "      <td>0.000000</td>\n",
       "      <td>0.3620</td>\n",
       "      <td>0.651</td>\n",
       "      <td>136.046</td>\n",
       "      <td>4</td>\n",
       "      <td>turkish</td>\n",
       "    </tr>\n",
       "    <tr>\n",
       "      <th>...</th>\n",
       "      <td>...</td>\n",
       "      <td>...</td>\n",
       "      <td>...</td>\n",
       "      <td>...</td>\n",
       "      <td>...</td>\n",
       "      <td>...</td>\n",
       "      <td>...</td>\n",
       "      <td>...</td>\n",
       "      <td>...</td>\n",
       "      <td>...</td>\n",
       "      <td>...</td>\n",
       "      <td>...</td>\n",
       "      <td>...</td>\n",
       "      <td>...</td>\n",
       "      <td>...</td>\n",
       "      <td>...</td>\n",
       "      <td>...</td>\n",
       "      <td>...</td>\n",
       "      <td>...</td>\n",
       "      <td>...</td>\n",
       "    </tr>\n",
       "    <tr>\n",
       "      <th>21243</th>\n",
       "      <td>3lpmIoqpJmiY074Kay62SW</td>\n",
       "      <td>Yemi Alade</td>\n",
       "      <td>Africa Rising Vol.4</td>\n",
       "      <td>Home</td>\n",
       "      <td>0</td>\n",
       "      <td>224000</td>\n",
       "      <td>False</td>\n",
       "      <td>0.555</td>\n",
       "      <td>0.820</td>\n",
       "      <td>7</td>\n",
       "      <td>-2.663</td>\n",
       "      <td>1</td>\n",
       "      <td>0.0782</td>\n",
       "      <td>0.121000</td>\n",
       "      <td>0.000004</td>\n",
       "      <td>0.1290</td>\n",
       "      <td>0.968</td>\n",
       "      <td>113.000</td>\n",
       "      <td>4</td>\n",
       "      <td>dancehall</td>\n",
       "    </tr>\n",
       "    <tr>\n",
       "      <th>45891</th>\n",
       "      <td>3V4InT51kenWLTfXC6PfYr</td>\n",
       "      <td>Sonny Chillingworth</td>\n",
       "      <td>Hawaiian Slack Key Guitar Masters, Vol. 2</td>\n",
       "      <td>Liloa's Mele - Grandson's Lullaby</td>\n",
       "      <td>21</td>\n",
       "      <td>166573</td>\n",
       "      <td>False</td>\n",
       "      <td>0.448</td>\n",
       "      <td>0.150</td>\n",
       "      <td>0</td>\n",
       "      <td>-22.779</td>\n",
       "      <td>1</td>\n",
       "      <td>0.0385</td>\n",
       "      <td>0.772000</td>\n",
       "      <td>0.885000</td>\n",
       "      <td>0.1190</td>\n",
       "      <td>0.125</td>\n",
       "      <td>93.857</td>\n",
       "      <td>4</td>\n",
       "      <td>guitar</td>\n",
       "    </tr>\n",
       "    <tr>\n",
       "      <th>42613</th>\n",
       "      <td>1eWNzbwzDFyQ7WTWAWZbnK</td>\n",
       "      <td>Nasum</td>\n",
       "      <td>Helvete</td>\n",
       "      <td>Slaves To the Grind</td>\n",
       "      <td>12</td>\n",
       "      <td>71240</td>\n",
       "      <td>True</td>\n",
       "      <td>0.239</td>\n",
       "      <td>0.961</td>\n",
       "      <td>1</td>\n",
       "      <td>-5.569</td>\n",
       "      <td>1</td>\n",
       "      <td>0.1850</td>\n",
       "      <td>0.000004</td>\n",
       "      <td>0.151000</td>\n",
       "      <td>0.3220</td>\n",
       "      <td>0.210</td>\n",
       "      <td>121.329</td>\n",
       "      <td>5</td>\n",
       "      <td>grindcore</td>\n",
       "    </tr>\n",
       "    <tr>\n",
       "      <th>43567</th>\n",
       "      <td>3NiB3v3elOuAy4Ij51F4Sl</td>\n",
       "      <td>Maur</td>\n",
       "      <td>Deep Inside</td>\n",
       "      <td>Deep Inside</td>\n",
       "      <td>62</td>\n",
       "      <td>202633</td>\n",
       "      <td>False</td>\n",
       "      <td>0.637</td>\n",
       "      <td>0.936</td>\n",
       "      <td>11</td>\n",
       "      <td>-5.274</td>\n",
       "      <td>0</td>\n",
       "      <td>0.0371</td>\n",
       "      <td>0.046500</td>\n",
       "      <td>0.000150</td>\n",
       "      <td>0.1040</td>\n",
       "      <td>0.497</td>\n",
       "      <td>126.027</td>\n",
       "      <td>3</td>\n",
       "      <td>groove</td>\n",
       "    </tr>\n",
       "    <tr>\n",
       "      <th>68268</th>\n",
       "      <td>7AhSY7tH8oT0T9FpRKXl9q</td>\n",
       "      <td>Jhayco</td>\n",
       "      <td>Halloween 2022 Perreo Vol. 4</td>\n",
       "      <td>No Me Conoce</td>\n",
       "      <td>1</td>\n",
       "      <td>240400</td>\n",
       "      <td>False</td>\n",
       "      <td>0.654</td>\n",
       "      <td>0.695</td>\n",
       "      <td>10</td>\n",
       "      <td>-3.987</td>\n",
       "      <td>0</td>\n",
       "      <td>0.1730</td>\n",
       "      <td>0.064300</td>\n",
       "      <td>0.000000</td>\n",
       "      <td>0.0980</td>\n",
       "      <td>0.582</td>\n",
       "      <td>81.153</td>\n",
       "      <td>1</td>\n",
       "      <td>latino</td>\n",
       "    </tr>\n",
       "  </tbody>\n",
       "</table>\n",
       "<p>113999 rows × 20 columns</p>\n",
       "</div>"
      ],
      "text/plain": [
       "                      track_id              artists  \\\n",
       "94264   55swcR1hqOlJ45RNoamfDH         Powfu;KNOWN.   \n",
       "6236    4DxJKxGAJMus7zVDOGI3Ab            Summoning   \n",
       "56      7lLKxcNeJtDTWVRKHovLEC          Aron Wright   \n",
       "44601   1euszbbvkUzQzIhZUWFmXG       Highly Suspect   \n",
       "112474  3aSrj9NKKBlZ3PSg2PFB17               Allame   \n",
       "...                        ...                  ...   \n",
       "21243   3lpmIoqpJmiY074Kay62SW           Yemi Alade   \n",
       "45891   3V4InT51kenWLTfXC6PfYr  Sonny Chillingworth   \n",
       "42613   1eWNzbwzDFyQ7WTWAWZbnK                Nasum   \n",
       "43567   3NiB3v3elOuAy4Ij51F4Sl                 Maur   \n",
       "68268   7AhSY7tH8oT0T9FpRKXl9q               Jhayco   \n",
       "\n",
       "                                             album_name  \\\n",
       "94264   tell me your feelings and i won't tell you mine   \n",
       "6236                                            Lugburz   \n",
       "56                                      Build It Better   \n",
       "44601                             The Boy Who Died Wolf   \n",
       "112474                                           Toprak   \n",
       "...                                                 ...   \n",
       "21243                               Africa Rising Vol.4   \n",
       "45891         Hawaiian Slack Key Guitar Masters, Vol. 2   \n",
       "42613                                           Helvete   \n",
       "43567                                       Deep Inside   \n",
       "68268                      Halloween 2022 Perreo Vol. 4   \n",
       "\n",
       "                               track_name  popularity  duration_ms  explicit  \\\n",
       "94264       soda stream sky (feat. KNOWN)          52       224825      True   \n",
       "6236                 Flight of the Nazgul          20       427000     False   \n",
       "56                        Build It Better          51       234473     False   \n",
       "44601                    My Name Is Human          64       258773      True   \n",
       "112474                             Toprak          40       186283     False   \n",
       "...                                   ...         ...          ...       ...   \n",
       "21243                                Home           0       224000     False   \n",
       "45891   Liloa's Mele - Grandson's Lullaby          21       166573     False   \n",
       "42613                 Slaves To the Grind          12        71240      True   \n",
       "43567                         Deep Inside          62       202633     False   \n",
       "68268                        No Me Conoce           1       240400     False   \n",
       "\n",
       "        danceability  energy  key  loudness  mode  speechiness  acousticness  \\\n",
       "94264          0.609   0.394    0   -10.142     1       0.2090      0.757000   \n",
       "6236           0.110   0.951    9    -9.627     0       0.2620      0.013000   \n",
       "56             0.526   0.333    4   -13.020     1       0.0314      0.910000   \n",
       "44601          0.515   0.698    2    -5.572     0       0.0279      0.000057   \n",
       "112474         0.770   0.825    7    -4.985     1       0.1960      0.302000   \n",
       "...              ...     ...  ...       ...   ...          ...           ...   \n",
       "21243          0.555   0.820    7    -2.663     1       0.0782      0.121000   \n",
       "45891          0.448   0.150    0   -22.779     1       0.0385      0.772000   \n",
       "42613          0.239   0.961    1    -5.569     1       0.1850      0.000004   \n",
       "43567          0.637   0.936   11    -5.274     0       0.0371      0.046500   \n",
       "68268          0.654   0.695   10    -3.987     0       0.1730      0.064300   \n",
       "\n",
       "        instrumentalness  liveness  valence    tempo  time_signature  \\\n",
       "94264           0.000340    0.1270    0.191  172.031               4   \n",
       "6236            0.384000    0.0626    0.054   76.699               4   \n",
       "56              0.168000    0.1110    0.159   94.951               4   \n",
       "44601           0.000086    0.0827    0.194  139.960               4   \n",
       "112474          0.000000    0.3620    0.651  136.046               4   \n",
       "...                  ...       ...      ...      ...             ...   \n",
       "21243           0.000004    0.1290    0.968  113.000               4   \n",
       "45891           0.885000    0.1190    0.125   93.857               4   \n",
       "42613           0.151000    0.3220    0.210  121.329               5   \n",
       "43567           0.000150    0.1040    0.497  126.027               3   \n",
       "68268           0.000000    0.0980    0.582   81.153               1   \n",
       "\n",
       "        track_genre  \n",
       "94264           sad  \n",
       "6236    black-metal  \n",
       "56         acoustic  \n",
       "44601        grunge  \n",
       "112474      turkish  \n",
       "...             ...  \n",
       "21243     dancehall  \n",
       "45891        guitar  \n",
       "42613     grindcore  \n",
       "43567        groove  \n",
       "68268        latino  \n",
       "\n",
       "[113999 rows x 20 columns]"
      ]
     },
     "execution_count": 4,
     "metadata": {},
     "output_type": "execute_result"
    }
   ],
   "source": [
    "# Open the dataset\n",
    "dataset_file = \"data/dataset.csv\"\n",
    "\n",
    "dataset_df = pd.read_csv(dataset_file).drop(columns='Unnamed: 0')\n",
    "dataset_df = dataset_df.sample(frac=1, random_state=0).dropna()\n",
    "\n",
    "dataset_df"
   ]
  },
  {
   "cell_type": "markdown",
   "metadata": {},
   "source": [
    "# Split the dataset"
   ]
  },
  {
   "cell_type": "code",
   "execution_count": 5,
   "metadata": {},
   "outputs": [],
   "source": [
    "# Normalize loudness, tempo, duration_ms\n",
    "loudness_norm = dataset_df[\"loudness\"]\n",
    "tempo_norm = dataset_df[\"tempo\"]\n",
    "duration_norm = dataset_df[\"duration_ms\"]\n",
    "#popularity_norm = dataset_df[\"popularity\"]\n",
    "\n",
    "tempo_norm = tempo_norm/tempo_norm.max(axis=0)\n",
    "duration_norm = duration_norm/duration_norm.max(axis=0)\n",
    "#popularity_norm = popularity_norm/popularity_norm.max(axis=0)\n",
    "\n",
    "min_loud = abs(loudness_norm.min(axis=0))\n",
    "max_loud = abs(loudness_norm.max(axis=0))\n",
    "\n",
    "loudness_norm = (min_loud+loudness_norm)/(min_loud+max_loud)\n",
    "\n",
    "dataset_df[\"loudness\"] = loudness_norm\n",
    "dataset_df[\"tempo\"] = tempo_norm\n",
    "dataset_df[\"duration_ms\"] = duration_norm\n",
    "#dataset_df[\"popularity\"] = popularity_norm"
   ]
  },
  {
   "cell_type": "code",
   "execution_count": 6,
   "metadata": {},
   "outputs": [
    {
     "data": {
      "text/html": [
       "<div>\n",
       "<style scoped>\n",
       "    .dataframe tbody tr th:only-of-type {\n",
       "        vertical-align: middle;\n",
       "    }\n",
       "\n",
       "    .dataframe tbody tr th {\n",
       "        vertical-align: top;\n",
       "    }\n",
       "\n",
       "    .dataframe thead th {\n",
       "        text-align: right;\n",
       "    }\n",
       "</style>\n",
       "<table border=\"1\" class=\"dataframe\">\n",
       "  <thead>\n",
       "    <tr style=\"text-align: right;\">\n",
       "      <th></th>\n",
       "      <th>popularity</th>\n",
       "      <th>duration_ms</th>\n",
       "      <th>danceability</th>\n",
       "      <th>energy</th>\n",
       "      <th>loudness</th>\n",
       "      <th>speechiness</th>\n",
       "      <th>acousticness</th>\n",
       "      <th>instrumentalness</th>\n",
       "      <th>liveness</th>\n",
       "      <th>valence</th>\n",
       "      <th>...</th>\n",
       "      <th>track_genre_spanish</th>\n",
       "      <th>track_genre_study</th>\n",
       "      <th>track_genre_swedish</th>\n",
       "      <th>track_genre_synth-pop</th>\n",
       "      <th>track_genre_tango</th>\n",
       "      <th>track_genre_techno</th>\n",
       "      <th>track_genre_trance</th>\n",
       "      <th>track_genre_trip-hop</th>\n",
       "      <th>track_genre_turkish</th>\n",
       "      <th>track_genre_world-music</th>\n",
       "    </tr>\n",
       "  </thead>\n",
       "  <tbody>\n",
       "    <tr>\n",
       "      <th>0</th>\n",
       "      <td>52.0</td>\n",
       "      <td>4.292769</td>\n",
       "      <td>60.9</td>\n",
       "      <td>39.4</td>\n",
       "      <td>72.857592</td>\n",
       "      <td>20.90</td>\n",
       "      <td>75.700000</td>\n",
       "      <td>0.034000</td>\n",
       "      <td>12.70</td>\n",
       "      <td>19.1</td>\n",
       "      <td>...</td>\n",
       "      <td>0</td>\n",
       "      <td>0</td>\n",
       "      <td>0</td>\n",
       "      <td>0</td>\n",
       "      <td>0</td>\n",
       "      <td>0</td>\n",
       "      <td>0</td>\n",
       "      <td>0</td>\n",
       "      <td>0</td>\n",
       "      <td>0</td>\n",
       "    </tr>\n",
       "    <tr>\n",
       "      <th>1</th>\n",
       "      <td>20.0</td>\n",
       "      <td>8.153064</td>\n",
       "      <td>11.0</td>\n",
       "      <td>95.1</td>\n",
       "      <td>73.810184</td>\n",
       "      <td>26.20</td>\n",
       "      <td>1.300000</td>\n",
       "      <td>38.400000</td>\n",
       "      <td>6.26</td>\n",
       "      <td>5.4</td>\n",
       "      <td>...</td>\n",
       "      <td>0</td>\n",
       "      <td>0</td>\n",
       "      <td>0</td>\n",
       "      <td>0</td>\n",
       "      <td>0</td>\n",
       "      <td>0</td>\n",
       "      <td>0</td>\n",
       "      <td>0</td>\n",
       "      <td>0</td>\n",
       "      <td>0</td>\n",
       "    </tr>\n",
       "    <tr>\n",
       "      <th>2</th>\n",
       "      <td>51.0</td>\n",
       "      <td>4.476987</td>\n",
       "      <td>52.6</td>\n",
       "      <td>33.3</td>\n",
       "      <td>67.534173</td>\n",
       "      <td>3.14</td>\n",
       "      <td>91.000000</td>\n",
       "      <td>16.800000</td>\n",
       "      <td>11.10</td>\n",
       "      <td>15.9</td>\n",
       "      <td>...</td>\n",
       "      <td>0</td>\n",
       "      <td>0</td>\n",
       "      <td>0</td>\n",
       "      <td>0</td>\n",
       "      <td>0</td>\n",
       "      <td>0</td>\n",
       "      <td>0</td>\n",
       "      <td>0</td>\n",
       "      <td>0</td>\n",
       "      <td>0</td>\n",
       "    </tr>\n",
       "    <tr>\n",
       "      <th>3</th>\n",
       "      <td>64.0</td>\n",
       "      <td>4.940967</td>\n",
       "      <td>51.5</td>\n",
       "      <td>69.8</td>\n",
       "      <td>81.310693</td>\n",
       "      <td>2.79</td>\n",
       "      <td>0.005710</td>\n",
       "      <td>0.008640</td>\n",
       "      <td>8.27</td>\n",
       "      <td>19.4</td>\n",
       "      <td>...</td>\n",
       "      <td>0</td>\n",
       "      <td>0</td>\n",
       "      <td>0</td>\n",
       "      <td>0</td>\n",
       "      <td>0</td>\n",
       "      <td>0</td>\n",
       "      <td>0</td>\n",
       "      <td>0</td>\n",
       "      <td>0</td>\n",
       "      <td>0</td>\n",
       "    </tr>\n",
       "    <tr>\n",
       "      <th>4</th>\n",
       "      <td>40.0</td>\n",
       "      <td>3.556855</td>\n",
       "      <td>77.0</td>\n",
       "      <td>82.5</td>\n",
       "      <td>82.396463</td>\n",
       "      <td>19.60</td>\n",
       "      <td>30.200000</td>\n",
       "      <td>0.000000</td>\n",
       "      <td>36.20</td>\n",
       "      <td>65.1</td>\n",
       "      <td>...</td>\n",
       "      <td>0</td>\n",
       "      <td>0</td>\n",
       "      <td>0</td>\n",
       "      <td>0</td>\n",
       "      <td>0</td>\n",
       "      <td>0</td>\n",
       "      <td>0</td>\n",
       "      <td>0</td>\n",
       "      <td>100</td>\n",
       "      <td>0</td>\n",
       "    </tr>\n",
       "    <tr>\n",
       "      <th>...</th>\n",
       "      <td>...</td>\n",
       "      <td>...</td>\n",
       "      <td>...</td>\n",
       "      <td>...</td>\n",
       "      <td>...</td>\n",
       "      <td>...</td>\n",
       "      <td>...</td>\n",
       "      <td>...</td>\n",
       "      <td>...</td>\n",
       "      <td>...</td>\n",
       "      <td>...</td>\n",
       "      <td>...</td>\n",
       "      <td>...</td>\n",
       "      <td>...</td>\n",
       "      <td>...</td>\n",
       "      <td>...</td>\n",
       "      <td>...</td>\n",
       "      <td>...</td>\n",
       "      <td>...</td>\n",
       "      <td>...</td>\n",
       "      <td>...</td>\n",
       "    </tr>\n",
       "    <tr>\n",
       "      <th>89735</th>\n",
       "      <td>46.0</td>\n",
       "      <td>3.565944</td>\n",
       "      <td>56.5</td>\n",
       "      <td>63.0</td>\n",
       "      <td>80.496828</td>\n",
       "      <td>3.98</td>\n",
       "      <td>30.600000</td>\n",
       "      <td>0.000000</td>\n",
       "      <td>74.40</td>\n",
       "      <td>49.9</td>\n",
       "      <td>...</td>\n",
       "      <td>0</td>\n",
       "      <td>0</td>\n",
       "      <td>0</td>\n",
       "      <td>0</td>\n",
       "      <td>0</td>\n",
       "      <td>0</td>\n",
       "      <td>0</td>\n",
       "      <td>0</td>\n",
       "      <td>0</td>\n",
       "      <td>0</td>\n",
       "    </tr>\n",
       "    <tr>\n",
       "      <th>89736</th>\n",
       "      <td>27.0</td>\n",
       "      <td>5.193521</td>\n",
       "      <td>54.6</td>\n",
       "      <td>71.6</td>\n",
       "      <td>74.953295</td>\n",
       "      <td>5.83</td>\n",
       "      <td>60.300000</td>\n",
       "      <td>0.000000</td>\n",
       "      <td>2.60</td>\n",
       "      <td>91.3</td>\n",
       "      <td>...</td>\n",
       "      <td>0</td>\n",
       "      <td>0</td>\n",
       "      <td>0</td>\n",
       "      <td>0</td>\n",
       "      <td>0</td>\n",
       "      <td>0</td>\n",
       "      <td>0</td>\n",
       "      <td>0</td>\n",
       "      <td>0</td>\n",
       "      <td>0</td>\n",
       "    </tr>\n",
       "    <tr>\n",
       "      <th>89737</th>\n",
       "      <td>0.0</td>\n",
       "      <td>4.277017</td>\n",
       "      <td>55.5</td>\n",
       "      <td>82.0</td>\n",
       "      <td>86.691453</td>\n",
       "      <td>7.82</td>\n",
       "      <td>12.100000</td>\n",
       "      <td>0.000449</td>\n",
       "      <td>12.90</td>\n",
       "      <td>96.8</td>\n",
       "      <td>...</td>\n",
       "      <td>0</td>\n",
       "      <td>0</td>\n",
       "      <td>0</td>\n",
       "      <td>0</td>\n",
       "      <td>0</td>\n",
       "      <td>0</td>\n",
       "      <td>0</td>\n",
       "      <td>0</td>\n",
       "      <td>0</td>\n",
       "      <td>0</td>\n",
       "    </tr>\n",
       "    <tr>\n",
       "      <th>89738</th>\n",
       "      <td>21.0</td>\n",
       "      <td>3.180516</td>\n",
       "      <td>44.8</td>\n",
       "      <td>15.0</td>\n",
       "      <td>49.483011</td>\n",
       "      <td>3.85</td>\n",
       "      <td>77.200000</td>\n",
       "      <td>88.500000</td>\n",
       "      <td>11.90</td>\n",
       "      <td>12.5</td>\n",
       "      <td>...</td>\n",
       "      <td>0</td>\n",
       "      <td>0</td>\n",
       "      <td>0</td>\n",
       "      <td>0</td>\n",
       "      <td>0</td>\n",
       "      <td>0</td>\n",
       "      <td>0</td>\n",
       "      <td>0</td>\n",
       "      <td>0</td>\n",
       "      <td>0</td>\n",
       "    </tr>\n",
       "    <tr>\n",
       "      <th>89739</th>\n",
       "      <td>12.0</td>\n",
       "      <td>1.360244</td>\n",
       "      <td>23.9</td>\n",
       "      <td>96.1</td>\n",
       "      <td>81.316242</td>\n",
       "      <td>18.50</td>\n",
       "      <td>0.000402</td>\n",
       "      <td>15.100000</td>\n",
       "      <td>32.20</td>\n",
       "      <td>21.0</td>\n",
       "      <td>...</td>\n",
       "      <td>0</td>\n",
       "      <td>0</td>\n",
       "      <td>0</td>\n",
       "      <td>0</td>\n",
       "      <td>0</td>\n",
       "      <td>0</td>\n",
       "      <td>0</td>\n",
       "      <td>0</td>\n",
       "      <td>0</td>\n",
       "      <td>0</td>\n",
       "    </tr>\n",
       "  </tbody>\n",
       "</table>\n",
       "<p>89740 rows × 145 columns</p>\n",
       "</div>"
      ],
      "text/plain": [
       "       popularity  duration_ms  danceability  energy   loudness  speechiness  \\\n",
       "0            52.0     4.292769          60.9    39.4  72.857592        20.90   \n",
       "1            20.0     8.153064          11.0    95.1  73.810184        26.20   \n",
       "2            51.0     4.476987          52.6    33.3  67.534173         3.14   \n",
       "3            64.0     4.940967          51.5    69.8  81.310693         2.79   \n",
       "4            40.0     3.556855          77.0    82.5  82.396463        19.60   \n",
       "...           ...          ...           ...     ...        ...          ...   \n",
       "89735        46.0     3.565944          56.5    63.0  80.496828         3.98   \n",
       "89736        27.0     5.193521          54.6    71.6  74.953295         5.83   \n",
       "89737         0.0     4.277017          55.5    82.0  86.691453         7.82   \n",
       "89738        21.0     3.180516          44.8    15.0  49.483011         3.85   \n",
       "89739        12.0     1.360244          23.9    96.1  81.316242        18.50   \n",
       "\n",
       "       acousticness  instrumentalness  liveness  valence  ...  \\\n",
       "0         75.700000          0.034000     12.70     19.1  ...   \n",
       "1          1.300000         38.400000      6.26      5.4  ...   \n",
       "2         91.000000         16.800000     11.10     15.9  ...   \n",
       "3          0.005710          0.008640      8.27     19.4  ...   \n",
       "4         30.200000          0.000000     36.20     65.1  ...   \n",
       "...             ...               ...       ...      ...  ...   \n",
       "89735     30.600000          0.000000     74.40     49.9  ...   \n",
       "89736     60.300000          0.000000      2.60     91.3  ...   \n",
       "89737     12.100000          0.000449     12.90     96.8  ...   \n",
       "89738     77.200000         88.500000     11.90     12.5  ...   \n",
       "89739      0.000402         15.100000     32.20     21.0  ...   \n",
       "\n",
       "       track_genre_spanish  track_genre_study  track_genre_swedish  \\\n",
       "0                        0                  0                    0   \n",
       "1                        0                  0                    0   \n",
       "2                        0                  0                    0   \n",
       "3                        0                  0                    0   \n",
       "4                        0                  0                    0   \n",
       "...                    ...                ...                  ...   \n",
       "89735                    0                  0                    0   \n",
       "89736                    0                  0                    0   \n",
       "89737                    0                  0                    0   \n",
       "89738                    0                  0                    0   \n",
       "89739                    0                  0                    0   \n",
       "\n",
       "       track_genre_synth-pop  track_genre_tango  track_genre_techno  \\\n",
       "0                          0                  0                   0   \n",
       "1                          0                  0                   0   \n",
       "2                          0                  0                   0   \n",
       "3                          0                  0                   0   \n",
       "4                          0                  0                   0   \n",
       "...                      ...                ...                 ...   \n",
       "89735                      0                  0                   0   \n",
       "89736                      0                  0                   0   \n",
       "89737                      0                  0                   0   \n",
       "89738                      0                  0                   0   \n",
       "89739                      0                  0                   0   \n",
       "\n",
       "       track_genre_trance  track_genre_trip-hop  track_genre_turkish  \\\n",
       "0                       0                     0                    0   \n",
       "1                       0                     0                    0   \n",
       "2                       0                     0                    0   \n",
       "3                       0                     0                    0   \n",
       "4                       0                     0                  100   \n",
       "...                   ...                   ...                  ...   \n",
       "89735                   0                     0                    0   \n",
       "89736                   0                     0                    0   \n",
       "89737                   0                     0                    0   \n",
       "89738                   0                     0                    0   \n",
       "89739                   0                     0                    0   \n",
       "\n",
       "       track_genre_world-music  \n",
       "0                            0  \n",
       "1                            0  \n",
       "2                            0  \n",
       "3                            0  \n",
       "4                            0  \n",
       "...                        ...  \n",
       "89735                        0  \n",
       "89736                        0  \n",
       "89737                        0  \n",
       "89738                        0  \n",
       "89739                        0  \n",
       "\n",
       "[89740 rows x 145 columns]"
      ]
     },
     "execution_count": 6,
     "metadata": {},
     "output_type": "execute_result"
    }
   ],
   "source": [
    "# Create a DataFrame with only track_id and track_genre one-hot encoded\n",
    "track_genre_df = pd.get_dummies(dataset_df[[\"track_id\", \"track_genre\"]], columns=['track_genre'], dtype=int)\n",
    "\n",
    "# Merge the track with the same id\n",
    "track_genre_df = track_genre_df.groupby(\"track_id\", as_index=False)[[i for i in track_genre_df.columns if i.startswith(\"track_genre_\")]].agg(np.sum)\n",
    "\n",
    "# Create a partial DataFrame with all feature except track_genre\n",
    "partial_df = pd.get_dummies(dataset_df.drop(columns=[\"artists\", \"album_name\", \"track_name\", 'track_genre']),\n",
    "                            columns=['explicit', 'key', 'mode', 'time_signature'], dtype=int) \\\n",
    "               .drop_duplicates(subset=['track_id'])\n",
    "\n",
    "# Merge partial_df and track_genre_df to create the new dataset\n",
    "categorical_df = pd.merge(partial_df, track_genre_df, on=['track_id'], how='inner').drop(columns=\"track_id\")\n",
    "\n",
    "# Removed explicit_False because haveing explicit_True this features is useless\n",
    "categorical_df = categorical_df.drop(columns=[\"explicit_False\"])\n",
    "categorical_df = categorical_df.rename(columns={\"explicit_True\": \"explicit\"})\n",
    "\n",
    "for i in categorical_df.columns:\n",
    "    categorical_df[i] = categorical_df[i]*100\n",
    "\n",
    "categorical_df[\"popularity\"] = categorical_df[\"popularity\"]/100 \n",
    "\n",
    "categorical_df"
   ]
  },
  {
   "cell_type": "code",
   "execution_count": 7,
   "metadata": {},
   "outputs": [],
   "source": [
    "# Create a mask to split the dataset into training set and test set\n",
    "np.random.seed(0)\n",
    "mask = np.random.rand(len(categorical_df))<0.7"
   ]
  },
  {
   "cell_type": "code",
   "execution_count": 8,
   "metadata": {},
   "outputs": [],
   "source": [
    "# Categorical features\n",
    "train_cat_df = categorical_df[mask]\n",
    "test_cat_df = categorical_df[~mask]"
   ]
  },
  {
   "cell_type": "code",
   "execution_count": 9,
   "metadata": {},
   "outputs": [],
   "source": [
    "# Numerical features\n",
    "numerical_df = categorical_df[[\"popularity\", \"duration_ms\", \"danceability\", \"energy\", \"loudness\",\n",
    "                               \"speechiness\", \"acousticness\", \"instrumentalness\", \"liveness\", \"valence\", \"tempo\"]]\n",
    "\n",
    "train_num_df = numerical_df[mask]\n",
    "test_num_df = numerical_df[~mask]\n"
   ]
  },
  {
   "cell_type": "code",
   "execution_count": 10,
   "metadata": {},
   "outputs": [],
   "source": [
    "#Generate different seeds in order to see how much variance occurs \n",
    "\n",
    "num_test = 3\n",
    "num_dataset_list = []\n",
    "cat_dataset_list = []\n",
    "\n",
    "for i in range(num_test):\n",
    "    np.random.seed(i)\n",
    "    mask = np.random.rand(len(categorical_df))<0.7\n",
    "    \n",
    "    num_dataset_list.append((numerical_df[mask], numerical_df[~mask]))\n",
    "    \n",
    "    cat_dataset_list.append((categorical_df[mask], categorical_df[~mask]))\n",
    "\n",
    "np.random.seed(0)"
   ]
  },
  {
   "cell_type": "markdown",
   "metadata": {},
   "source": [
    "# Ridge Regression\n",
    "Functions that implement the ridge regression prediction."
   ]
  },
  {
   "cell_type": "code",
   "execution_count": 11,
   "metadata": {},
   "outputs": [],
   "source": [
    "# Create the hyperplane using regular ridge regression\n",
    "def ridge_regression(alpha, train_set):\n",
    "    y = train_set[[\"popularity\"]]\n",
    "    train_set = train_set.drop(columns='popularity')\n",
    "    n_rows, n_cols = train_set.shape  # Get the dimensions of the input matrix s\n",
    "    s_t = train_set.transpose()  # Transpose of matrix s\n",
    "    \n",
    "    # Calculate the identity matrix with the appropriate size\n",
    "    identity = np.identity(n_cols)\n",
    "    \n",
    "    # Calculate the ridge regression coefficients using matrix operations\n",
    "    w = (np.linalg.pinv(alpha * identity + np.dot(s_t, train_set)).dot(s_t)).dot(y) \n",
    "    \n",
    "    # Convert the coefficients to a DataFrame for better presentation\n",
    "    w_df = pd.DataFrame(w, columns=[\"Values\"], index=train_set.columns)\n",
    "    \n",
    "    return w_df"
   ]
  },
  {
   "cell_type": "code",
   "execution_count": 12,
   "metadata": {},
   "outputs": [],
   "source": [
    "# Predict the popularity of a track x using an hyperplane w\n",
    "def predict(w, x):\n",
    "    pred = w.transpose().dot(x.drop(labels='popularity'))[0]\n",
    "    return pred"
   ]
  },
  {
   "cell_type": "code",
   "execution_count": 13,
   "metadata": {},
   "outputs": [],
   "source": [
    "# Compute the average square loss of the hyperplane w\n",
    "def avg_square_loss(w, test_set):\n",
    "    y = test_set[[\"popularity\"]]\n",
    "    test_set = test_set.drop(columns='popularity')\n",
    "    # Convert the DataFrame to a numpy array\n",
    "    x = test_set.values  \n",
    "    # Calculate predictions for all rows at once\n",
    "    predictions = np.dot(x, w)\n",
    "    \n",
    "    squared_diff = (predictions -  y)**2\n",
    "    total_loss = np.sum(squared_diff)\n",
    "    return total_loss.values[0]/test_set.shape[0]"
   ]
  },
  {
   "cell_type": "markdown",
   "metadata": {},
   "source": [
    "## Ridge Regression using only numerical features"
   ]
  },
  {
   "cell_type": "code",
   "execution_count": 14,
   "metadata": {},
   "outputs": [],
   "source": [
    "# Compute the MSE for each alpha in a range\n",
    "alphas = 10**np.linspace(10, -2, 100)*0.5\n",
    "\n",
    "num_train_losses = []\n",
    "num_test_losses = []\n",
    "\n",
    "for a in alphas:\n",
    "    ridge = ridge_regression(a, train_num_df)\n",
    "    num_train_losses.append(avg_square_loss(ridge, train_num_df))\n",
    "    num_test_losses.append(avg_square_loss(ridge, test_num_df))"
   ]
  },
  {
   "cell_type": "markdown",
   "metadata": {},
   "source": [
    "## Scikitlearn Ridge regression on numerical features\n"
   ]
  },
  {
   "cell_type": "code",
   "execution_count": 15,
   "metadata": {},
   "outputs": [],
   "source": [
    "#Scikitlearn Ridge regression (for plot)\n",
    "alphas = 10**np.linspace(10, -2, 100)*0.5\n",
    "\n",
    "sk_num_train_losses = []\n",
    "sk_num_test_losses = []\n",
    "\n",
    "for a in alphas:\n",
    "    clf = Ridge(alpha = a)\n",
    "    clf.fit(train_num_df.drop(columns='popularity'), train_num_df['popularity'])\n",
    "    sk_num_train_losses.append(mean_squared_error(train_num_df['popularity'], clf.predict(train_num_df.drop(columns='popularity'))))\n",
    "    sk_num_test_losses.append(mean_squared_error(test_num_df['popularity'], clf.predict(test_num_df.drop(columns='popularity'))))"
   ]
  },
  {
   "cell_type": "markdown",
   "metadata": {},
   "source": [
    "## Ridge regression on all features"
   ]
  },
  {
   "cell_type": "code",
   "execution_count": 16,
   "metadata": {},
   "outputs": [],
   "source": [
    "alphas = 10**np.linspace(10, -2, 100)*0.5\n",
    "\n",
    "cat_train_losses = []\n",
    "cat_test_losses = []\n",
    "\n",
    "for a in alphas:\n",
    "    ridge = ridge_regression(a, train_cat_df)\n",
    "    cat_train_losses.append(avg_square_loss(ridge, train_cat_df))\n",
    "    cat_test_losses.append(avg_square_loss(ridge, test_cat_df))\n"
   ]
  },
  {
   "cell_type": "markdown",
   "metadata": {},
   "source": [
    "## ScikitLearn Ridge regression on all features"
   ]
  },
  {
   "cell_type": "code",
   "execution_count": 17,
   "metadata": {},
   "outputs": [],
   "source": [
    "alphas = 10**np.linspace(10, -2, 100)*0.5\n",
    "\n",
    "sk_cat_train_losses = []\n",
    "sk_cat_test_losses = []\n",
    "\n",
    "for a in alphas:\n",
    "    clf = Ridge(alpha = a)\n",
    "    clf.fit(train_cat_df.drop(columns='popularity'), train_cat_df['popularity'])\n",
    "    sk_cat_train_losses.append(mean_squared_error(train_cat_df['popularity'], clf.predict(train_cat_df.drop(columns='popularity'))))\n",
    "    sk_cat_test_losses.append(mean_squared_error(test_cat_df['popularity'], clf.predict(test_cat_df.drop(columns='popularity'))))\n"
   ]
  },
  {
   "cell_type": "markdown",
   "metadata": {},
   "source": [
    "## Compare between Numerical features and All features"
   ]
  },
  {
   "cell_type": "code",
   "execution_count": 18,
   "metadata": {},
   "outputs": [
    {
     "data": {
      "text/plain": [
       "Text(0.5, 1.0, 'ScikitLearn')"
      ]
     },
     "execution_count": 18,
     "metadata": {},
     "output_type": "execute_result"
    },
    {
     "data": {
      "image/png": "[encoded data removed]",
      "text/plain": [
       "<Figure size 1000x500 with 2 Axes>"
      ]
     },
     "metadata": {},
     "output_type": "display_data"
    }
   ],
   "source": [
    "fig, (ax1, ax2) = plt.subplots(1, 2)\n",
    "fig.suptitle('MSE on numerical features')\n",
    "fig.set_size_inches(10,5)\n",
    "\n",
    "ax1.plot(alphas, num_train_losses, label='Training accuracy')\n",
    "ax1.plot(alphas, num_test_losses, label='Testing accuracy')\n",
    "ax1.set_xscale('log')\n",
    "ax1.set_xlabel('Alpha')\n",
    "ax1.set_ylabel('Mean squared error')\n",
    "ax1.legend()\n",
    "ax1.set_title(\"Scratch\")\n",
    "\n",
    "ax2.plot(alphas, sk_num_train_losses, label='Training accuracy')\n",
    "ax2.plot(alphas, sk_num_test_losses, label='Testing accuracy')\n",
    "ax2.set_xscale('log')\n",
    "ax2.set_xlabel('Alpha')\n",
    "ax2.set_ylabel('Mean squared error')\n",
    "ax2.legend()\n",
    "ax2.set_title(\"ScikitLearn\")\n"
   ]
  },
  {
   "cell_type": "code",
   "execution_count": 19,
   "metadata": {},
   "outputs": [
    {
     "data": {
      "text/plain": [
       "Text(0.5, 1.0, 'ScikitLearn')"
      ]
     },
     "execution_count": 19,
     "metadata": {},
     "output_type": "execute_result"
    },
    {
     "data": {
      "image/png": "[encoded data removed]",
      "text/plain": [
       "<Figure size 1000x500 with 2 Axes>"
      ]
     },
     "metadata": {},
     "output_type": "display_data"
    }
   ],
   "source": [
    "fig, (ax1, ax2) = plt.subplots(1, 2)\n",
    "fig.suptitle('MSE on all features')\n",
    "fig.set_size_inches(10, 5)\n",
    "\n",
    "ax1.plot(alphas, cat_train_losses, label='Training accuracy')\n",
    "ax1.plot(alphas, cat_test_losses, label='Testing accuracy')\n",
    "ax1.set_xscale('log')\n",
    "ax1.set_xlabel('Alpha')\n",
    "ax1.set_ylabel('Mean squared error')\n",
    "ax1.legend()\n",
    "ax1.set_title(\"Scratch\")\n",
    "\n",
    "ax2.plot(alphas, sk_cat_train_losses, label='Training accuracy')\n",
    "ax2.plot(alphas, sk_cat_test_losses, label='Testing accuracy')\n",
    "ax2.set_xscale('log')\n",
    "ax2.set_xlabel('Alpha')\n",
    "ax2.set_ylabel('Mean squared error')\n",
    "ax2.legend()\n",
    "ax2.set_title(\"ScikitLearn\")\n"
   ]
  },
  {
   "cell_type": "markdown",
   "metadata": {},
   "source": [
    "# Linear regression\n",
    "When we put `alpha=0` in the ridge regression function it becomes a linear predictor"
   ]
  },
  {
   "cell_type": "markdown",
   "metadata": {},
   "source": [
    "### Numerical features"
   ]
  },
  {
   "cell_type": "code",
   "execution_count": 20,
   "metadata": {},
   "outputs": [
    {
     "name": "stdout",
     "output_type": "stream",
     "text": [
      "List results:\t[414.7969798711408, 422.21876618971976, 413.02492361338324]\n",
      "Mean:\t\t416.680223224748\n",
      "std:\t\t3.9825987726854586\n",
      "variance:\t15.861092984195722\n"
     ]
    }
   ],
   "source": [
    "lin_num_result = []\n",
    "\n",
    "for ds in num_dataset_list:\n",
    "    # Compute the hyperplane for the numerical dataset\n",
    "    result_numeric = ridge_regression(0, ds[0]) # alpha = 0 --> linear regression\n",
    "\n",
    "    # Predicting by taking a row of the training set\n",
    "    datapoint = ds[0].iloc[0]\n",
    "\n",
    "    # Compute the Average square loss of the hyperplane (numerical)\n",
    "    lin_num_result.append(avg_square_loss(result_numeric, ds[1]))\n",
    "\n",
    "print(f\"List results:\\t{lin_num_result}\")\n",
    "print(f\"Mean:\\t\\t{np.mean(lin_num_result)}\")\n",
    "print(f\"std:\\t\\t{np.std(lin_num_result)}\")\n",
    "print(f\"variance:\\t{np.var(lin_num_result)}\")"
   ]
  },
  {
   "cell_type": "code",
   "execution_count": 21,
   "metadata": {},
   "outputs": [
    {
     "name": "stdout",
     "output_type": "stream",
     "text": [
      "List results:\t[408.0086604868272, 416.00695032348017, 408.0180517181412]\n",
      "Mean:\t\t410.67788750948284\n",
      "std:\t\t3.7682184035653785\n",
      "variance:\t14.19946993696881\n"
     ]
    }
   ],
   "source": [
    "sk_lin_num_result = []\n",
    "\n",
    "for ds in num_dataset_list:\n",
    "    clf = Ridge(alpha=0)\n",
    "    clf.fit(ds[0].drop(columns='popularity'), ds[0]['popularity'])\n",
    "    sk_lin_num_result.append(mean_squared_error(ds[1]['popularity'], clf.predict(ds[1].drop(columns='popularity'))))\n",
    "\n",
    "print(f\"List results:\\t{sk_lin_num_result}\")\n",
    "print(f\"Mean:\\t\\t{np.mean(sk_lin_num_result)}\")\n",
    "print(f\"std:\\t\\t{np.std(sk_lin_num_result)}\")\n",
    "print(f\"variance:\\t{np.var(sk_lin_num_result)}\")"
   ]
  },
  {
   "cell_type": "code",
   "execution_count": 22,
   "metadata": {},
   "outputs": [
    {
     "name": "stdout",
     "output_type": "stream",
     "text": [
      "Predicted y: \t37.70649504797049\n",
      "Real y: \t52.0\n",
      "Average square loss: \t414.7969798711408\n"
     ]
    }
   ],
   "source": [
    "# Compute the hyperplane for the numerical dataset\n",
    "result_numeric = ridge_regression(0, train_num_df) # alpha = 0 --> linear regression\n",
    "\n",
    "# Predicting by taking a row of the training set\n",
    "datapoint = train_num_df.iloc[0]\n",
    "predicted_y = predict(result_numeric, datapoint)\n",
    "\n",
    "print(f\"Predicted y: \\t{predicted_y}\")\n",
    "print(f\"Real y: \\t{datapoint['popularity']}\")\n",
    "\n",
    "# Compute the Average square loss of the hyperplane (numerical)\n",
    "print(f\"Average square loss: \\t{avg_square_loss(result_numeric, test_num_df)}\")\n",
    "\n",
    "#0.04147969798711406"
   ]
  },
  {
   "cell_type": "code",
   "execution_count": 23,
   "metadata": {},
   "outputs": [
    {
     "data": {
      "text/plain": [
       "408.0086604868272"
      ]
     },
     "execution_count": 23,
     "metadata": {},
     "output_type": "execute_result"
    }
   ],
   "source": [
    "clf = Ridge(alpha=0)\n",
    "clf.fit(train_num_df.drop(columns='popularity'), train_num_df['popularity'])\n",
    "mean_squared_error(test_num_df['popularity'], clf.predict(test_num_df.drop(columns='popularity')))"
   ]
  },
  {
   "cell_type": "markdown",
   "metadata": {},
   "source": [
    "### All features"
   ]
  },
  {
   "cell_type": "code",
   "execution_count": 24,
   "metadata": {},
   "outputs": [
    {
     "name": "stdout",
     "output_type": "stream",
     "text": [
      "List results:\t[273.341721306556, 282.6412846985491, 269.1174077016734]\n",
      "Mean:\t\t275.03347123559286\n",
      "std:\t\t5.649207945865977\n",
      "variance:\t31.913550415635296\n"
     ]
    }
   ],
   "source": [
    "lin_cat_result = []\n",
    "\n",
    "for ds in cat_dataset_list:\n",
    "    # Compute the hyperplane for the numerical dataset\n",
    "    result_numeric = ridge_regression(0, ds[0]) # alpha = 0 --> linear regression\n",
    "\n",
    "    # Predicting by taking a row of the training set\n",
    "    datapoint = ds[0].iloc[0]\n",
    "\n",
    "    # Compute the Average square loss of the hyperplane (numerical)\n",
    "    lin_cat_result.append(avg_square_loss(result_numeric, ds[1]))\n",
    "\n",
    "print(f\"List results:\\t{lin_cat_result}\")\n",
    "print(f\"Mean:\\t\\t{np.mean(lin_cat_result)}\")\n",
    "print(f\"std:\\t\\t{np.std(lin_cat_result)}\")\n",
    "print(f\"variance:\\t{np.var(lin_cat_result)}\")"
   ]
  },
  {
   "cell_type": "code",
   "execution_count": 25,
   "metadata": {},
   "outputs": [
    {
     "name": "stdout",
     "output_type": "stream",
     "text": [
      "List results:\t[273.330698157547, 282.6219498310755, 272.7911252187512]\n",
      "Mean:\t\t276.24792440245784\n",
      "std:\t\t4.51249634257049\n",
      "variance:\t20.362623241712043\n"
     ]
    }
   ],
   "source": [
    "sk_lin_cat_result = []\n",
    "\n",
    "for ds in cat_dataset_list:\n",
    "    clf = Ridge(alpha=0)\n",
    "    clf.fit(ds[0].drop(columns='popularity'), ds[0]['popularity'])\n",
    "    sk_lin_cat_result.append(mean_squared_error(ds[1]['popularity'], clf.predict(ds[1].drop(columns='popularity'))))\n",
    "\n",
    "print(f\"List results:\\t{sk_lin_cat_result}\")\n",
    "print(f\"Mean:\\t\\t{np.mean(sk_lin_cat_result)}\")\n",
    "print(f\"std:\\t\\t{np.std(sk_lin_cat_result)}\")\n",
    "print(f\"variance:\\t{np.var(sk_lin_cat_result)}\")"
   ]
  },
  {
   "cell_type": "code",
   "execution_count": 26,
   "metadata": {},
   "outputs": [
    {
     "name": "stdout",
     "output_type": "stream",
     "text": [
      "Predicted y: \t48.42258413624583\n",
      "Real y: \t52.0\n",
      "Average square loss:  273.341721306556\n"
     ]
    }
   ],
   "source": [
    "# Compute the hyperplane for the categorical dataset\n",
    "result_categoric = ridge_regression(0, train_cat_df) # alpha = 0 --> linear regression\n",
    "\n",
    "# Predicting by taking a row of the training set\n",
    "datapoint = train_cat_df.iloc[0]\n",
    "predicted_y = predict(result_categoric, datapoint)\n",
    "\n",
    "print(f\"Predicted y: \\t{predicted_y}\")\n",
    "print(f\"Real y: \\t{datapoint['popularity']}\")\n",
    "\n",
    "# Compute the Average square loss of the hyperplane (categorical)\n",
    "print(\"Average square loss: \", avg_square_loss(result_categoric, test_cat_df))"
   ]
  },
  {
   "cell_type": "code",
   "execution_count": 27,
   "metadata": {},
   "outputs": [
    {
     "data": {
      "text/plain": [
       "273.330698157547"
      ]
     },
     "execution_count": 27,
     "metadata": {},
     "output_type": "execute_result"
    }
   ],
   "source": [
    "clf = Ridge(alpha=0)\n",
    "clf.fit(train_cat_df.drop(columns='popularity'), train_cat_df['popularity'])\n",
    "mean_squared_error(test_cat_df['popularity'], clf.predict(test_cat_df.drop(columns='popularity')))"
   ]
  },
  {
   "cell_type": "markdown",
   "metadata": {},
   "source": [
    "# (Nested) Cross Validation"
   ]
  },
  {
   "cell_type": "code",
   "execution_count": 28,
   "metadata": {},
   "outputs": [],
   "source": [
    "def cross_validation(k, dataset, alphas):\n",
    "\n",
    "    # Return a df from an arraty of df excepr the i-th\n",
    "    def get_set_except_i(dataset_array, i):\n",
    "        return pd.concat(dataset_array[j] for j in range(len(dataset_array)) if i!=j)\n",
    "    \n",
    "    # Split the dataset into k parts\n",
    "    dataset_array = np.array_split(dataset, k)\n",
    "    \n",
    "    losses = []\n",
    "    best_alphas = []\n",
    "\n",
    "    for i in range(k):\n",
    "        # In the i-th iteration, Si is the test and S\\Si is the training\n",
    "        test_cv = dataset_array[i] #1/k\n",
    "        train_cv = get_set_except_i(dataset_array, i) #1 - 1/k\n",
    "        nested_cv_array = np.array_split(train_cv, k)\n",
    "\n",
    "        # Find the best hyperparameter of your alphas\n",
    "        loss = float(\"inf\")\n",
    "        alpha = 0\n",
    "        for a in alphas:\n",
    "            nested_loss_list = []\n",
    "            for j in range(k):\n",
    "                # Split the training set into a new training set and a valid set (nested CV)\n",
    "                nested_dev_cv = nested_cv_array[j]\n",
    "                nested_train_cv = get_set_except_i(nested_cv_array, j)\n",
    "                predictor = ridge_regression(a, nested_train_cv)\n",
    "                nested_loss_list.append(avg_square_loss(predictor, nested_dev_cv))\n",
    "\n",
    "            local_loss = np.mean(nested_loss_list)\n",
    "            \n",
    "            if loss > local_loss:\n",
    "                loss = local_loss\n",
    "                alpha = a\n",
    "                \n",
    "        # Compute k predictors and their losses\n",
    "        prediction = ridge_regression(alpha, train_cv)\n",
    "        best_alphas.append(alpha)\n",
    "        losses.append(avg_square_loss(prediction, test_cv))\n",
    "\n",
    "    #Find the avg loss of the predictors\n",
    "    ind = losses.index(min(losses))\n",
    "    return np.mean(losses), best_alphas[ind]"
   ]
  },
  {
   "cell_type": "markdown",
   "metadata": {},
   "source": [
    "## Scratch Ridge CV"
   ]
  },
  {
   "cell_type": "code",
   "execution_count": 29,
   "metadata": {},
   "outputs": [
    {
     "name": "stdout",
     "output_type": "stream",
     "text": [
      "Average loss with nested CV:  368.9683061928411\n",
      "Best alpha with nested CV:  40556.54153948436\n"
     ]
    }
   ],
   "source": [
    "K = 5\n",
    "alphas = 10**np.linspace(10, -2, 100)*0.5\n",
    "loss_cv, a_cv = cross_validation(K, categorical_df[:1000], alphas)  #decrease the num of rows of categorical_df\n",
    "print(\"Average loss with nested CV: \", loss_cv)\n",
    "print(\"Best alpha with nested CV: \", a_cv)"
   ]
  },
  {
   "cell_type": "code",
   "execution_count": 30,
   "metadata": {},
   "outputs": [
    {
     "name": "stdout",
     "output_type": "stream",
     "text": [
      "292.09172533921674\n"
     ]
    }
   ],
   "source": [
    "#Experiment with alpha achieved by CV\n",
    "prediction = ridge_regression(a_cv, train_cat_df.sample(7500, random_state=0))\n",
    "print(avg_square_loss(prediction, test_cat_df.sample(2500, random_state=0)))"
   ]
  },
  {
   "cell_type": "markdown",
   "metadata": {},
   "source": [
    "## ScikitLearn Ridge CV"
   ]
  },
  {
   "cell_type": "code",
   "execution_count": 31,
   "metadata": {},
   "outputs": [
    {
     "data": {
      "text/plain": [
       "273.35655020392556"
      ]
     },
     "execution_count": 31,
     "metadata": {},
     "output_type": "execute_result"
    }
   ],
   "source": [
    "alphas = 10**np.linspace(10, -2, 100)*0.5\n",
    "\n",
    "clf = RidgeCV(alphas=alphas, cv=5)\n",
    "clf.fit(categorical_df.drop(columns='popularity'),categorical_df['popularity'])\n",
    "\n",
    "sk_loss_cv = mean_squared_error(categorical_df['popularity'], clf.predict(categorical_df.drop(columns='popularity')))\n",
    "sk_loss_cv\n"
   ]
  },
  {
   "cell_type": "markdown",
   "metadata": {},
   "source": [
    "# Kernel Ridge Regression\n"
   ]
  },
  {
   "cell_type": "markdown",
   "metadata": {},
   "source": [
    "Function that calculates the average distance of the first n datapoints."
   ]
  },
  {
   "cell_type": "code",
   "execution_count": 32,
   "metadata": {},
   "outputs": [],
   "source": [
    "def avg_norm(dataset, n_samples):\n",
    "    d = dataset.sample(n=n_samples, random_state=0).values\n",
    "    norm = 0\n",
    "    n = 0\n",
    "    for i in range(n_samples):\n",
    "        for j in range(i+1,n_samples):\n",
    "            n+=1\n",
    "            norm += (np.linalg.norm(d[i] - d[j]))**2\n",
    "            \n",
    "    return norm/n"
   ]
  },
  {
   "cell_type": "code",
   "execution_count": 33,
   "metadata": {},
   "outputs": [
    {
     "data": {
      "text/plain": [
       "[71913.0352656894,\n",
       " 68506.528238592,\n",
       " 68946.14988342467,\n",
       " 68477.52628531809,\n",
       " 68300.24422713302]"
      ]
     },
     "execution_count": 33,
     "metadata": {},
     "output_type": "execute_result"
    }
   ],
   "source": [
    "norm_list = []\n",
    "for i in [100, 500, 1000, 5000, 10000]:\n",
    "    norm_list.append(avg_norm(categorical_df, i))\n",
    "\n",
    "avg_gamma = norm_list[-1]\n",
    "norm_list"
   ]
  },
  {
   "cell_type": "markdown",
   "metadata": {},
   "source": [
    "|Samples|Average Norm|\n",
    "|-|-|\n",
    "|100|71913 |\n",
    "|500|68506 |\n",
    "|1000|68946|\n",
    "|5000|68477|\n",
    "|10000|68300|\n"
   ]
  },
  {
   "cell_type": "markdown",
   "metadata": {},
   "source": [
    "## Kernel functions based on Gaussian kernel"
   ]
  },
  {
   "cell_type": "code",
   "execution_count": 34,
   "metadata": {},
   "outputs": [],
   "source": [
    "def gaussian_kernel(gamma, v1, v2):\n",
    "    norm = np.square(np.linalg.norm(v1 - v2))\n",
    "    return np.exp((norm)/-(2 * (gamma)))\n",
    "\n",
    "\n",
    "def kernel_ridge_regression(dataset, alpha, gamma):\n",
    "    y = dataset[\"popularity\"]\n",
    "    dataset_values = dataset.drop(columns='popularity').values\n",
    "    n_samples = dataset.shape[0]\n",
    "\n",
    "    kernel = np.zeros((n_samples, n_samples))\n",
    "    for i in range(n_samples):\n",
    "        for j in range(i, n_samples):\n",
    "            kernel[i, j] = gaussian_kernel(gamma, dataset_values[i], dataset_values[j])\n",
    "\n",
    "    # we consider half of the datapoints since it is the 'symmetric'\n",
    "    kernel = np.triu(kernel, 1) + kernel.transpose()\n",
    "    \n",
    "    identity = np.identity(n_samples)\n",
    "\n",
    "    # w = y.transpose() @ np.linalg.inv((alpha * identity + kernel)) \n",
    "    w = np.linalg.solve(alpha * identity + kernel, y)\n",
    "\n",
    "    w_df = pd.DataFrame(w, columns=['weights'])\n",
    "    return w_df\n",
    "\n",
    "\n",
    "def kernel_predict(w, dataset, x, gamma):\n",
    "    x_values = x.drop(labels='popularity').values\n",
    "    dataset_values = dataset.drop(columns='popularity').values\n",
    "    kernel_values = np.array([gaussian_kernel(gamma, x_values, x_i) for x_i in dataset_values])\n",
    "    prediction = w['weights'] @ kernel_values\n",
    "    return prediction\n",
    "\n",
    "\n",
    "def kernel_avg_square_loss(w, train_set, test_set, gamma):\n",
    "    y = test_set[[\"popularity\"]]\n",
    "    predictions = test_set.apply(lambda r: kernel_predict(w, train_set, r, gamma), 1)\n",
    "    squared_diff = (predictions - y.transpose())**2\n",
    "    return np.mean(squared_diff, axis=1)[0]\n"
   ]
  },
  {
   "cell_type": "markdown",
   "metadata": {},
   "source": [
    "### Test Kernel only on numerical features"
   ]
  },
  {
   "cell_type": "code",
   "execution_count": 35,
   "metadata": {},
   "outputs": [
    {
     "name": "stdout",
     "output_type": "stream",
     "text": [
      "List results:\t[392.3796389712736, 398.66339152955396, 389.5254065855949]\n",
      "Mean:\t\t393.5228123621409\n",
      "std:\t\t3.8171390910118124\n",
      "variance:\t14.570550840130487\n"
     ]
    }
   ],
   "source": [
    "kernel_num_result = []\n",
    "\n",
    "for ds in num_dataset_list:\n",
    "    # Test kernel on numerical features\n",
    "    train_set = ds[0].sample(7500, random_state=0)\n",
    "    test_set = ds[1].sample(2500, random_state=0)\n",
    "    \n",
    "    # Take gamma as average distance\n",
    "    gamma = avg_norm(train_set, train_set.shape[0])\n",
    "    w = kernel_ridge_regression(train_set, 1, gamma)\n",
    "    \n",
    "    kernel_num_result.append(kernel_avg_square_loss(w, train_set, test_set, gamma))\n",
    "\n",
    "print(f\"List results:\\t{kernel_num_result}\")\n",
    "print(f\"Mean:\\t\\t{np.mean(kernel_num_result)}\")\n",
    "print(f\"std:\\t\\t{np.std(kernel_num_result)}\")\n",
    "print(f\"variance:\\t{np.var(kernel_num_result)}\")"
   ]
  },
  {
   "cell_type": "code",
   "execution_count": 36,
   "metadata": {},
   "outputs": [
    {
     "name": "stdout",
     "output_type": "stream",
     "text": [
      "52.0\n",
      "41.65114501917611\n",
      "AVG Square loss:  392.3796389712736\n",
      "AVG loss:  19.808574884914705\n"
     ]
    }
   ],
   "source": [
    "# Test kernel on numerical features\n",
    "train_set = train_num_df.sample(7500, random_state=0)\n",
    "test_set = test_num_df.sample(2500, random_state=0)\n",
    "x = numerical_df.iloc[0]\n",
    "\n",
    "# Take gamma as average distance\n",
    "gamma = avg_norm(train_set, train_set.shape[0])\n",
    "w = kernel_ridge_regression(train_set, 1, gamma)\n",
    "\n",
    "print(x['popularity'])\n",
    "print(kernel_predict(w, train_set, x, gamma))\n",
    "\n",
    "kernel_loss = kernel_avg_square_loss(w, train_set, test_set, gamma)\n",
    "print(\"AVG Square loss: \", kernel_loss)\n",
    "print(\"AVG loss: \", kernel_loss**(1/2))"
   ]
  },
  {
   "cell_type": "markdown",
   "metadata": {},
   "source": [
    "### Test Kernel on all features"
   ]
  },
  {
   "cell_type": "code",
   "execution_count": 37,
   "metadata": {},
   "outputs": [
    {
     "name": "stdout",
     "output_type": "stream",
     "text": [
      "List restults:\t[281.3018667901998, 274.46312171558907, 263.2577470380065]\n",
      "Mean:\t\t273.0075785145985\n",
      "std:\t\t7.4380337417597815\n",
      "variance:\t55.32434594355701\n"
     ]
    }
   ],
   "source": [
    "kernel_cat_result = []\n",
    "\n",
    "for ds in cat_dataset_list:\n",
    "    # Test kernel on numerical features\n",
    "    train_set = ds[0].sample(7500, random_state=0)\n",
    "    test_set = ds[1].sample(2500, random_state=0)\n",
    "    \n",
    "    # Take gamma as average distance\n",
    "    gamma = avg_norm(train_set, train_set.shape[0])\n",
    "    w = kernel_ridge_regression(train_set, 1, gamma)\n",
    "    \n",
    "    kernel_cat_result.append(kernel_avg_square_loss(w, train_set, test_set, gamma))\n",
    "\n",
    "print(f\"List restults:\\t{kernel_cat_result}\")\n",
    "print(f\"Mean:\\t\\t{np.mean(kernel_cat_result)}\")\n",
    "print(f\"std:\\t\\t{np.std(kernel_cat_result)}\")\n",
    "print(f\"variance:\\t{np.var(kernel_cat_result)}\")"
   ]
  },
  {
   "cell_type": "code",
   "execution_count": 38,
   "metadata": {},
   "outputs": [
    {
     "name": "stdout",
     "output_type": "stream",
     "text": [
      "52.0\n",
      "52.85568102963468\n",
      "AVG Square loss:  281.3018667901998\n",
      "AVG loss:  16.77205612887698\n"
     ]
    }
   ],
   "source": [
    "# Test kernel on all features\n",
    "train_set = train_cat_df.sample(7500, random_state=0)\n",
    "test_set = test_cat_df.sample(2500, random_state=0)\n",
    "x = categorical_df.iloc[0]\n",
    "\n",
    "gamma = avg_norm(train_set, train_set.shape[0])\n",
    "w = kernel_ridge_regression(train_set, 1, gamma)\n",
    "\n",
    "print(x['popularity'])\n",
    "print(kernel_predict(w, train_set, x, gamma))\n",
    "\n",
    "kernel_loss = kernel_avg_square_loss(w, train_set, test_set, gamma)\n",
    "print(\"AVG Square loss: \", kernel_loss)\n",
    "print(\"AVG loss: \", kernel_loss**(1/2))"
   ]
  },
  {
   "cell_type": "markdown",
   "metadata": {},
   "source": [
    "## ScikitLearn Kernel Ridge regression (RBF)\n",
    "\n",
    "If we want to set the same gaussian kernel function, we would pass the root square gamma"
   ]
  },
  {
   "cell_type": "markdown",
   "metadata": {},
   "source": [
    "### Numerical"
   ]
  },
  {
   "cell_type": "code",
   "execution_count": 39,
   "metadata": {},
   "outputs": [
    {
     "name": "stdout",
     "output_type": "stream",
     "text": [
      "Training results\n",
      "List results:\t[402.85281326818443, 394.4587412570293, 407.7615951847181]\n",
      "Mean:\t\t401.6910499033106\n",
      "std:\t\t5.492646674863183\n",
      "variance:\t30.169167494885574\n",
      "Testing results\n",
      "List results:\t[404.1891710664254, 406.6525307112592, 396.86610465870984]\n",
      "Mean:\t\t402.5692688121315\n",
      "std:\t\t4.156248003957742\n",
      "variance:\t17.274397470402718\n"
     ]
    }
   ],
   "source": [
    "sk_kernel_train_num_result = []\n",
    "sk_kernel_test_num_result = []\n",
    "\n",
    "for ds in num_dataset_list:\n",
    "    train_set = ds[0].sample(7500, random_state=0)\n",
    "    test_set = ds[1].sample(2500, random_state=0)\n",
    "    \n",
    "    clf = KernelRidge(kernel=RBF(avg_gamma**(1/2)), alpha=1, gamma=avg_gamma)\n",
    "    clf.fit(train_set.drop(columns='popularity'), train_set['popularity'])\n",
    "\n",
    "    sk_kernel_train_num_result.append(mean_squared_error(train_set['popularity'], clf.predict(train_set.drop(columns='popularity'))))\n",
    "    sk_kernel_test_num_result.append(mean_squared_error(test_set['popularity'], clf.predict(test_set.drop(columns='popularity'))))\n",
    "\n",
    "print(\"Training results\")\n",
    "print(f\"List results:\\t{sk_kernel_train_num_result}\")\n",
    "print(f\"Mean:\\t\\t{np.mean(sk_kernel_train_num_result)}\")\n",
    "print(f\"std:\\t\\t{np.std(sk_kernel_train_num_result)}\")\n",
    "print(f\"variance:\\t{np.var(sk_kernel_train_num_result)}\")\n",
    "\n",
    "print(\"Testing results\")\n",
    "print(f\"List results:\\t{sk_kernel_test_num_result}\")\n",
    "print(f\"Mean:\\t\\t{np.mean(sk_kernel_test_num_result)}\")\n",
    "print(f\"std:\\t\\t{np.std(sk_kernel_test_num_result)}\")\n",
    "print(f\"variance:\\t{np.var(sk_kernel_test_num_result)}\")"
   ]
  },
  {
   "cell_type": "code",
   "execution_count": 40,
   "metadata": {},
   "outputs": [
    {
     "name": "stdout",
     "output_type": "stream",
     "text": [
      "Train  402.85281326818443\n",
      "Test  404.1891710664254\n"
     ]
    }
   ],
   "source": [
    "# Scikitlearn Kernel Ridge regression on numerical features\n",
    "train_set = train_num_df.sample(7500, random_state=0)\n",
    "test_set = test_num_df.sample(2500, random_state=0)\n",
    "\n",
    "clf = KernelRidge(kernel=RBF(avg_gamma**(1/2)), alpha=1, gamma=avg_gamma)\n",
    "clf.fit(train_set.drop(columns='popularity'), train_set['popularity'])\n",
    "sk_kernel_train_loss = mean_squared_error(train_set['popularity'], clf.predict(train_set.drop(columns='popularity')))\n",
    "sk_kernel_test_loss = mean_squared_error(test_set['popularity'], clf.predict(test_set.drop(columns='popularity')))\n",
    "print(\"Train \", sk_kernel_train_loss)\n",
    "print(\"Test \", sk_kernel_test_loss)"
   ]
  },
  {
   "cell_type": "markdown",
   "metadata": {},
   "source": [
    "### Categorical"
   ]
  },
  {
   "cell_type": "code",
   "execution_count": 41,
   "metadata": {},
   "outputs": [
    {
     "name": "stdout",
     "output_type": "stream",
     "text": [
      "Training results\n",
      "List results:\t[237.3207702912004, 229.43850999008052, 244.41374457024708]\n",
      "Mean:\t\t237.05767495050932\n",
      "std:\t\t6.116443795293366\n",
      "variance:\t37.41088470098271\n",
      "Testing results\n",
      "List results:\t[281.3058555833841, 274.42816183179275, 263.2180508952149]\n",
      "Mean:\t\t272.9840227701306\n",
      "std:\t\t7.454587975710107\n",
      "variance:\t55.5708818876017\n"
     ]
    }
   ],
   "source": [
    "sk_kernel_train_cat_result = []\n",
    "sk_kernel_test_cat_result = []\n",
    "\n",
    "for ds in cat_dataset_list:\n",
    "    train_set = ds[0].sample(7500, random_state=0)\n",
    "    test_set = ds[1].sample(2500, random_state=0)\n",
    "    \n",
    "    clf = KernelRidge(kernel=RBF(avg_gamma**(1/2)), alpha=1, gamma=avg_gamma)\n",
    "    clf.fit(train_set.drop(columns='popularity'), train_set['popularity'])\n",
    "\n",
    "    sk_kernel_train_cat_result.append(mean_squared_error(train_set['popularity'], clf.predict(train_set.drop(columns='popularity'))))\n",
    "    sk_kernel_test_cat_result.append(mean_squared_error(test_set['popularity'], clf.predict(test_set.drop(columns='popularity'))))\n",
    "\n",
    "print(\"Training results\")\n",
    "print(f\"List results:\\t{sk_kernel_train_cat_result}\")\n",
    "print(f\"Mean:\\t\\t{np.mean(sk_kernel_train_cat_result)}\")\n",
    "print(f\"std:\\t\\t{np.std(sk_kernel_train_cat_result)}\")\n",
    "print(f\"variance:\\t{np.var(sk_kernel_train_cat_result)}\")\n",
    "\n",
    "print(\"Testing results\")\n",
    "print(f\"List results:\\t{sk_kernel_test_cat_result}\")\n",
    "print(f\"Mean:\\t\\t{np.mean(sk_kernel_test_cat_result)}\")\n",
    "print(f\"std:\\t\\t{np.std(sk_kernel_test_cat_result)}\")\n",
    "print(f\"variance:\\t{np.var(sk_kernel_test_cat_result)}\")"
   ]
  },
  {
   "cell_type": "code",
   "execution_count": 42,
   "metadata": {},
   "outputs": [
    {
     "name": "stdout",
     "output_type": "stream",
     "text": [
      "Train  237.3207702912004\n",
      "Test  281.3058555833841\n"
     ]
    }
   ],
   "source": [
    "# Scikitlearn Kernel Ridge regression on all features\n",
    "train_set = train_cat_df.sample(7500, random_state=0)\n",
    "test_set = test_cat_df.sample(2500, random_state=0)\n",
    "\n",
    "clf = KernelRidge(kernel=RBF(avg_gamma**(1/2)), alpha=1, gamma=avg_gamma)\n",
    "clf.fit(train_set.drop(columns='popularity'), train_set['popularity'])\n",
    "sk_kernel_train_loss = mean_squared_error(train_set['popularity'], clf.predict(train_set.drop(columns='popularity')))\n",
    "sk_kernel_test_loss = mean_squared_error(test_set['popularity'], clf.predict(test_set.drop(columns='popularity')))\n",
    "print(\"Train \", sk_kernel_train_loss)\n",
    "print(\"Test \", sk_kernel_test_loss)"
   ]
  },
  {
   "cell_type": "markdown",
   "metadata": {},
   "source": [
    "## ScikitLearn Kernel Ridge regression (Linear)"
   ]
  },
  {
   "cell_type": "markdown",
   "metadata": {},
   "source": [
    "### Numerical"
   ]
  },
  {
   "cell_type": "code",
   "execution_count": 43,
   "metadata": {},
   "outputs": [
    {
     "name": "stdout",
     "output_type": "stream",
     "text": [
      "Train  417.56792819712075\n",
      "Test  422.7381725638246\n"
     ]
    }
   ],
   "source": [
    "# Scikitlearn Kernel Ridge regression on numerical features\n",
    "train_set = train_num_df.sample(7500, random_state=0)\n",
    "test_set = test_num_df.sample(2500, random_state=0)\n",
    "\n",
    "clf = KernelRidge(alpha=1)\n",
    "clf.fit(train_set.drop(columns='popularity'), train_set['popularity'])\n",
    "sk_kernel_lin_train_loss = mean_squared_error(train_set['popularity'], clf.predict(train_set.drop(columns='popularity')))\n",
    "sk_kernel_lin_test_loss = mean_squared_error(test_set['popularity'], clf.predict(test_set.drop(columns='popularity')))\n",
    "print(\"Train \", sk_kernel_lin_train_loss)\n",
    "print(\"Test \", sk_kernel_lin_test_loss)"
   ]
  },
  {
   "cell_type": "markdown",
   "metadata": {},
   "source": [
    "### Categorical"
   ]
  },
  {
   "cell_type": "code",
   "execution_count": 44,
   "metadata": {},
   "outputs": [
    {
     "name": "stdout",
     "output_type": "stream",
     "text": [
      "Train  269.1032553788782\n",
      "Test  291.2685628588211\n"
     ]
    }
   ],
   "source": [
    "# Scikitlearn Kernel Ridge regression on all features\n",
    "train_set = train_cat_df.sample(7500, random_state=0)\n",
    "test_set = test_cat_df.sample(2500, random_state=0)\n",
    "\n",
    "clf = KernelRidge(alpha=1)\n",
    "clf.fit(train_set.drop(columns='popularity'), train_set['popularity'])\n",
    "sk_kernel_lin_train_loss = mean_squared_error(train_set['popularity'], clf.predict(train_set.drop(columns='popularity')))\n",
    "sk_kernel_lin_test_loss = mean_squared_error(test_set['popularity'], clf.predict(test_set.drop(columns='popularity')))\n",
    "print(\"Train \", sk_kernel_lin_train_loss)\n",
    "print(\"Test \", sk_kernel_lin_test_loss)"
   ]
  },
  {
   "cell_type": "markdown",
   "metadata": {},
   "source": [
    "## Kernel Cross Validation"
   ]
  },
  {
   "cell_type": "code",
   "execution_count": 45,
   "metadata": {},
   "outputs": [],
   "source": [
    "# Generating the sets of hyperparameters\n",
    "alphas = 10. ** np.arange(-2, 5)\n",
    "gammas = np.logspace(1, 100, num=5, base=1.5)"
   ]
  },
  {
   "cell_type": "code",
   "execution_count": 46,
   "metadata": {},
   "outputs": [],
   "source": [
    "def kernel_cross_validation(k, dataset, alpha, gammas):\n",
    "    # Return a df from an arraty of df excepr the i-th\n",
    "    def get_set_except_i(dataset_array, i):\n",
    "        return pd.concat(dataset_array[j] for j in range(len(dataset_array)) if i!=j)\n",
    "\n",
    "    # Split the dataset into k parts\n",
    "    dataset_array = np.array_split(dataset, k)\n",
    "\n",
    "    losses = []\n",
    "    best_gammas= []\n",
    "\n",
    "    for i in range(k):\n",
    "        # In the i-th iteration, Si is the test and S\\Si is the training\n",
    "        test_cv = dataset_array[i]\n",
    "        train_cv = get_set_except_i(dataset_array, i)\n",
    "\n",
    "        # Split the training set into a new training set and a valid set (nested CV)\n",
    "        nested_cv_array = np.array_split(train_cv, k)\n",
    "        \n",
    "        # Find the best hyperparameter of your gammas\n",
    "        loss = float(\"inf\")\n",
    "        gamma = 0\n",
    "        for g in gammas:\n",
    "            nested_loss_list = []\n",
    "            for j in range(k):\n",
    "                nested_dev_cv = nested_cv_array[j]\n",
    "                nested_train_cv = get_set_except_i(nested_cv_array, j)\n",
    "                predictor = kernel_ridge_regression(nested_train_cv, alpha, g)\n",
    "                nested_loss_list.append(kernel_avg_square_loss(predictor, nested_train_cv, nested_dev_cv, g))\n",
    "\n",
    "            local_loss = np.mean(nested_loss_list)\n",
    "            if loss > local_loss:\n",
    "                loss = local_loss\n",
    "                gamma = g\n",
    "\n",
    "        # Compute k predictors and their losses\n",
    "        prediction = kernel_ridge_regression(train_cv, alpha, gamma)\n",
    "        best_gammas.append(gamma)\n",
    "        losses.append(kernel_avg_square_loss(prediction, train_cv, test_cv, gamma))\n",
    "\n",
    "    # Find the avg loss of the predictors\n",
    "    ind = losses.index(min(losses))\n",
    "    return np.mean(losses), best_gammas[ind]"
   ]
  },
  {
   "cell_type": "markdown",
   "metadata": {},
   "source": [
    "### KCV on gammas"
   ]
  },
  {
   "cell_type": "code",
   "execution_count": 47,
   "metadata": {},
   "outputs": [
    {
     "name": "stdout",
     "output_type": "stream",
     "text": [
      "alphas: [1.e-02 1.e-01 1.e+00 1.e+01 1.e+02 1.e+03 1.e+04]\n",
      "gammas: [780923662.2761682, 780923662.2761682, 34225.50939597908, 34225.50939597908, 4.065611775352152e+17, 4.065611775352152e+17, 4.065611775352152e+17]\n",
      "losses: [461.2962977873887, 466.4254869466343, 396.1994277264696, 417.7059687816134, 468.6194096000034, 946.459363877575, 1367.7979434282602]\n"
     ]
    }
   ],
   "source": [
    "K = 5\n",
    "kcv_size = 500\n",
    "kcv_df = categorical_df.sample(kcv_size, random_state=0)\n",
    "kernel_cv_losses = []\n",
    "kernel_cv_gamma = []\n",
    "for a in alphas:\n",
    "    tmp = kernel_cross_validation(K, kcv_df, a, gammas)\n",
    "    kernel_cv_losses.append(tmp[0])\n",
    "    kernel_cv_gamma.append(tmp[2])\n",
    "\n",
    "print(f\"alphas: {alphas}\")\n",
    "print(f\"gammas: {kernel_cv_gamma}\")\n",
    "print(f\"losses: {kernel_cv_losses}\")"
   ]
  },
  {
   "cell_type": "code",
   "execution_count": 48,
   "metadata": {},
   "outputs": [
    {
     "name": "stdout",
     "output_type": "stream",
     "text": [
      "Best alpha: 1.0\n",
      "Best gamma: 34225.50939597908\n"
     ]
    }
   ],
   "source": [
    "# Retrieve the best alpha with its best corrispondent gamma\n",
    "ind = kernel_cv_losses.index(min(kernel_cv_losses))\n",
    "best_alpha = alphas[ind]\n",
    "best_gamma = kernel_cv_gamma[ind]\n",
    "\n",
    "print(f\"Best alpha: {best_alpha}\")\n",
    "print(f\"Best gamma: {best_gamma}\")"
   ]
  },
  {
   "cell_type": "code",
   "execution_count": 49,
   "metadata": {},
   "outputs": [
    {
     "data": {
      "text/plain": [
       "276.1403232863619"
      ]
     },
     "execution_count": 49,
     "metadata": {},
     "output_type": "execute_result"
    }
   ],
   "source": [
    "# Train and test Kernel CV with bigger set sizes\n",
    "train_cv = train_cat_df.sample(7500, random_state=0)\n",
    "test_cv = test_cat_df.sample(2500, random_state=0)\n",
    "prediction = kernel_ridge_regression(train_cv, best_alpha, best_gamma)\n",
    "kcv_loss = kernel_avg_square_loss(prediction, train_cv, test_cv, best_gamma)\n",
    "kcv_loss"
   ]
  },
  {
   "cell_type": "code",
   "execution_count": 50,
   "metadata": {},
   "outputs": [
    {
     "data": {
      "text/plain": [
       "Text(0.5, 1.0, 'Hyperparameter tuning in Kernel Ridge regression')"
      ]
     },
     "execution_count": 50,
     "metadata": {},
     "output_type": "execute_result"
    },
    {
     "data": {
      "image/png": "[encoded data removed]",
      "text/plain": [
       "<Figure size 640x480 with 1 Axes>"
      ]
     },
     "metadata": {},
     "output_type": "display_data"
    }
   ],
   "source": [
    "bar_alpha = [f'{i}' for i in alphas] \n",
    "bar_name = [str(i) for i in kernel_cv_gamma]\n",
    "bar_value = kernel_cv_losses\n",
    "bar_colors = ['tab:green', 'tab:orange', 'tab:blue', 'tab:red', 'y', 'c', 'm']\n",
    "\n",
    "bars = plt.bar(bar_alpha, bar_value, label=bar_name, color=bar_colors)\n",
    "for b in bars:\n",
    "    height = b.get_height()\n",
    "    plt.text(b.get_x() + b.get_width() / 2.0, height, f'{height:.3f}', ha='center', va='bottom')\n",
    "    plt.text(b.get_x() + b.get_width() / 2.0, height/2, f'{float(b.get_label()):.1}', ha='center', va='bottom')\n",
    "\n",
    "plt.ylabel('MSE')\n",
    "plt.xlabel('Alpha')\n",
    "plt.title('Hyperparameter tuning in Kernel Ridge regression')"
   ]
  },
  {
   "cell_type": "markdown",
   "metadata": {},
   "source": [
    "# CV vs. Kernel Ridge regression"
   ]
  },
  {
   "cell_type": "code",
   "execution_count": 53,
   "metadata": {},
   "outputs": [],
   "source": [
    "# bar_name = ['CV_scratch', 'CV_SK']\n",
    "# bar_value = [loss_cv, sk_loss_cv]\n",
    "# bar_colors = ['tab:green', 'tab:orange']\n",
    "\n",
    "# bars = plt.bar(bar_name, bar_value, label=bar_name, color=bar_colors)\n",
    "# for b in bars:\n",
    "#     height = b.get_height()\n",
    "#     plt.text(b.get_x() + b.get_width() / 2.0, height, f'{height:.4f}', ha='center', va='bottom')\n",
    "# plt.ylabel('MSE')\n",
    "# plt.title('CV: scratch vs scikit-learn')\n",
    "# plt.legend()\n"
   ]
  },
  {
   "cell_type": "code",
   "execution_count": 52,
   "metadata": {},
   "outputs": [
    {
     "data": {
      "text/plain": [
       "Text(0.5, 1.0, 'Kernel Ridge Regression: scratch vs scikit-learn')"
      ]
     },
     "execution_count": 52,
     "metadata": {},
     "output_type": "execute_result"
    },
    {
     "data": {
      "image/png": "[encoded data removed]",
      "text/plain": [
       "<Figure size 640x480 with 1 Axes>"
      ]
     },
     "metadata": {},
     "output_type": "display_data"
    }
   ],
   "source": [
    "bar_name = ['scratch_kernel', 'CV_kernel', 'SK_kernel']\n",
    "bar_value = [kernel_loss, kcv_loss, sk_kernel_test_loss]\n",
    "bar_colors = ['tab:green', 'tab:blue', 'tab:orange']\n",
    "\n",
    "bars = plt.bar(bar_name, bar_value, label=bar_name, color=bar_colors)\n",
    "for b in bars:\n",
    "    height = b.get_height()\n",
    "    plt.text(b.get_x() + b.get_width() / 2.0, height, f'{height:.4f}', ha='center', va='bottom')\n",
    "plt.ylabel('MSE')\n",
    "plt.title('Kernel Ridge Regression: scratch vs scikit-learn')\n",
    "# plt.legend()\n"
   ]
  }
 ],
 "metadata": {
  "kernelspec": {
   "display_name": "Python 3",
   "language": "python",
   "name": "python3"
  },
  "language_info": {
   "codemirror_mode": {
    "name": "ipython",
    "version": 3
   },
   "file_extension": ".py",
   "mimetype": "text/x-python",
   "name": "python",
   "nbconvert_exporter": "python",
   "pygments_lexer": "ipython3",
   "version": "3.10.8"
  },
  "orig_nbformat": 4
 },
 "nbformat": 4,
 "nbformat_minor": 2
}
