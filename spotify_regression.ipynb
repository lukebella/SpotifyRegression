{
 "cells": [
  {
   "cell_type": "markdown",
   "metadata": {},
   "source": [
    "# (Kernel) Ridge Regression\n",
    "Download the Spotify Tracks Dataset and perform ridge regression to predict the tracks’ popularity. Note that this dataset contains both numerical and categorical features. The student is thus required to follow these guidelines:\n",
    "- first, train the model using only the numerical features,\n",
    "- second, appropriately handle the categorical features (for example, with one-hot encoding or other techniques) and use them together with the numerical ones to train the model, in both cases, experiment with different training parameters, \n",
    "- use 5-fold cross validation to compute your risk estimates, thoroughly discuss and compare the performance of the model\n",
    "\n",
    "The student is required to implement from scratch (without using libraries, such as Scikit-learn) the code for the ridge regression, while it is not mandatory to do so for the implementation of the 5-fold cross-validation.\n",
    "\n",
    "Optional: Instead of regular ridge regression, implement kernel ridge regression using a Gaussian kernel.\n"
   ]
  },
  {
   "cell_type": "code",
   "execution_count": null,
   "metadata": {},
   "outputs": [],
   "source": [
    "import pandas as pd\n",
    "import numpy as np"
   ]
  },
  {
   "cell_type": "code",
   "execution_count": null,
   "metadata": {},
   "outputs": [],
   "source": [
    "dataset = \"data/dataset.csv\"\n",
    "\n",
    "dataset_df = pd.read_csv(dataset).drop(columns='Unnamed: 0')\n",
    "dataset_df"
   ]
  },
  {
   "cell_type": "code",
   "execution_count": null,
   "metadata": {},
   "outputs": [],
   "source": [
    "np.random.seed(0)\n",
    "mask = np.random.rand(len(dataset_df))<0.7\n",
    "\n",
    "train_df = dataset_df[mask]\n",
    "test_df = dataset_df[~mask]\n",
    "\n",
    "y_train_df = train_df[[\"popularity\"]]\n",
    "y_train_df"
   ]
  },
  {
   "cell_type": "code",
   "execution_count": null,
   "metadata": {},
   "outputs": [],
   "source": [
    "def ridge_regression(alpha, y, s):\n",
    "    n_rows, n_cols = s.shape  # Get the dimensions of the input matrix s\n",
    "    s_t = s.transpose()  # Transpose of matrix s\n",
    "    \n",
    "    # Calculate the identity matrix with the appropriate size\n",
    "    identity = np.identity(n_cols)\n",
    "    \n",
    "    # Calculate the ridge regression coefficients using matrix operations\n",
    "    w = np.linalg.inv(alpha * identity + np.dot(s_t, s)).dot(s_t).dot(y)\n",
    "    \n",
    "    # Convert the coefficients to a DataFrame for better presentation\n",
    "    w_df = pd.DataFrame(w, columns=[\"Values\"], index=s.columns)\n",
    "    \n",
    "    return w_df\n",
    "\n",
    "\n",
    "def predict(w, x):\n",
    "    return w.transpose().dot(x)"
   ]
  },
  {
   "cell_type": "code",
   "execution_count": null,
   "metadata": {},
   "outputs": [],
   "source": [
    "#Numerical features\n",
    "\n",
    "train_numeric_df = train_df[[\"duration_ms\",\"danceability\", \"energy\", \"loudness\",\"speechiness\", \"acousticness\", \"instrumentalness\", \"liveness\", \"valence\", \"tempo\"]]\n",
    "test_numeric_df = test_df[[\"duration_ms\",\"danceability\", \"energy\", \"loudness\",\"speechiness\", \"acousticness\", \"instrumentalness\", \"liveness\", \"valence\", \"tempo\"]]\n"
   ]
  },
  {
   "cell_type": "code",
   "execution_count": null,
   "metadata": {},
   "outputs": [],
   "source": [
    "alpha = 0.9\n",
    "\n",
    "result_numeric = ridge_regression(alpha, y_train_df, train_numeric_df)\n",
    "result_numeric"
   ]
  },
  {
   "cell_type": "code",
   "execution_count": null,
   "metadata": {},
   "outputs": [],
   "source": [
    "predict(result_numeric, train_numeric_df.iloc[0])"
   ]
  },
  {
   "cell_type": "code",
   "execution_count": null,
   "metadata": {},
   "outputs": [],
   "source": [
    "def square_avg_loss(w, test_df, y):\n",
    "    X = test_df.values  # Convert the DataFrame to a numpy array\n",
    "    # Calculate predictions for all rows at once\n",
    "    predictions = np.dot(X, w)\n",
    "   \n",
    "    squared_diff = (predictions -  y)**2\n",
    "    total_loss = np.sum(squared_diff)\n",
    "    return total_loss.values[0]/test_df.shape[0]\n",
    "\n",
    "y_test_df= test_df[[\"popularity\"]]\n",
    "print(\"Loss: \",square_avg_loss(result_numeric, test_numeric_df, y_test_df))\n",
    "\n",
    "\n",
    "#TODO for each alpha, save the computed loss in order to draw a graph "
   ]
  },
  {
   "cell_type": "code",
   "execution_count": null,
   "metadata": {},
   "outputs": [],
   "source": [
    "categorical_df = pd.get_dummies(dataset_df.drop(columns= [\"popularity\", \"track_id\", \"artists\", \"album_name\", \"track_name\"]), \n",
    "                                columns = ['explicit','key', 'mode', 'time_signature', 'track_genre'], dtype=int)\n",
    "\n",
    "train_cat_df = categorical_df[mask]\n",
    "test_cat_df = categorical_df[~mask]\n",
    "\n",
    "train_cat_df\n"
   ]
  },
  {
   "cell_type": "code",
   "execution_count": null,
   "metadata": {},
   "outputs": [],
   "source": [
    "result = ridge_regression(alpha, y_train_df, train_cat_df)\n",
    "result\n"
   ]
  },
  {
   "cell_type": "code",
   "execution_count": null,
   "metadata": {},
   "outputs": [],
   "source": [
    "predict(result, train_cat_df.iloc[0])\n",
    "print(\"Loss: \",square_avg_loss(result, test_cat_df, y_test_df))\n",
    "\n",
    "#TODO try to avoid some features for seeing whether or not the loss decreases"
   ]
  },
  {
   "cell_type": "markdown",
   "metadata": {},
   "source": [
    "# Cross Validation"
   ]
  },
  {
   "cell_type": "code",
   "execution_count": null,
   "metadata": {},
   "outputs": [],
   "source": [
    "\n",
    "def get_training_set(dataset_array, i):\n",
    "    return pd.concat(dataset_array[j] for j in range(len(dataset_array)) if i!=j)\n",
    "\n",
    "\n",
    "K = 5\n",
    "alphas = 10**np.linspace(10,-2,100)*0.5\n",
    "\n",
    "cv_df = categorical_df.copy()\n",
    "cv_df.insert(0, \"popularity\", dataset_df['popularity'], True)\n",
    "cv_df\n"
   ]
  },
  {
   "cell_type": "code",
   "execution_count": null,
   "metadata": {},
   "outputs": [],
   "source": [
    "dataset_array = np.array_split(cv_df, K)\n",
    "#dataset_df.shape --> 114000 rows\n",
    "\n",
    "losses = [] \n",
    "print(len(alphas))\n",
    "for i in range(K):\n",
    "    test_cv = dataset_array[i] \n",
    "    train_cv = get_training_set(dataset_array, i) \n",
    "\n",
    "    train_cv_array = np.array_split(train_cv, K-1) \n",
    "    dev_set = train_cv_array[0]\n",
    "    nested_cv = get_training_set(train_cv_array, 0)\n",
    "    \n",
    "    loss = float(\"inf\")\n",
    "    a = 0\n",
    "    for alpha in alphas:\n",
    "        #hyperparameter, y_training, training_set\n",
    "        predictor = ridge_regression(alpha, nested_cv[['popularity']], nested_cv.drop(columns='popularity'))  \n",
    "        #result, test_set, y_test\n",
    "        local_loss = square_avg_loss(predictor, dev_set.drop(columns='popularity'), dev_set[['popularity']])\n",
    "        if loss > local_loss:\n",
    "            loss = local_loss\n",
    "            a = alpha\n",
    "             \n",
    "    \n",
    "    prediction = ridge_regression(a, train_cv[['popularity']], train_cv.drop(columns='popularity'))\n",
    "    losses.append(square_avg_loss(prediction, test_cv.drop(columns='popularity'),test_cv[['popularity']]))\n",
    "\n",
    "\n",
    "np.mean(losses)\n",
    "#Split the dataset into k parts\n",
    "#In the i-th iteration, Si is the test and S\\Si is the training\n",
    "    #Split the training set into a new training set and a valid set\n",
    "    #Find the best hyperparameter of your alphas\n",
    "#Compute k predictors and their losses\n",
    "#Find the avg loss of the predictors"
   ]
  }
 ],
 "metadata": {
  "kernelspec": {
   "display_name": "Python 3",
   "language": "python",
   "name": "python3"
  },
  "language_info": {
   "codemirror_mode": {
    "name": "ipython",
    "version": 3
   },
   "file_extension": ".py",
   "mimetype": "text/x-python",
   "name": "python",
   "nbconvert_exporter": "python",
   "pygments_lexer": "ipython3",
   "version": "3.10.8"
  },
  "orig_nbformat": 4
 },
 "nbformat": 4,
 "nbformat_minor": 2
}
