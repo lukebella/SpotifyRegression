{
 "cells": [
  {
   "cell_type": "markdown",
   "metadata": {},
   "source": [
    "# (Kernel) Ridge Regression\n",
    "Download the Spotify Tracks Dataset and perform ridge regression to predict the tracks’ popularity. Note that this dataset contains both numerical and categorical features. The student is thus required to follow these guidelines:\n",
    "- first, train the model using only the numerical features,\n",
    "- second, appropriately handle the categorical features (for example, with one-hot encoding or other techniques) and use them together with the numerical ones to train the model, in both cases, experiment with different training parameters, \n",
    "- use 5-fold cross validation to compute your risk estimates, thoroughly discuss and compare the performance of the model\n",
    "\n",
    "The student is required to implement from scratch (without using libraries, such as Scikit-learn) the code for the ridge regression, while it is not mandatory to do so for the implementation of the 5-fold cross-validation.\n",
    "\n",
    "Optional: Instead of regular ridge regression, implement kernel ridge regression using a Gaussian kernel.\n"
   ]
  },
  {
   "cell_type": "markdown",
   "metadata": {},
   "source": [
    "# Initialization\n"
   ]
  },
  {
   "cell_type": "code",
   "execution_count": 1,
   "metadata": {},
   "outputs": [],
   "source": [
    "if \"google.colab\" in str(get_ipython()):\n",
    "    !git clone https://github.com/lukebella/SpotifyRegression.git\n",
    "    !mv SpotifyRegression/* .\n",
    "    !rm -fr SpotifyRegression"
   ]
  },
  {
   "cell_type": "code",
   "execution_count": null,
   "metadata": {},
   "outputs": [],
   "source": [
    "import os\n",
    "\n",
    "os.environ['KAGGLE_USERNAME'] = \"xxxxxx\" # insert here your kaggle username\n",
    "os.environ['KAGGLE_KEY'] = \"xxxxxx\"      # insert here your kaggle key\n",
    "!kaggle datasets download -p ./data -d maharshipandya/-spotify-tracks-dataset\n",
    "!unzip -n ./data/-spotify-tracks-dataset.zip -d ./data"
   ]
  },
  {
   "cell_type": "code",
   "execution_count": 3,
   "metadata": {},
   "outputs": [],
   "source": [
    "import pandas as pd\n",
    "import numpy as np\n",
    "import matplotlib.pyplot as plt\n",
    "from sklearn.linear_model import Ridge, RidgeCV\n",
    "from sklearn.kernel_ridge import KernelRidge\n",
    "from sklearn.gaussian_process.kernels import RBF\n",
    "from sklearn.metrics import mean_squared_error\n",
    "%matplotlib inline"
   ]
  },
  {
   "cell_type": "code",
   "execution_count": 4,
   "metadata": {},
   "outputs": [
    {
     "data": {
      "text/html": [
       "<div>\n",
       "<style scoped>\n",
       "    .dataframe tbody tr th:only-of-type {\n",
       "        vertical-align: middle;\n",
       "    }\n",
       "\n",
       "    .dataframe tbody tr th {\n",
       "        vertical-align: top;\n",
       "    }\n",
       "\n",
       "    .dataframe thead th {\n",
       "        text-align: right;\n",
       "    }\n",
       "</style>\n",
       "<table border=\"1\" class=\"dataframe\">\n",
       "  <thead>\n",
       "    <tr style=\"text-align: right;\">\n",
       "      <th></th>\n",
       "      <th>track_id</th>\n",
       "      <th>artists</th>\n",
       "      <th>album_name</th>\n",
       "      <th>track_name</th>\n",
       "      <th>popularity</th>\n",
       "      <th>duration_ms</th>\n",
       "      <th>explicit</th>\n",
       "      <th>danceability</th>\n",
       "      <th>energy</th>\n",
       "      <th>key</th>\n",
       "      <th>loudness</th>\n",
       "      <th>mode</th>\n",
       "      <th>speechiness</th>\n",
       "      <th>acousticness</th>\n",
       "      <th>instrumentalness</th>\n",
       "      <th>liveness</th>\n",
       "      <th>valence</th>\n",
       "      <th>tempo</th>\n",
       "      <th>time_signature</th>\n",
       "      <th>track_genre</th>\n",
       "    </tr>\n",
       "  </thead>\n",
       "  <tbody>\n",
       "    <tr>\n",
       "      <th>94264</th>\n",
       "      <td>55swcR1hqOlJ45RNoamfDH</td>\n",
       "      <td>Powfu;KNOWN.</td>\n",
       "      <td>tell me your feelings and i won't tell you mine</td>\n",
       "      <td>soda stream sky (feat. KNOWN)</td>\n",
       "      <td>52</td>\n",
       "      <td>224825</td>\n",
       "      <td>True</td>\n",
       "      <td>0.609</td>\n",
       "      <td>0.394</td>\n",
       "      <td>0</td>\n",
       "      <td>-10.142</td>\n",
       "      <td>1</td>\n",
       "      <td>0.2090</td>\n",
       "      <td>0.757000</td>\n",
       "      <td>0.000340</td>\n",
       "      <td>0.1270</td>\n",
       "      <td>0.191</td>\n",
       "      <td>172.031</td>\n",
       "      <td>4</td>\n",
       "      <td>sad</td>\n",
       "    </tr>\n",
       "    <tr>\n",
       "      <th>6236</th>\n",
       "      <td>4DxJKxGAJMus7zVDOGI3Ab</td>\n",
       "      <td>Summoning</td>\n",
       "      <td>Lugburz</td>\n",
       "      <td>Flight of the Nazgul</td>\n",
       "      <td>20</td>\n",
       "      <td>427000</td>\n",
       "      <td>False</td>\n",
       "      <td>0.110</td>\n",
       "      <td>0.951</td>\n",
       "      <td>9</td>\n",
       "      <td>-9.627</td>\n",
       "      <td>0</td>\n",
       "      <td>0.2620</td>\n",
       "      <td>0.013000</td>\n",
       "      <td>0.384000</td>\n",
       "      <td>0.0626</td>\n",
       "      <td>0.054</td>\n",
       "      <td>76.699</td>\n",
       "      <td>4</td>\n",
       "      <td>black-metal</td>\n",
       "    </tr>\n",
       "    <tr>\n",
       "      <th>56</th>\n",
       "      <td>7lLKxcNeJtDTWVRKHovLEC</td>\n",
       "      <td>Aron Wright</td>\n",
       "      <td>Build It Better</td>\n",
       "      <td>Build It Better</td>\n",
       "      <td>51</td>\n",
       "      <td>234473</td>\n",
       "      <td>False</td>\n",
       "      <td>0.526</td>\n",
       "      <td>0.333</td>\n",
       "      <td>4</td>\n",
       "      <td>-13.020</td>\n",
       "      <td>1</td>\n",
       "      <td>0.0314</td>\n",
       "      <td>0.910000</td>\n",
       "      <td>0.168000</td>\n",
       "      <td>0.1110</td>\n",
       "      <td>0.159</td>\n",
       "      <td>94.951</td>\n",
       "      <td>4</td>\n",
       "      <td>acoustic</td>\n",
       "    </tr>\n",
       "    <tr>\n",
       "      <th>44601</th>\n",
       "      <td>1euszbbvkUzQzIhZUWFmXG</td>\n",
       "      <td>Highly Suspect</td>\n",
       "      <td>The Boy Who Died Wolf</td>\n",
       "      <td>My Name Is Human</td>\n",
       "      <td>64</td>\n",
       "      <td>258773</td>\n",
       "      <td>True</td>\n",
       "      <td>0.515</td>\n",
       "      <td>0.698</td>\n",
       "      <td>2</td>\n",
       "      <td>-5.572</td>\n",
       "      <td>0</td>\n",
       "      <td>0.0279</td>\n",
       "      <td>0.000057</td>\n",
       "      <td>0.000086</td>\n",
       "      <td>0.0827</td>\n",
       "      <td>0.194</td>\n",
       "      <td>139.960</td>\n",
       "      <td>4</td>\n",
       "      <td>grunge</td>\n",
       "    </tr>\n",
       "    <tr>\n",
       "      <th>112474</th>\n",
       "      <td>3aSrj9NKKBlZ3PSg2PFB17</td>\n",
       "      <td>Allame</td>\n",
       "      <td>Toprak</td>\n",
       "      <td>Toprak</td>\n",
       "      <td>40</td>\n",
       "      <td>186283</td>\n",
       "      <td>False</td>\n",
       "      <td>0.770</td>\n",
       "      <td>0.825</td>\n",
       "      <td>7</td>\n",
       "      <td>-4.985</td>\n",
       "      <td>1</td>\n",
       "      <td>0.1960</td>\n",
       "      <td>0.302000</td>\n",
       "      <td>0.000000</td>\n",
       "      <td>0.3620</td>\n",
       "      <td>0.651</td>\n",
       "      <td>136.046</td>\n",
       "      <td>4</td>\n",
       "      <td>turkish</td>\n",
       "    </tr>\n",
       "    <tr>\n",
       "      <th>...</th>\n",
       "      <td>...</td>\n",
       "      <td>...</td>\n",
       "      <td>...</td>\n",
       "      <td>...</td>\n",
       "      <td>...</td>\n",
       "      <td>...</td>\n",
       "      <td>...</td>\n",
       "      <td>...</td>\n",
       "      <td>...</td>\n",
       "      <td>...</td>\n",
       "      <td>...</td>\n",
       "      <td>...</td>\n",
       "      <td>...</td>\n",
       "      <td>...</td>\n",
       "      <td>...</td>\n",
       "      <td>...</td>\n",
       "      <td>...</td>\n",
       "      <td>...</td>\n",
       "      <td>...</td>\n",
       "      <td>...</td>\n",
       "    </tr>\n",
       "    <tr>\n",
       "      <th>21243</th>\n",
       "      <td>3lpmIoqpJmiY074Kay62SW</td>\n",
       "      <td>Yemi Alade</td>\n",
       "      <td>Africa Rising Vol.4</td>\n",
       "      <td>Home</td>\n",
       "      <td>0</td>\n",
       "      <td>224000</td>\n",
       "      <td>False</td>\n",
       "      <td>0.555</td>\n",
       "      <td>0.820</td>\n",
       "      <td>7</td>\n",
       "      <td>-2.663</td>\n",
       "      <td>1</td>\n",
       "      <td>0.0782</td>\n",
       "      <td>0.121000</td>\n",
       "      <td>0.000004</td>\n",
       "      <td>0.1290</td>\n",
       "      <td>0.968</td>\n",
       "      <td>113.000</td>\n",
       "      <td>4</td>\n",
       "      <td>dancehall</td>\n",
       "    </tr>\n",
       "    <tr>\n",
       "      <th>45891</th>\n",
       "      <td>3V4InT51kenWLTfXC6PfYr</td>\n",
       "      <td>Sonny Chillingworth</td>\n",
       "      <td>Hawaiian Slack Key Guitar Masters, Vol. 2</td>\n",
       "      <td>Liloa's Mele - Grandson's Lullaby</td>\n",
       "      <td>21</td>\n",
       "      <td>166573</td>\n",
       "      <td>False</td>\n",
       "      <td>0.448</td>\n",
       "      <td>0.150</td>\n",
       "      <td>0</td>\n",
       "      <td>-22.779</td>\n",
       "      <td>1</td>\n",
       "      <td>0.0385</td>\n",
       "      <td>0.772000</td>\n",
       "      <td>0.885000</td>\n",
       "      <td>0.1190</td>\n",
       "      <td>0.125</td>\n",
       "      <td>93.857</td>\n",
       "      <td>4</td>\n",
       "      <td>guitar</td>\n",
       "    </tr>\n",
       "    <tr>\n",
       "      <th>42613</th>\n",
       "      <td>1eWNzbwzDFyQ7WTWAWZbnK</td>\n",
       "      <td>Nasum</td>\n",
       "      <td>Helvete</td>\n",
       "      <td>Slaves To the Grind</td>\n",
       "      <td>12</td>\n",
       "      <td>71240</td>\n",
       "      <td>True</td>\n",
       "      <td>0.239</td>\n",
       "      <td>0.961</td>\n",
       "      <td>1</td>\n",
       "      <td>-5.569</td>\n",
       "      <td>1</td>\n",
       "      <td>0.1850</td>\n",
       "      <td>0.000004</td>\n",
       "      <td>0.151000</td>\n",
       "      <td>0.3220</td>\n",
       "      <td>0.210</td>\n",
       "      <td>121.329</td>\n",
       "      <td>5</td>\n",
       "      <td>grindcore</td>\n",
       "    </tr>\n",
       "    <tr>\n",
       "      <th>43567</th>\n",
       "      <td>3NiB3v3elOuAy4Ij51F4Sl</td>\n",
       "      <td>Maur</td>\n",
       "      <td>Deep Inside</td>\n",
       "      <td>Deep Inside</td>\n",
       "      <td>62</td>\n",
       "      <td>202633</td>\n",
       "      <td>False</td>\n",
       "      <td>0.637</td>\n",
       "      <td>0.936</td>\n",
       "      <td>11</td>\n",
       "      <td>-5.274</td>\n",
       "      <td>0</td>\n",
       "      <td>0.0371</td>\n",
       "      <td>0.046500</td>\n",
       "      <td>0.000150</td>\n",
       "      <td>0.1040</td>\n",
       "      <td>0.497</td>\n",
       "      <td>126.027</td>\n",
       "      <td>3</td>\n",
       "      <td>groove</td>\n",
       "    </tr>\n",
       "    <tr>\n",
       "      <th>68268</th>\n",
       "      <td>7AhSY7tH8oT0T9FpRKXl9q</td>\n",
       "      <td>Jhayco</td>\n",
       "      <td>Halloween 2022 Perreo Vol. 4</td>\n",
       "      <td>No Me Conoce</td>\n",
       "      <td>1</td>\n",
       "      <td>240400</td>\n",
       "      <td>False</td>\n",
       "      <td>0.654</td>\n",
       "      <td>0.695</td>\n",
       "      <td>10</td>\n",
       "      <td>-3.987</td>\n",
       "      <td>0</td>\n",
       "      <td>0.1730</td>\n",
       "      <td>0.064300</td>\n",
       "      <td>0.000000</td>\n",
       "      <td>0.0980</td>\n",
       "      <td>0.582</td>\n",
       "      <td>81.153</td>\n",
       "      <td>1</td>\n",
       "      <td>latino</td>\n",
       "    </tr>\n",
       "  </tbody>\n",
       "</table>\n",
       "<p>113999 rows × 20 columns</p>\n",
       "</div>"
      ],
      "text/plain": [
       "                      track_id              artists  \\\n",
       "94264   55swcR1hqOlJ45RNoamfDH         Powfu;KNOWN.   \n",
       "6236    4DxJKxGAJMus7zVDOGI3Ab            Summoning   \n",
       "56      7lLKxcNeJtDTWVRKHovLEC          Aron Wright   \n",
       "44601   1euszbbvkUzQzIhZUWFmXG       Highly Suspect   \n",
       "112474  3aSrj9NKKBlZ3PSg2PFB17               Allame   \n",
       "...                        ...                  ...   \n",
       "21243   3lpmIoqpJmiY074Kay62SW           Yemi Alade   \n",
       "45891   3V4InT51kenWLTfXC6PfYr  Sonny Chillingworth   \n",
       "42613   1eWNzbwzDFyQ7WTWAWZbnK                Nasum   \n",
       "43567   3NiB3v3elOuAy4Ij51F4Sl                 Maur   \n",
       "68268   7AhSY7tH8oT0T9FpRKXl9q               Jhayco   \n",
       "\n",
       "                                             album_name  \\\n",
       "94264   tell me your feelings and i won't tell you mine   \n",
       "6236                                            Lugburz   \n",
       "56                                      Build It Better   \n",
       "44601                             The Boy Who Died Wolf   \n",
       "112474                                           Toprak   \n",
       "...                                                 ...   \n",
       "21243                               Africa Rising Vol.4   \n",
       "45891         Hawaiian Slack Key Guitar Masters, Vol. 2   \n",
       "42613                                           Helvete   \n",
       "43567                                       Deep Inside   \n",
       "68268                      Halloween 2022 Perreo Vol. 4   \n",
       "\n",
       "                               track_name  popularity  duration_ms  explicit  \\\n",
       "94264       soda stream sky (feat. KNOWN)          52       224825      True   \n",
       "6236                 Flight of the Nazgul          20       427000     False   \n",
       "56                        Build It Better          51       234473     False   \n",
       "44601                    My Name Is Human          64       258773      True   \n",
       "112474                             Toprak          40       186283     False   \n",
       "...                                   ...         ...          ...       ...   \n",
       "21243                                Home           0       224000     False   \n",
       "45891   Liloa's Mele - Grandson's Lullaby          21       166573     False   \n",
       "42613                 Slaves To the Grind          12        71240      True   \n",
       "43567                         Deep Inside          62       202633     False   \n",
       "68268                        No Me Conoce           1       240400     False   \n",
       "\n",
       "        danceability  energy  key  loudness  mode  speechiness  acousticness  \\\n",
       "94264          0.609   0.394    0   -10.142     1       0.2090      0.757000   \n",
       "6236           0.110   0.951    9    -9.627     0       0.2620      0.013000   \n",
       "56             0.526   0.333    4   -13.020     1       0.0314      0.910000   \n",
       "44601          0.515   0.698    2    -5.572     0       0.0279      0.000057   \n",
       "112474         0.770   0.825    7    -4.985     1       0.1960      0.302000   \n",
       "...              ...     ...  ...       ...   ...          ...           ...   \n",
       "21243          0.555   0.820    7    -2.663     1       0.0782      0.121000   \n",
       "45891          0.448   0.150    0   -22.779     1       0.0385      0.772000   \n",
       "42613          0.239   0.961    1    -5.569     1       0.1850      0.000004   \n",
       "43567          0.637   0.936   11    -5.274     0       0.0371      0.046500   \n",
       "68268          0.654   0.695   10    -3.987     0       0.1730      0.064300   \n",
       "\n",
       "        instrumentalness  liveness  valence    tempo  time_signature  \\\n",
       "94264           0.000340    0.1270    0.191  172.031               4   \n",
       "6236            0.384000    0.0626    0.054   76.699               4   \n",
       "56              0.168000    0.1110    0.159   94.951               4   \n",
       "44601           0.000086    0.0827    0.194  139.960               4   \n",
       "112474          0.000000    0.3620    0.651  136.046               4   \n",
       "...                  ...       ...      ...      ...             ...   \n",
       "21243           0.000004    0.1290    0.968  113.000               4   \n",
       "45891           0.885000    0.1190    0.125   93.857               4   \n",
       "42613           0.151000    0.3220    0.210  121.329               5   \n",
       "43567           0.000150    0.1040    0.497  126.027               3   \n",
       "68268           0.000000    0.0980    0.582   81.153               1   \n",
       "\n",
       "        track_genre  \n",
       "94264           sad  \n",
       "6236    black-metal  \n",
       "56         acoustic  \n",
       "44601        grunge  \n",
       "112474      turkish  \n",
       "...             ...  \n",
       "21243     dancehall  \n",
       "45891        guitar  \n",
       "42613     grindcore  \n",
       "43567        groove  \n",
       "68268        latino  \n",
       "\n",
       "[113999 rows x 20 columns]"
      ]
     },
     "execution_count": 4,
     "metadata": {},
     "output_type": "execute_result"
    }
   ],
   "source": [
    "# Open the dataset\n",
    "dataset_file = \"data/dataset.csv\"\n",
    "\n",
    "dataset_df = pd.read_csv(dataset_file).drop(columns='Unnamed: 0')\n",
    "dataset_df = dataset_df.sample(frac = 1, random_state=0).dropna()\n",
    "\n",
    "dataset_df"
   ]
  },
  {
   "cell_type": "markdown",
   "metadata": {},
   "source": [
    "# Split the dataset"
   ]
  },
  {
   "cell_type": "code",
   "execution_count": 5,
   "metadata": {},
   "outputs": [],
   "source": [
    "# Normalize loudness and tempo\n",
    "loudness_norm = dataset_df[\"loudness\"]\n",
    "tempo_norm = dataset_df[\"tempo\"]\n",
    "\n",
    "tempo_norm = tempo_norm/tempo_norm.max(axis=0)\n",
    "\n",
    "min_loud = abs(loudness_norm.min(axis=0))\n",
    "max_loud = abs(loudness_norm.max(axis=0))\n",
    "\n",
    "loudness_norm = (min_loud+loudness_norm)/(min_loud+max_loud)\n",
    "dataset_df[\"loudness\"] = loudness_norm\n",
    "dataset_df[\"tempo\"] = tempo_norm"
   ]
  },
  {
   "cell_type": "code",
   "execution_count": 6,
   "metadata": {},
   "outputs": [
    {
     "data": {
      "text/html": [
       "<div>\n",
       "<style scoped>\n",
       "    .dataframe tbody tr th:only-of-type {\n",
       "        vertical-align: middle;\n",
       "    }\n",
       "\n",
       "    .dataframe tbody tr th {\n",
       "        vertical-align: top;\n",
       "    }\n",
       "\n",
       "    .dataframe thead th {\n",
       "        text-align: right;\n",
       "    }\n",
       "</style>\n",
       "<table border=\"1\" class=\"dataframe\">\n",
       "  <thead>\n",
       "    <tr style=\"text-align: right;\">\n",
       "      <th></th>\n",
       "      <th>popularity</th>\n",
       "      <th>duration_ms</th>\n",
       "      <th>danceability</th>\n",
       "      <th>energy</th>\n",
       "      <th>loudness</th>\n",
       "      <th>speechiness</th>\n",
       "      <th>acousticness</th>\n",
       "      <th>instrumentalness</th>\n",
       "      <th>liveness</th>\n",
       "      <th>valence</th>\n",
       "      <th>...</th>\n",
       "      <th>track_genre_spanish</th>\n",
       "      <th>track_genre_study</th>\n",
       "      <th>track_genre_swedish</th>\n",
       "      <th>track_genre_synth-pop</th>\n",
       "      <th>track_genre_tango</th>\n",
       "      <th>track_genre_techno</th>\n",
       "      <th>track_genre_trance</th>\n",
       "      <th>track_genre_trip-hop</th>\n",
       "      <th>track_genre_turkish</th>\n",
       "      <th>track_genre_world-music</th>\n",
       "    </tr>\n",
       "  </thead>\n",
       "  <tbody>\n",
       "    <tr>\n",
       "      <th>0</th>\n",
       "      <td>52</td>\n",
       "      <td>224825</td>\n",
       "      <td>0.609</td>\n",
       "      <td>0.394</td>\n",
       "      <td>0.728576</td>\n",
       "      <td>0.2090</td>\n",
       "      <td>0.757000</td>\n",
       "      <td>0.000340</td>\n",
       "      <td>0.1270</td>\n",
       "      <td>0.191</td>\n",
       "      <td>...</td>\n",
       "      <td>0</td>\n",
       "      <td>0</td>\n",
       "      <td>0</td>\n",
       "      <td>0</td>\n",
       "      <td>0</td>\n",
       "      <td>0</td>\n",
       "      <td>0</td>\n",
       "      <td>0</td>\n",
       "      <td>0</td>\n",
       "      <td>0</td>\n",
       "    </tr>\n",
       "    <tr>\n",
       "      <th>1</th>\n",
       "      <td>20</td>\n",
       "      <td>427000</td>\n",
       "      <td>0.110</td>\n",
       "      <td>0.951</td>\n",
       "      <td>0.738102</td>\n",
       "      <td>0.2620</td>\n",
       "      <td>0.013000</td>\n",
       "      <td>0.384000</td>\n",
       "      <td>0.0626</td>\n",
       "      <td>0.054</td>\n",
       "      <td>...</td>\n",
       "      <td>0</td>\n",
       "      <td>0</td>\n",
       "      <td>0</td>\n",
       "      <td>0</td>\n",
       "      <td>0</td>\n",
       "      <td>0</td>\n",
       "      <td>0</td>\n",
       "      <td>0</td>\n",
       "      <td>0</td>\n",
       "      <td>0</td>\n",
       "    </tr>\n",
       "    <tr>\n",
       "      <th>2</th>\n",
       "      <td>51</td>\n",
       "      <td>234473</td>\n",
       "      <td>0.526</td>\n",
       "      <td>0.333</td>\n",
       "      <td>0.675342</td>\n",
       "      <td>0.0314</td>\n",
       "      <td>0.910000</td>\n",
       "      <td>0.168000</td>\n",
       "      <td>0.1110</td>\n",
       "      <td>0.159</td>\n",
       "      <td>...</td>\n",
       "      <td>0</td>\n",
       "      <td>0</td>\n",
       "      <td>0</td>\n",
       "      <td>0</td>\n",
       "      <td>0</td>\n",
       "      <td>0</td>\n",
       "      <td>0</td>\n",
       "      <td>0</td>\n",
       "      <td>0</td>\n",
       "      <td>0</td>\n",
       "    </tr>\n",
       "    <tr>\n",
       "      <th>3</th>\n",
       "      <td>64</td>\n",
       "      <td>258773</td>\n",
       "      <td>0.515</td>\n",
       "      <td>0.698</td>\n",
       "      <td>0.813107</td>\n",
       "      <td>0.0279</td>\n",
       "      <td>0.000057</td>\n",
       "      <td>0.000086</td>\n",
       "      <td>0.0827</td>\n",
       "      <td>0.194</td>\n",
       "      <td>...</td>\n",
       "      <td>0</td>\n",
       "      <td>0</td>\n",
       "      <td>0</td>\n",
       "      <td>0</td>\n",
       "      <td>0</td>\n",
       "      <td>0</td>\n",
       "      <td>0</td>\n",
       "      <td>0</td>\n",
       "      <td>0</td>\n",
       "      <td>0</td>\n",
       "    </tr>\n",
       "    <tr>\n",
       "      <th>4</th>\n",
       "      <td>40</td>\n",
       "      <td>186283</td>\n",
       "      <td>0.770</td>\n",
       "      <td>0.825</td>\n",
       "      <td>0.823965</td>\n",
       "      <td>0.1960</td>\n",
       "      <td>0.302000</td>\n",
       "      <td>0.000000</td>\n",
       "      <td>0.3620</td>\n",
       "      <td>0.651</td>\n",
       "      <td>...</td>\n",
       "      <td>0</td>\n",
       "      <td>0</td>\n",
       "      <td>0</td>\n",
       "      <td>0</td>\n",
       "      <td>0</td>\n",
       "      <td>0</td>\n",
       "      <td>0</td>\n",
       "      <td>0</td>\n",
       "      <td>1</td>\n",
       "      <td>0</td>\n",
       "    </tr>\n",
       "    <tr>\n",
       "      <th>...</th>\n",
       "      <td>...</td>\n",
       "      <td>...</td>\n",
       "      <td>...</td>\n",
       "      <td>...</td>\n",
       "      <td>...</td>\n",
       "      <td>...</td>\n",
       "      <td>...</td>\n",
       "      <td>...</td>\n",
       "      <td>...</td>\n",
       "      <td>...</td>\n",
       "      <td>...</td>\n",
       "      <td>...</td>\n",
       "      <td>...</td>\n",
       "      <td>...</td>\n",
       "      <td>...</td>\n",
       "      <td>...</td>\n",
       "      <td>...</td>\n",
       "      <td>...</td>\n",
       "      <td>...</td>\n",
       "      <td>...</td>\n",
       "      <td>...</td>\n",
       "    </tr>\n",
       "    <tr>\n",
       "      <th>89735</th>\n",
       "      <td>46</td>\n",
       "      <td>186759</td>\n",
       "      <td>0.565</td>\n",
       "      <td>0.630</td>\n",
       "      <td>0.804968</td>\n",
       "      <td>0.0398</td>\n",
       "      <td>0.306000</td>\n",
       "      <td>0.000000</td>\n",
       "      <td>0.7440</td>\n",
       "      <td>0.499</td>\n",
       "      <td>...</td>\n",
       "      <td>0</td>\n",
       "      <td>0</td>\n",
       "      <td>0</td>\n",
       "      <td>0</td>\n",
       "      <td>0</td>\n",
       "      <td>0</td>\n",
       "      <td>0</td>\n",
       "      <td>0</td>\n",
       "      <td>0</td>\n",
       "      <td>0</td>\n",
       "    </tr>\n",
       "    <tr>\n",
       "      <th>89736</th>\n",
       "      <td>27</td>\n",
       "      <td>272000</td>\n",
       "      <td>0.546</td>\n",
       "      <td>0.716</td>\n",
       "      <td>0.749533</td>\n",
       "      <td>0.0583</td>\n",
       "      <td>0.603000</td>\n",
       "      <td>0.000000</td>\n",
       "      <td>0.0260</td>\n",
       "      <td>0.913</td>\n",
       "      <td>...</td>\n",
       "      <td>0</td>\n",
       "      <td>0</td>\n",
       "      <td>0</td>\n",
       "      <td>0</td>\n",
       "      <td>0</td>\n",
       "      <td>0</td>\n",
       "      <td>0</td>\n",
       "      <td>0</td>\n",
       "      <td>0</td>\n",
       "      <td>0</td>\n",
       "    </tr>\n",
       "    <tr>\n",
       "      <th>89737</th>\n",
       "      <td>0</td>\n",
       "      <td>224000</td>\n",
       "      <td>0.555</td>\n",
       "      <td>0.820</td>\n",
       "      <td>0.866915</td>\n",
       "      <td>0.0782</td>\n",
       "      <td>0.121000</td>\n",
       "      <td>0.000004</td>\n",
       "      <td>0.1290</td>\n",
       "      <td>0.968</td>\n",
       "      <td>...</td>\n",
       "      <td>0</td>\n",
       "      <td>0</td>\n",
       "      <td>0</td>\n",
       "      <td>0</td>\n",
       "      <td>0</td>\n",
       "      <td>0</td>\n",
       "      <td>0</td>\n",
       "      <td>0</td>\n",
       "      <td>0</td>\n",
       "      <td>0</td>\n",
       "    </tr>\n",
       "    <tr>\n",
       "      <th>89738</th>\n",
       "      <td>21</td>\n",
       "      <td>166573</td>\n",
       "      <td>0.448</td>\n",
       "      <td>0.150</td>\n",
       "      <td>0.494830</td>\n",
       "      <td>0.0385</td>\n",
       "      <td>0.772000</td>\n",
       "      <td>0.885000</td>\n",
       "      <td>0.1190</td>\n",
       "      <td>0.125</td>\n",
       "      <td>...</td>\n",
       "      <td>0</td>\n",
       "      <td>0</td>\n",
       "      <td>0</td>\n",
       "      <td>0</td>\n",
       "      <td>0</td>\n",
       "      <td>0</td>\n",
       "      <td>0</td>\n",
       "      <td>0</td>\n",
       "      <td>0</td>\n",
       "      <td>0</td>\n",
       "    </tr>\n",
       "    <tr>\n",
       "      <th>89739</th>\n",
       "      <td>12</td>\n",
       "      <td>71240</td>\n",
       "      <td>0.239</td>\n",
       "      <td>0.961</td>\n",
       "      <td>0.813162</td>\n",
       "      <td>0.1850</td>\n",
       "      <td>0.000004</td>\n",
       "      <td>0.151000</td>\n",
       "      <td>0.3220</td>\n",
       "      <td>0.210</td>\n",
       "      <td>...</td>\n",
       "      <td>0</td>\n",
       "      <td>0</td>\n",
       "      <td>0</td>\n",
       "      <td>0</td>\n",
       "      <td>0</td>\n",
       "      <td>0</td>\n",
       "      <td>0</td>\n",
       "      <td>0</td>\n",
       "      <td>0</td>\n",
       "      <td>0</td>\n",
       "    </tr>\n",
       "  </tbody>\n",
       "</table>\n",
       "<p>89740 rows × 145 columns</p>\n",
       "</div>"
      ],
      "text/plain": [
       "       popularity  duration_ms  danceability  energy  loudness  speechiness  \\\n",
       "0              52       224825         0.609   0.394  0.728576       0.2090   \n",
       "1              20       427000         0.110   0.951  0.738102       0.2620   \n",
       "2              51       234473         0.526   0.333  0.675342       0.0314   \n",
       "3              64       258773         0.515   0.698  0.813107       0.0279   \n",
       "4              40       186283         0.770   0.825  0.823965       0.1960   \n",
       "...           ...          ...           ...     ...       ...          ...   \n",
       "89735          46       186759         0.565   0.630  0.804968       0.0398   \n",
       "89736          27       272000         0.546   0.716  0.749533       0.0583   \n",
       "89737           0       224000         0.555   0.820  0.866915       0.0782   \n",
       "89738          21       166573         0.448   0.150  0.494830       0.0385   \n",
       "89739          12        71240         0.239   0.961  0.813162       0.1850   \n",
       "\n",
       "       acousticness  instrumentalness  liveness  valence  ...  \\\n",
       "0          0.757000          0.000340    0.1270    0.191  ...   \n",
       "1          0.013000          0.384000    0.0626    0.054  ...   \n",
       "2          0.910000          0.168000    0.1110    0.159  ...   \n",
       "3          0.000057          0.000086    0.0827    0.194  ...   \n",
       "4          0.302000          0.000000    0.3620    0.651  ...   \n",
       "...             ...               ...       ...      ...  ...   \n",
       "89735      0.306000          0.000000    0.7440    0.499  ...   \n",
       "89736      0.603000          0.000000    0.0260    0.913  ...   \n",
       "89737      0.121000          0.000004    0.1290    0.968  ...   \n",
       "89738      0.772000          0.885000    0.1190    0.125  ...   \n",
       "89739      0.000004          0.151000    0.3220    0.210  ...   \n",
       "\n",
       "       track_genre_spanish  track_genre_study  track_genre_swedish  \\\n",
       "0                        0                  0                    0   \n",
       "1                        0                  0                    0   \n",
       "2                        0                  0                    0   \n",
       "3                        0                  0                    0   \n",
       "4                        0                  0                    0   \n",
       "...                    ...                ...                  ...   \n",
       "89735                    0                  0                    0   \n",
       "89736                    0                  0                    0   \n",
       "89737                    0                  0                    0   \n",
       "89738                    0                  0                    0   \n",
       "89739                    0                  0                    0   \n",
       "\n",
       "       track_genre_synth-pop  track_genre_tango  track_genre_techno  \\\n",
       "0                          0                  0                   0   \n",
       "1                          0                  0                   0   \n",
       "2                          0                  0                   0   \n",
       "3                          0                  0                   0   \n",
       "4                          0                  0                   0   \n",
       "...                      ...                ...                 ...   \n",
       "89735                      0                  0                   0   \n",
       "89736                      0                  0                   0   \n",
       "89737                      0                  0                   0   \n",
       "89738                      0                  0                   0   \n",
       "89739                      0                  0                   0   \n",
       "\n",
       "       track_genre_trance  track_genre_trip-hop  track_genre_turkish  \\\n",
       "0                       0                     0                    0   \n",
       "1                       0                     0                    0   \n",
       "2                       0                     0                    0   \n",
       "3                       0                     0                    0   \n",
       "4                       0                     0                    1   \n",
       "...                   ...                   ...                  ...   \n",
       "89735                   0                     0                    0   \n",
       "89736                   0                     0                    0   \n",
       "89737                   0                     0                    0   \n",
       "89738                   0                     0                    0   \n",
       "89739                   0                     0                    0   \n",
       "\n",
       "       track_genre_world-music  \n",
       "0                            0  \n",
       "1                            0  \n",
       "2                            0  \n",
       "3                            0  \n",
       "4                            0  \n",
       "...                        ...  \n",
       "89735                        0  \n",
       "89736                        0  \n",
       "89737                        0  \n",
       "89738                        0  \n",
       "89739                        0  \n",
       "\n",
       "[89740 rows x 145 columns]"
      ]
     },
     "execution_count": 6,
     "metadata": {},
     "output_type": "execute_result"
    }
   ],
   "source": [
    "# Create a DataFrame with only track_id and track_genre one-hot encoded\n",
    "track_genre_df = pd.get_dummies(dataset_df[[\"track_id\", \"track_genre\"]], columns=['track_genre'], dtype=int)\n",
    "\n",
    "# Merge the track with the same id\n",
    "track_genre_df = track_genre_df.groupby(\"track_id\", as_index=False)[[i for i in track_genre_df.columns if i.startswith(\"track_genre_\")]].agg(np.sum)\n",
    "\n",
    "# Create a partial DataFrame with all feature except track_genre\n",
    "partial_df = pd.get_dummies(dataset_df.drop(columns=[\"artists\", \"album_name\", \"track_name\", 'track_genre']),\n",
    "                            columns=['explicit', 'key', 'mode', 'time_signature'], dtype=int) \\\n",
    "               .drop_duplicates(subset=['track_id'])\n",
    "\n",
    "# Merge partial_df and track_genre_df to create the new dataset\n",
    "categorical_df = pd.merge(partial_df, track_genre_df, on=['track_id'], how='inner').drop(columns=\"track_id\")\n",
    "\n",
    "# Removed explicit_False because haveing explicit_True this features is useless\n",
    "categorical_df = categorical_df.drop(columns=[\"explicit_False\"])\n",
    "categorical_df = categorical_df.rename(columns={\"explicit_True\": \"explicit\"})\n",
    "\n",
    "categorical_df\n"
   ]
  },
  {
   "cell_type": "code",
   "execution_count": 7,
   "metadata": {},
   "outputs": [],
   "source": [
    "# Create a mask to split the dataset into training set and test set\n",
    "np.random.seed(0)\n",
    "mask = np.random.rand(len(categorical_df))<0.7"
   ]
  },
  {
   "cell_type": "code",
   "execution_count": 8,
   "metadata": {},
   "outputs": [],
   "source": [
    "# Categorical features\n",
    "train_cat_df = categorical_df[mask]\n",
    "test_cat_df = categorical_df[~mask]"
   ]
  },
  {
   "cell_type": "code",
   "execution_count": 9,
   "metadata": {},
   "outputs": [],
   "source": [
    "# Numerical features\n",
    "numerical_df = categorical_df[[\"popularity\", \"duration_ms\", \"danceability\", \"energy\", \"loudness\",\n",
    "                               \"speechiness\", \"acousticness\", \"instrumentalness\", \"liveness\", \"valence\", \"tempo\"]]\n",
    "\n",
    "train_num_df = numerical_df[mask]\n",
    "test_num_df = numerical_df[~mask]\n"
   ]
  },
  {
   "cell_type": "markdown",
   "metadata": {},
   "source": [
    "# Ridge Regression\n",
    "Functions that implement the ridge regression prediction."
   ]
  },
  {
   "cell_type": "code",
   "execution_count": 10,
   "metadata": {},
   "outputs": [],
   "source": [
    "# Create the hyperplane using regular ridge regression\n",
    "def ridge_regression(alpha, train_set):\n",
    "    y = train_set[[\"popularity\"]]\n",
    "    train_set = train_set.drop(columns='popularity')\n",
    "    n_rows, n_cols = train_set.shape  # Get the dimensions of the input matrix s\n",
    "    s_t = train_set.transpose()  # Transpose of matrix s\n",
    "    \n",
    "    # Calculate the identity matrix with the appropriate size\n",
    "    identity = np.identity(n_cols)\n",
    "    \n",
    "    # Calculate the ridge regression coefficients using matrix operations\n",
    "    w = (np.linalg.pinv(alpha * identity + np.dot(s_t, train_set)).dot(s_t)).dot(y) \n",
    "    \n",
    "    # Convert the coefficients to a DataFrame for better presentation\n",
    "    w_df = pd.DataFrame(w, columns=[\"Values\"], index=train_set.columns)\n",
    "    \n",
    "    return w_df"
   ]
  },
  {
   "cell_type": "code",
   "execution_count": 11,
   "metadata": {},
   "outputs": [],
   "source": [
    "# Predict the popularity of a track x using an hyperplane w\n",
    "def predict(w, x):\n",
    "    pred = w.transpose().dot(x.drop(labels='popularity'))[0]\n",
    "    return pred"
   ]
  },
  {
   "cell_type": "code",
   "execution_count": 12,
   "metadata": {},
   "outputs": [],
   "source": [
    "# Compute the average square loss of the hyperplane w\n",
    "def avg_square_loss(w, test_set):\n",
    "    y = test_set[[\"popularity\"]]\n",
    "    test_set = test_set.drop(columns='popularity')\n",
    "    # Convert the DataFrame to a numpy array\n",
    "    x = test_set.values  \n",
    "    # Calculate predictions for all rows at once\n",
    "    predictions = np.dot(x, w)\n",
    "    \n",
    "    squared_diff = (predictions -  y)**2\n",
    "    total_loss = np.sum(squared_diff)\n",
    "    return total_loss.values[0]/test_set.shape[0]"
   ]
  },
  {
   "cell_type": "markdown",
   "metadata": {},
   "source": [
    "## Ridge Regression using only numerical features"
   ]
  },
  {
   "cell_type": "code",
   "execution_count": 13,
   "metadata": {},
   "outputs": [],
   "source": [
    "# Compute the MSE for each alpha in a range\n",
    "alphas = 10**np.linspace(10, -2, 100)*0.5\n",
    "\n",
    "num_train_losses = []\n",
    "num_test_losses = []\n",
    "\n",
    "for a in alphas:\n",
    "    ridge = ridge_regression(a, train_num_df)\n",
    "    num_train_losses.append(avg_square_loss(ridge, train_num_df))\n",
    "    num_test_losses.append(avg_square_loss(ridge, test_num_df))"
   ]
  },
  {
   "cell_type": "markdown",
   "metadata": {},
   "source": [
    "## Scikitlearn Ridge regression on numerical features\n"
   ]
  },
  {
   "cell_type": "code",
   "execution_count": 14,
   "metadata": {},
   "outputs": [],
   "source": [
    "#Scikitlearn Ridge regression (for plot)\n",
    "alphas = 10**np.linspace(10, -2, 100)*0.5\n",
    "\n",
    "sk_num_train_losses = []\n",
    "sk_num_test_losses = []\n",
    "\n",
    "for a in alphas:\n",
    "    clf = Ridge(alpha = a)\n",
    "    clf.fit(train_num_df.drop(columns='popularity'), train_num_df['popularity'])\n",
    "    sk_num_train_losses.append(mean_squared_error(train_num_df['popularity'], clf.predict(train_num_df.drop(columns='popularity'))))\n",
    "    sk_num_test_losses.append(mean_squared_error(test_num_df['popularity'], clf.predict(test_num_df.drop(columns='popularity'))))"
   ]
  },
  {
   "cell_type": "markdown",
   "metadata": {},
   "source": [
    "## Ridge regression on all features"
   ]
  },
  {
   "cell_type": "code",
   "execution_count": 15,
   "metadata": {},
   "outputs": [],
   "source": [
    "alphas = 10**np.linspace(10, -2, 100)*0.5\n",
    "\n",
    "cat_train_losses = []\n",
    "cat_test_losses = []\n",
    "\n",
    "for a in alphas:\n",
    "    ridge = ridge_regression(a, train_cat_df)\n",
    "    cat_train_losses.append(avg_square_loss(ridge, train_cat_df))\n",
    "    cat_test_losses.append(avg_square_loss(ridge, test_cat_df))\n"
   ]
  },
  {
   "cell_type": "markdown",
   "metadata": {},
   "source": [
    "## ScikitLearn Ridge regression on all features"
   ]
  },
  {
   "cell_type": "code",
   "execution_count": 16,
   "metadata": {},
   "outputs": [
    {
     "name": "stderr",
     "output_type": "stream",
     "text": [
      "c:\\Users\\andre\\AppData\\Local\\Programs\\Python\\Python310\\lib\\site-packages\\sklearn\\linear_model\\_ridge.py:211: LinAlgWarning: Ill-conditioned matrix (rcond=9.76145e-17): result may not be accurate.\n",
      "  return linalg.solve(A, Xy, assume_a=\"pos\", overwrite_a=True).T\n",
      "c:\\Users\\andre\\AppData\\Local\\Programs\\Python\\Python310\\lib\\site-packages\\sklearn\\linear_model\\_ridge.py:211: LinAlgWarning: Ill-conditioned matrix (rcond=7.38438e-17): result may not be accurate.\n",
      "  return linalg.solve(A, Xy, assume_a=\"pos\", overwrite_a=True).T\n",
      "c:\\Users\\andre\\AppData\\Local\\Programs\\Python\\Python310\\lib\\site-packages\\sklearn\\linear_model\\_ridge.py:211: LinAlgWarning: Ill-conditioned matrix (rcond=5.58614e-17): result may not be accurate.\n",
      "  return linalg.solve(A, Xy, assume_a=\"pos\", overwrite_a=True).T\n",
      "c:\\Users\\andre\\AppData\\Local\\Programs\\Python\\Python310\\lib\\site-packages\\sklearn\\linear_model\\_ridge.py:211: LinAlgWarning: Ill-conditioned matrix (rcond=4.22577e-17): result may not be accurate.\n",
      "  return linalg.solve(A, Xy, assume_a=\"pos\", overwrite_a=True).T\n",
      "c:\\Users\\andre\\AppData\\Local\\Programs\\Python\\Python310\\lib\\site-packages\\sklearn\\linear_model\\_ridge.py:211: LinAlgWarning: Ill-conditioned matrix (rcond=3.19668e-17): result may not be accurate.\n",
      "  return linalg.solve(A, Xy, assume_a=\"pos\", overwrite_a=True).T\n",
      "c:\\Users\\andre\\AppData\\Local\\Programs\\Python\\Python310\\lib\\site-packages\\sklearn\\linear_model\\_ridge.py:211: LinAlgWarning: Ill-conditioned matrix (rcond=2.4182e-17): result may not be accurate.\n",
      "  return linalg.solve(A, Xy, assume_a=\"pos\", overwrite_a=True).T\n",
      "c:\\Users\\andre\\AppData\\Local\\Programs\\Python\\Python310\\lib\\site-packages\\sklearn\\linear_model\\_ridge.py:211: LinAlgWarning: Ill-conditioned matrix (rcond=1.82929e-17): result may not be accurate.\n",
      "  return linalg.solve(A, Xy, assume_a=\"pos\", overwrite_a=True).T\n",
      "c:\\Users\\andre\\AppData\\Local\\Programs\\Python\\Python310\\lib\\site-packages\\sklearn\\linear_model\\_ridge.py:211: LinAlgWarning: Ill-conditioned matrix (rcond=1.3838e-17): result may not be accurate.\n",
      "  return linalg.solve(A, Xy, assume_a=\"pos\", overwrite_a=True).T\n",
      "c:\\Users\\andre\\AppData\\Local\\Programs\\Python\\Python310\\lib\\site-packages\\sklearn\\linear_model\\_ridge.py:211: LinAlgWarning: Ill-conditioned matrix (rcond=1.0468e-17): result may not be accurate.\n",
      "  return linalg.solve(A, Xy, assume_a=\"pos\", overwrite_a=True).T\n",
      "c:\\Users\\andre\\AppData\\Local\\Programs\\Python\\Python310\\lib\\site-packages\\sklearn\\linear_model\\_ridge.py:211: LinAlgWarning: Ill-conditioned matrix (rcond=7.91865e-18): result may not be accurate.\n",
      "  return linalg.solve(A, Xy, assume_a=\"pos\", overwrite_a=True).T\n",
      "c:\\Users\\andre\\AppData\\Local\\Programs\\Python\\Python310\\lib\\site-packages\\sklearn\\linear_model\\_ridge.py:211: LinAlgWarning: Ill-conditioned matrix (rcond=5.99018e-18): result may not be accurate.\n",
      "  return linalg.solve(A, Xy, assume_a=\"pos\", overwrite_a=True).T\n"
     ]
    }
   ],
   "source": [
    "alphas = 10**np.linspace(10, -2, 100)*0.5\n",
    "\n",
    "sk_cat_train_losses = []\n",
    "sk_cat_test_losses = []\n",
    "\n",
    "for a in alphas:\n",
    "    clf = Ridge(alpha = a)\n",
    "    clf.fit(train_cat_df.drop(columns='popularity'), train_cat_df['popularity'])\n",
    "    sk_cat_train_losses.append(mean_squared_error(train_cat_df['popularity'], clf.predict(train_cat_df.drop(columns='popularity'))))\n",
    "    sk_cat_test_losses.append(mean_squared_error(test_cat_df['popularity'], clf.predict(test_cat_df.drop(columns='popularity'))))\n"
   ]
  },
  {
   "cell_type": "markdown",
   "metadata": {},
   "source": [
    "## Compare between Numerical features and All features"
   ]
  },
  {
   "cell_type": "code",
   "execution_count": 17,
   "metadata": {},
   "outputs": [
    {
     "data": {
      "text/plain": [
       "Text(0.5, 1.0, 'ScikitLearn')"
      ]
     },
     "execution_count": 17,
     "metadata": {},
     "output_type": "execute_result"
    },
    {
     "data": {
      "image/png": "[encoded data removed]",
      "text/plain": [
       "<Figure size 1000x500 with 2 Axes>"
      ]
     },
     "metadata": {},
     "output_type": "display_data"
    }
   ],
   "source": [
    "fig, (ax1, ax2) = plt.subplots(1, 2)\n",
    "fig.suptitle('MSE on numerical features')\n",
    "fig.set_size_inches(10,5)\n",
    "\n",
    "ax1.plot(alphas, num_train_losses, label='Training accuracy')\n",
    "ax1.plot(alphas, num_test_losses, label='Testing accuracy')\n",
    "ax1.set_xscale('log')\n",
    "ax1.set_xlabel('Alpha')\n",
    "ax1.set_ylabel('Mean squared error')\n",
    "ax1.legend()\n",
    "ax1.set_title(\"Scratch\")\n",
    "\n",
    "ax2.plot(alphas, sk_num_train_losses, label='Training accuracy')\n",
    "ax2.plot(alphas, sk_num_test_losses, label='Testing accuracy')\n",
    "ax2.set_xscale('log')\n",
    "ax2.set_xlabel('Alpha')\n",
    "ax2.set_ylabel('Mean squared error')\n",
    "ax2.legend()\n",
    "ax2.set_title(\"ScikitLearn\")\n"
   ]
  },
  {
   "cell_type": "code",
   "execution_count": 18,
   "metadata": {},
   "outputs": [
    {
     "data": {
      "text/plain": [
       "Text(0.5, 1.0, 'ScikitLearn')"
      ]
     },
     "execution_count": 18,
     "metadata": {},
     "output_type": "execute_result"
    },
    {
     "data": {
      "image/png": "[encoded data removed]",
      "text/plain": [
       "<Figure size 1000x500 with 2 Axes>"
      ]
     },
     "metadata": {},
     "output_type": "display_data"
    }
   ],
   "source": [
    "fig, (ax1, ax2) = plt.subplots(1, 2)\n",
    "fig.suptitle('MSE on all features')\n",
    "fig.set_size_inches(10, 5)\n",
    "\n",
    "ax1.plot(alphas, cat_train_losses, label='Training accuracy')\n",
    "ax1.plot(alphas, cat_test_losses, label='Testing accuracy')\n",
    "ax1.set_xscale('log')\n",
    "ax1.set_xlabel('Alpha')\n",
    "ax1.set_ylabel('Mean squared error')\n",
    "ax1.legend()\n",
    "ax1.set_title(\"Scratch\")\n",
    "\n",
    "ax2.plot(alphas, sk_cat_train_losses, label='Training accuracy')\n",
    "ax2.plot(alphas, sk_cat_test_losses, label='Testing accuracy')\n",
    "ax2.set_xscale('log')\n",
    "ax2.set_xlabel('Alpha')\n",
    "ax2.set_ylabel('Mean squared error')\n",
    "ax2.legend()\n",
    "ax2.set_title(\"ScikitLearn\")\n"
   ]
  },
  {
   "cell_type": "markdown",
   "metadata": {},
   "source": [
    "# Linear regression\n",
    "When we put `alpha=0` in the ridge regression function it becomes a linear predictor"
   ]
  },
  {
   "cell_type": "markdown",
   "metadata": {},
   "source": [
    "### Numerical features"
   ]
  },
  {
   "cell_type": "code",
   "execution_count": 19,
   "metadata": {},
   "outputs": [
    {
     "name": "stdout",
     "output_type": "stream",
     "text": [
      "Predicted y: \t37.70649504797095\n",
      "Real y: \t52.0\n",
      "Average square loss:  414.79697987114054\n"
     ]
    }
   ],
   "source": [
    "# Compute the hyperplane for the numerical dataset\n",
    "result_numeric = ridge_regression(0, train_num_df) # alpha = 0 --> linear regression\n",
    "\n",
    "# Predicting by taking a row of the training set\n",
    "datapoint = train_num_df.iloc[0]\n",
    "predicted_y = predict(result_numeric, datapoint)\n",
    "\n",
    "print(f\"Predicted y: \\t{predicted_y}\")\n",
    "print(f\"Real y: \\t{datapoint['popularity']}\")\n",
    "\n",
    "# Compute the Average square loss of the hyperplane (numerical)\n",
    "print(\"Average square loss: \", avg_square_loss(result_numeric, test_num_df))"
   ]
  },
  {
   "cell_type": "code",
   "execution_count": 20,
   "metadata": {},
   "outputs": [
    {
     "data": {
      "text/plain": [
       "408.00866048682724"
      ]
     },
     "execution_count": 20,
     "metadata": {},
     "output_type": "execute_result"
    }
   ],
   "source": [
    "clf = Ridge(alpha=0)\n",
    "clf.fit(train_num_df.drop(columns='popularity'), train_num_df['popularity'])\n",
    "mean_squared_error(test_num_df['popularity'], clf.predict(test_num_df.drop(columns='popularity')))"
   ]
  },
  {
   "cell_type": "markdown",
   "metadata": {},
   "source": [
    "### All features"
   ]
  },
  {
   "cell_type": "code",
   "execution_count": 21,
   "metadata": {},
   "outputs": [
    {
     "name": "stdout",
     "output_type": "stream",
     "text": [
      "Predicted y: \t48.43838705608286\n",
      "Real y: \t52.0\n",
      "Average square loss:  273.3458436016839\n"
     ]
    }
   ],
   "source": [
    "# Compute the hyperplane for the categorical dataset\n",
    "result_categoric = ridge_regression(0, train_cat_df) # alpha = 0 --> linear regression\n",
    "\n",
    "# Predicting by taking a row of the training set\n",
    "datapoint = train_cat_df.iloc[0]\n",
    "predicted_y = predict(result_categoric, datapoint)\n",
    "\n",
    "print(f\"Predicted y: \\t{predicted_y}\")\n",
    "print(f\"Real y: \\t{datapoint['popularity']}\")\n",
    "\n",
    "# Compute the Average square loss of the hyperplane (categorical)\n",
    "print(\"Average square loss: \", avg_square_loss(result_categoric, test_cat_df))"
   ]
  },
  {
   "cell_type": "code",
   "execution_count": 22,
   "metadata": {},
   "outputs": [
    {
     "data": {
      "text/plain": [
       "273.3683137908221"
      ]
     },
     "execution_count": 22,
     "metadata": {},
     "output_type": "execute_result"
    }
   ],
   "source": [
    "clf = Ridge(alpha=0)\n",
    "clf.fit(train_cat_df.drop(columns='popularity'), train_cat_df['popularity'])\n",
    "mean_squared_error(test_cat_df['popularity'], clf.predict(test_cat_df.drop(columns='popularity')))"
   ]
  },
  {
   "cell_type": "markdown",
   "metadata": {},
   "source": [
    "# (Nested) Cross Validation"
   ]
  },
  {
   "cell_type": "code",
   "execution_count": 23,
   "metadata": {},
   "outputs": [],
   "source": [
    "def cross_validation(k, dataset, alphas):\n",
    "\n",
    "    # Return a df from an arraty of df excepr the i-th\n",
    "    def get_set_except_i(dataset_array, i):\n",
    "        return pd.concat(dataset_array[j] for j in range(len(dataset_array)) if i!=j)\n",
    "    \n",
    "    # Split the dataset into k parts\n",
    "    dataset_array = np.array_split(dataset, k)\n",
    "    \n",
    "    losses = []\n",
    "\n",
    "    for i in range(k):\n",
    "        # In the i-th iteration, Si is the test and S\\Si is the training\n",
    "        test_cv = dataset_array[i]\n",
    "        train_cv = get_set_except_i(dataset_array, i)\n",
    "\n",
    "        # Split the training set into a new training set and a valid set (nested CV)\n",
    "        train_cv_array = np.array_split(train_cv, k-1)\n",
    "        dev_cv = train_cv_array[0]\n",
    "        nested_cv = get_set_except_i(train_cv_array, 0)\n",
    "        \n",
    "        # Find the best hyperparameter of your alphas\n",
    "        loss = float(\"inf\")\n",
    "        alpha = 0\n",
    "        for a in alphas:\n",
    "            predictor = ridge_regression(a, nested_cv)\n",
    "\n",
    "            local_loss = avg_square_loss(predictor, dev_cv)\n",
    "            if loss > local_loss:\n",
    "                loss = local_loss\n",
    "                alpha = a\n",
    "                \n",
    "        # Compute k predictors and their losses\n",
    "        prediction = ridge_regression(alpha, train_cv)\n",
    "        losses.append(avg_square_loss(prediction, test_cv))\n",
    "\n",
    "    #Find the avg loss of the predictors\n",
    "    return np.mean(losses), prediction, alpha"
   ]
  },
  {
   "cell_type": "markdown",
   "metadata": {},
   "source": [
    "## Scratch Ridge CV"
   ]
  },
  {
   "cell_type": "code",
   "execution_count": 24,
   "metadata": {},
   "outputs": [
    {
     "name": "stdout",
     "output_type": "stream",
     "text": [
      "Average loss with nested CV:  275.39605292761894\n",
      "Best alpha with nested CV:  5.361336110051605\n"
     ]
    }
   ],
   "source": [
    "K = 5\n",
    "alphas = 10**np.linspace(10, -2, 100)*0.5\n",
    "loss_cv, pred_cv, a_cv = cross_validation(K, categorical_df, alphas)\n",
    "print(\"Average loss with nested CV: \", loss_cv)\n",
    "print(\"Best alpha with nested CV: \", a_cv)"
   ]
  },
  {
   "cell_type": "code",
   "execution_count": 25,
   "metadata": {},
   "outputs": [
    {
     "name": "stdout",
     "output_type": "stream",
     "text": [
      "292.4064508322168\n"
     ]
    }
   ],
   "source": [
    "#Experiment with alpha achieved by CV\n",
    "prediction = ridge_regression(a_cv, train_cat_df.sample(7500, random_state=0))\n",
    "print(avg_square_loss(prediction, test_cat_df.sample(2500, random_state=0)))"
   ]
  },
  {
   "cell_type": "markdown",
   "metadata": {},
   "source": [
    "## ScikitLearn Ridge CV"
   ]
  },
  {
   "cell_type": "code",
   "execution_count": 26,
   "metadata": {},
   "outputs": [
    {
     "name": "stderr",
     "output_type": "stream",
     "text": [
      "c:\\Users\\andre\\AppData\\Local\\Programs\\Python\\Python310\\lib\\site-packages\\sklearn\\linear_model\\_ridge.py:211: LinAlgWarning: Ill-conditioned matrix (rcond=8.68246e-17): result may not be accurate.\n",
      "  return linalg.solve(A, Xy, assume_a=\"pos\", overwrite_a=True).T\n",
      "c:\\Users\\andre\\AppData\\Local\\Programs\\Python\\Python310\\lib\\site-packages\\sklearn\\linear_model\\_ridge.py:211: LinAlgWarning: Ill-conditioned matrix (rcond=8.79368e-17): result may not be accurate.\n",
      "  return linalg.solve(A, Xy, assume_a=\"pos\", overwrite_a=True).T\n",
      "c:\\Users\\andre\\AppData\\Local\\Programs\\Python\\Python310\\lib\\site-packages\\sklearn\\linear_model\\_ridge.py:211: LinAlgWarning: Ill-conditioned matrix (rcond=9.35089e-17): result may not be accurate.\n",
      "  return linalg.solve(A, Xy, assume_a=\"pos\", overwrite_a=True).T\n",
      "c:\\Users\\andre\\AppData\\Local\\Programs\\Python\\Python310\\lib\\site-packages\\sklearn\\linear_model\\_ridge.py:211: LinAlgWarning: Ill-conditioned matrix (rcond=8.65487e-17): result may not be accurate.\n",
      "  return linalg.solve(A, Xy, assume_a=\"pos\", overwrite_a=True).T\n",
      "c:\\Users\\andre\\AppData\\Local\\Programs\\Python\\Python310\\lib\\site-packages\\sklearn\\linear_model\\_ridge.py:211: LinAlgWarning: Ill-conditioned matrix (rcond=9.03965e-17): result may not be accurate.\n",
      "  return linalg.solve(A, Xy, assume_a=\"pos\", overwrite_a=True).T\n",
      "c:\\Users\\andre\\AppData\\Local\\Programs\\Python\\Python310\\lib\\site-packages\\sklearn\\linear_model\\_ridge.py:211: LinAlgWarning: Ill-conditioned matrix (rcond=6.56814e-17): result may not be accurate.\n",
      "  return linalg.solve(A, Xy, assume_a=\"pos\", overwrite_a=True).T\n",
      "c:\\Users\\andre\\AppData\\Local\\Programs\\Python\\Python310\\lib\\site-packages\\sklearn\\linear_model\\_ridge.py:211: LinAlgWarning: Ill-conditioned matrix (rcond=6.65226e-17): result may not be accurate.\n",
      "  return linalg.solve(A, Xy, assume_a=\"pos\", overwrite_a=True).T\n",
      "c:\\Users\\andre\\AppData\\Local\\Programs\\Python\\Python310\\lib\\site-packages\\sklearn\\linear_model\\_ridge.py:211: LinAlgWarning: Ill-conditioned matrix (rcond=7.0738e-17): result may not be accurate.\n",
      "  return linalg.solve(A, Xy, assume_a=\"pos\", overwrite_a=True).T\n",
      "c:\\Users\\andre\\AppData\\Local\\Programs\\Python\\Python310\\lib\\site-packages\\sklearn\\linear_model\\_ridge.py:211: LinAlgWarning: Ill-conditioned matrix (rcond=6.54727e-17): result may not be accurate.\n",
      "  return linalg.solve(A, Xy, assume_a=\"pos\", overwrite_a=True).T\n",
      "c:\\Users\\andre\\AppData\\Local\\Programs\\Python\\Python310\\lib\\site-packages\\sklearn\\linear_model\\_ridge.py:211: LinAlgWarning: Ill-conditioned matrix (rcond=6.83834e-17): result may not be accurate.\n",
      "  return linalg.solve(A, Xy, assume_a=\"pos\", overwrite_a=True).T\n",
      "c:\\Users\\andre\\AppData\\Local\\Programs\\Python\\Python310\\lib\\site-packages\\sklearn\\linear_model\\_ridge.py:211: LinAlgWarning: Ill-conditioned matrix (rcond=4.96865e-17): result may not be accurate.\n",
      "  return linalg.solve(A, Xy, assume_a=\"pos\", overwrite_a=True).T\n",
      "c:\\Users\\andre\\AppData\\Local\\Programs\\Python\\Python310\\lib\\site-packages\\sklearn\\linear_model\\_ridge.py:211: LinAlgWarning: Ill-conditioned matrix (rcond=5.03228e-17): result may not be accurate.\n",
      "  return linalg.solve(A, Xy, assume_a=\"pos\", overwrite_a=True).T\n",
      "c:\\Users\\andre\\AppData\\Local\\Programs\\Python\\Python310\\lib\\site-packages\\sklearn\\linear_model\\_ridge.py:211: LinAlgWarning: Ill-conditioned matrix (rcond=5.35119e-17): result may not be accurate.\n",
      "  return linalg.solve(A, Xy, assume_a=\"pos\", overwrite_a=True).T\n",
      "c:\\Users\\andre\\AppData\\Local\\Programs\\Python\\Python310\\lib\\site-packages\\sklearn\\linear_model\\_ridge.py:211: LinAlgWarning: Ill-conditioned matrix (rcond=4.95287e-17): result may not be accurate.\n",
      "  return linalg.solve(A, Xy, assume_a=\"pos\", overwrite_a=True).T\n",
      "c:\\Users\\andre\\AppData\\Local\\Programs\\Python\\Python310\\lib\\site-packages\\sklearn\\linear_model\\_ridge.py:211: LinAlgWarning: Ill-conditioned matrix (rcond=5.17305e-17): result may not be accurate.\n",
      "  return linalg.solve(A, Xy, assume_a=\"pos\", overwrite_a=True).T\n",
      "c:\\Users\\andre\\AppData\\Local\\Programs\\Python\\Python310\\lib\\site-packages\\sklearn\\linear_model\\_ridge.py:211: LinAlgWarning: Ill-conditioned matrix (rcond=3.75866e-17): result may not be accurate.\n",
      "  return linalg.solve(A, Xy, assume_a=\"pos\", overwrite_a=True).T\n",
      "c:\\Users\\andre\\AppData\\Local\\Programs\\Python\\Python310\\lib\\site-packages\\sklearn\\linear_model\\_ridge.py:211: LinAlgWarning: Ill-conditioned matrix (rcond=3.80679e-17): result may not be accurate.\n",
      "  return linalg.solve(A, Xy, assume_a=\"pos\", overwrite_a=True).T\n",
      "c:\\Users\\andre\\AppData\\Local\\Programs\\Python\\Python310\\lib\\site-packages\\sklearn\\linear_model\\_ridge.py:211: LinAlgWarning: Ill-conditioned matrix (rcond=4.04804e-17): result may not be accurate.\n",
      "  return linalg.solve(A, Xy, assume_a=\"pos\", overwrite_a=True).T\n",
      "c:\\Users\\andre\\AppData\\Local\\Programs\\Python\\Python310\\lib\\site-packages\\sklearn\\linear_model\\_ridge.py:211: LinAlgWarning: Ill-conditioned matrix (rcond=3.74672e-17): result may not be accurate.\n",
      "  return linalg.solve(A, Xy, assume_a=\"pos\", overwrite_a=True).T\n",
      "c:\\Users\\andre\\AppData\\Local\\Programs\\Python\\Python310\\lib\\site-packages\\sklearn\\linear_model\\_ridge.py:211: LinAlgWarning: Ill-conditioned matrix (rcond=3.91328e-17): result may not be accurate.\n",
      "  return linalg.solve(A, Xy, assume_a=\"pos\", overwrite_a=True).T\n",
      "c:\\Users\\andre\\AppData\\Local\\Programs\\Python\\Python310\\lib\\site-packages\\sklearn\\linear_model\\_ridge.py:211: LinAlgWarning: Ill-conditioned matrix (rcond=2.84332e-17): result may not be accurate.\n",
      "  return linalg.solve(A, Xy, assume_a=\"pos\", overwrite_a=True).T\n",
      "c:\\Users\\andre\\AppData\\Local\\Programs\\Python\\Python310\\lib\\site-packages\\sklearn\\linear_model\\_ridge.py:211: LinAlgWarning: Ill-conditioned matrix (rcond=2.87973e-17): result may not be accurate.\n",
      "  return linalg.solve(A, Xy, assume_a=\"pos\", overwrite_a=True).T\n",
      "c:\\Users\\andre\\AppData\\Local\\Programs\\Python\\Python310\\lib\\site-packages\\sklearn\\linear_model\\_ridge.py:211: LinAlgWarning: Ill-conditioned matrix (rcond=3.06223e-17): result may not be accurate.\n",
      "  return linalg.solve(A, Xy, assume_a=\"pos\", overwrite_a=True).T\n",
      "c:\\Users\\andre\\AppData\\Local\\Programs\\Python\\Python310\\lib\\site-packages\\sklearn\\linear_model\\_ridge.py:211: LinAlgWarning: Ill-conditioned matrix (rcond=2.83429e-17): result may not be accurate.\n",
      "  return linalg.solve(A, Xy, assume_a=\"pos\", overwrite_a=True).T\n",
      "c:\\Users\\andre\\AppData\\Local\\Programs\\Python\\Python310\\lib\\site-packages\\sklearn\\linear_model\\_ridge.py:211: LinAlgWarning: Ill-conditioned matrix (rcond=2.96029e-17): result may not be accurate.\n",
      "  return linalg.solve(A, Xy, assume_a=\"pos\", overwrite_a=True).T\n",
      "c:\\Users\\andre\\AppData\\Local\\Programs\\Python\\Python310\\lib\\site-packages\\sklearn\\linear_model\\_ridge.py:211: LinAlgWarning: Ill-conditioned matrix (rcond=2.15089e-17): result may not be accurate.\n",
      "  return linalg.solve(A, Xy, assume_a=\"pos\", overwrite_a=True).T\n",
      "c:\\Users\\andre\\AppData\\Local\\Programs\\Python\\Python310\\lib\\site-packages\\sklearn\\linear_model\\_ridge.py:211: LinAlgWarning: Ill-conditioned matrix (rcond=2.17843e-17): result may not be accurate.\n",
      "  return linalg.solve(A, Xy, assume_a=\"pos\", overwrite_a=True).T\n",
      "c:\\Users\\andre\\AppData\\Local\\Programs\\Python\\Python310\\lib\\site-packages\\sklearn\\linear_model\\_ridge.py:211: LinAlgWarning: Ill-conditioned matrix (rcond=2.31649e-17): result may not be accurate.\n",
      "  return linalg.solve(A, Xy, assume_a=\"pos\", overwrite_a=True).T\n",
      "c:\\Users\\andre\\AppData\\Local\\Programs\\Python\\Python310\\lib\\site-packages\\sklearn\\linear_model\\_ridge.py:211: LinAlgWarning: Ill-conditioned matrix (rcond=2.14406e-17): result may not be accurate.\n",
      "  return linalg.solve(A, Xy, assume_a=\"pos\", overwrite_a=True).T\n",
      "c:\\Users\\andre\\AppData\\Local\\Programs\\Python\\Python310\\lib\\site-packages\\sklearn\\linear_model\\_ridge.py:211: LinAlgWarning: Ill-conditioned matrix (rcond=2.23937e-17): result may not be accurate.\n",
      "  return linalg.solve(A, Xy, assume_a=\"pos\", overwrite_a=True).T\n",
      "c:\\Users\\andre\\AppData\\Local\\Programs\\Python\\Python310\\lib\\site-packages\\sklearn\\linear_model\\_ridge.py:211: LinAlgWarning: Ill-conditioned matrix (rcond=1.62708e-17): result may not be accurate.\n",
      "  return linalg.solve(A, Xy, assume_a=\"pos\", overwrite_a=True).T\n",
      "c:\\Users\\andre\\AppData\\Local\\Programs\\Python\\Python310\\lib\\site-packages\\sklearn\\linear_model\\_ridge.py:211: LinAlgWarning: Ill-conditioned matrix (rcond=1.64791e-17): result may not be accurate.\n",
      "  return linalg.solve(A, Xy, assume_a=\"pos\", overwrite_a=True).T\n",
      "c:\\Users\\andre\\AppData\\Local\\Programs\\Python\\Python310\\lib\\site-packages\\sklearn\\linear_model\\_ridge.py:211: LinAlgWarning: Ill-conditioned matrix (rcond=1.75235e-17): result may not be accurate.\n",
      "  return linalg.solve(A, Xy, assume_a=\"pos\", overwrite_a=True).T\n",
      "c:\\Users\\andre\\AppData\\Local\\Programs\\Python\\Python310\\lib\\site-packages\\sklearn\\linear_model\\_ridge.py:211: LinAlgWarning: Ill-conditioned matrix (rcond=1.62191e-17): result may not be accurate.\n",
      "  return linalg.solve(A, Xy, assume_a=\"pos\", overwrite_a=True).T\n",
      "c:\\Users\\andre\\AppData\\Local\\Programs\\Python\\Python310\\lib\\site-packages\\sklearn\\linear_model\\_ridge.py:211: LinAlgWarning: Ill-conditioned matrix (rcond=1.69401e-17): result may not be accurate.\n",
      "  return linalg.solve(A, Xy, assume_a=\"pos\", overwrite_a=True).T\n",
      "c:\\Users\\andre\\AppData\\Local\\Programs\\Python\\Python310\\lib\\site-packages\\sklearn\\linear_model\\_ridge.py:211: LinAlgWarning: Ill-conditioned matrix (rcond=1.23083e-17): result may not be accurate.\n",
      "  return linalg.solve(A, Xy, assume_a=\"pos\", overwrite_a=True).T\n",
      "c:\\Users\\andre\\AppData\\Local\\Programs\\Python\\Python310\\lib\\site-packages\\sklearn\\linear_model\\_ridge.py:211: LinAlgWarning: Ill-conditioned matrix (rcond=1.24659e-17): result may not be accurate.\n",
      "  return linalg.solve(A, Xy, assume_a=\"pos\", overwrite_a=True).T\n",
      "c:\\Users\\andre\\AppData\\Local\\Programs\\Python\\Python310\\lib\\site-packages\\sklearn\\linear_model\\_ridge.py:211: LinAlgWarning: Ill-conditioned matrix (rcond=1.3256e-17): result may not be accurate.\n",
      "  return linalg.solve(A, Xy, assume_a=\"pos\", overwrite_a=True).T\n",
      "c:\\Users\\andre\\AppData\\Local\\Programs\\Python\\Python310\\lib\\site-packages\\sklearn\\linear_model\\_ridge.py:211: LinAlgWarning: Ill-conditioned matrix (rcond=1.22692e-17): result may not be accurate.\n",
      "  return linalg.solve(A, Xy, assume_a=\"pos\", overwrite_a=True).T\n",
      "c:\\Users\\andre\\AppData\\Local\\Programs\\Python\\Python310\\lib\\site-packages\\sklearn\\linear_model\\_ridge.py:211: LinAlgWarning: Ill-conditioned matrix (rcond=1.28146e-17): result may not be accurate.\n",
      "  return linalg.solve(A, Xy, assume_a=\"pos\", overwrite_a=True).T\n",
      "c:\\Users\\andre\\AppData\\Local\\Programs\\Python\\Python310\\lib\\site-packages\\sklearn\\linear_model\\_ridge.py:211: LinAlgWarning: Ill-conditioned matrix (rcond=9.31081e-18): result may not be accurate.\n",
      "  return linalg.solve(A, Xy, assume_a=\"pos\", overwrite_a=True).T\n",
      "c:\\Users\\andre\\AppData\\Local\\Programs\\Python\\Python310\\lib\\site-packages\\sklearn\\linear_model\\_ridge.py:211: LinAlgWarning: Ill-conditioned matrix (rcond=9.43002e-18): result may not be accurate.\n",
      "  return linalg.solve(A, Xy, assume_a=\"pos\", overwrite_a=True).T\n",
      "c:\\Users\\andre\\AppData\\Local\\Programs\\Python\\Python310\\lib\\site-packages\\sklearn\\linear_model\\_ridge.py:211: LinAlgWarning: Ill-conditioned matrix (rcond=1.00277e-17): result may not be accurate.\n",
      "  return linalg.solve(A, Xy, assume_a=\"pos\", overwrite_a=True).T\n",
      "c:\\Users\\andre\\AppData\\Local\\Programs\\Python\\Python310\\lib\\site-packages\\sklearn\\linear_model\\_ridge.py:211: LinAlgWarning: Ill-conditioned matrix (rcond=9.28125e-18): result may not be accurate.\n",
      "  return linalg.solve(A, Xy, assume_a=\"pos\", overwrite_a=True).T\n",
      "c:\\Users\\andre\\AppData\\Local\\Programs\\Python\\Python310\\lib\\site-packages\\sklearn\\linear_model\\_ridge.py:211: LinAlgWarning: Ill-conditioned matrix (rcond=9.69382e-18): result may not be accurate.\n",
      "  return linalg.solve(A, Xy, assume_a=\"pos\", overwrite_a=True).T\n",
      "c:\\Users\\andre\\AppData\\Local\\Programs\\Python\\Python310\\lib\\site-packages\\sklearn\\linear_model\\_ridge.py:211: LinAlgWarning: Ill-conditioned matrix (rcond=7.04331e-18): result may not be accurate.\n",
      "  return linalg.solve(A, Xy, assume_a=\"pos\", overwrite_a=True).T\n",
      "c:\\Users\\andre\\AppData\\Local\\Programs\\Python\\Python310\\lib\\site-packages\\sklearn\\linear_model\\_ridge.py:211: LinAlgWarning: Ill-conditioned matrix (rcond=7.13348e-18): result may not be accurate.\n",
      "  return linalg.solve(A, Xy, assume_a=\"pos\", overwrite_a=True).T\n",
      "c:\\Users\\andre\\AppData\\Local\\Programs\\Python\\Python310\\lib\\site-packages\\sklearn\\linear_model\\_ridge.py:211: LinAlgWarning: Ill-conditioned matrix (rcond=7.5856e-18): result may not be accurate.\n",
      "  return linalg.solve(A, Xy, assume_a=\"pos\", overwrite_a=True).T\n",
      "c:\\Users\\andre\\AppData\\Local\\Programs\\Python\\Python310\\lib\\site-packages\\sklearn\\linear_model\\_ridge.py:211: LinAlgWarning: Ill-conditioned matrix (rcond=7.02094e-18): result may not be accurate.\n",
      "  return linalg.solve(A, Xy, assume_a=\"pos\", overwrite_a=True).T\n",
      "c:\\Users\\andre\\AppData\\Local\\Programs\\Python\\Python310\\lib\\site-packages\\sklearn\\linear_model\\_ridge.py:211: LinAlgWarning: Ill-conditioned matrix (rcond=7.33304e-18): result may not be accurate.\n",
      "  return linalg.solve(A, Xy, assume_a=\"pos\", overwrite_a=True).T\n",
      "c:\\Users\\andre\\AppData\\Local\\Programs\\Python\\Python310\\lib\\site-packages\\sklearn\\linear_model\\_ridge.py:211: LinAlgWarning: Ill-conditioned matrix (rcond=5.32801e-18): result may not be accurate.\n",
      "  return linalg.solve(A, Xy, assume_a=\"pos\", overwrite_a=True).T\n",
      "c:\\Users\\andre\\AppData\\Local\\Programs\\Python\\Python310\\lib\\site-packages\\sklearn\\linear_model\\_ridge.py:211: LinAlgWarning: Ill-conditioned matrix (rcond=5.39623e-18): result may not be accurate.\n",
      "  return linalg.solve(A, Xy, assume_a=\"pos\", overwrite_a=True).T\n",
      "c:\\Users\\andre\\AppData\\Local\\Programs\\Python\\Python310\\lib\\site-packages\\sklearn\\linear_model\\_ridge.py:211: LinAlgWarning: Ill-conditioned matrix (rcond=5.73824e-18): result may not be accurate.\n",
      "  return linalg.solve(A, Xy, assume_a=\"pos\", overwrite_a=True).T\n",
      "c:\\Users\\andre\\AppData\\Local\\Programs\\Python\\Python310\\lib\\site-packages\\sklearn\\linear_model\\_ridge.py:211: LinAlgWarning: Ill-conditioned matrix (rcond=5.3111e-18): result may not be accurate.\n",
      "  return linalg.solve(A, Xy, assume_a=\"pos\", overwrite_a=True).T\n",
      "c:\\Users\\andre\\AppData\\Local\\Programs\\Python\\Python310\\lib\\site-packages\\sklearn\\linear_model\\_ridge.py:211: LinAlgWarning: Ill-conditioned matrix (rcond=5.54719e-18): result may not be accurate.\n",
      "  return linalg.solve(A, Xy, assume_a=\"pos\", overwrite_a=True).T\n"
     ]
    },
    {
     "data": {
      "text/plain": [
       "273.356488100245"
      ]
     },
     "execution_count": 26,
     "metadata": {},
     "output_type": "execute_result"
    }
   ],
   "source": [
    "alphas = 10**np.linspace(10, -2, 100)*0.5\n",
    "\n",
    "clf = RidgeCV(alphas=alphas, cv=5)\n",
    "clf.fit(categorical_df.drop(columns='popularity'),categorical_df['popularity'])\n",
    "\n",
    "sk_loss_cv = mean_squared_error(categorical_df['popularity'], clf.predict(categorical_df.drop(columns='popularity')))\n",
    "sk_loss_cv\n"
   ]
  },
  {
   "cell_type": "markdown",
   "metadata": {},
   "source": [
    "# Kernel Ridge Regression\n"
   ]
  },
  {
   "cell_type": "markdown",
   "metadata": {},
   "source": [
    "Function that calculates the average distance of the first n datapoints."
   ]
  },
  {
   "cell_type": "code",
   "execution_count": 27,
   "metadata": {},
   "outputs": [],
   "source": [
    "def avg_norm(dataset, n_samples):\n",
    "    d = dataset.sample(n=n_samples, random_state=0).values\n",
    "    norm = 0\n",
    "    n = 0\n",
    "    for i in range(n_samples):\n",
    "        for j in range(i+1,n_samples):\n",
    "            n+=1\n",
    "            norm += (np.linalg.norm(d[i] - d[j]))**2\n",
    "            \n",
    "    return norm/n"
   ]
  },
  {
   "cell_type": "code",
   "execution_count": 28,
   "metadata": {},
   "outputs": [
    {
     "data": {
      "text/plain": [
       "[25646033841.577633,\n",
       " 14747945968.281841,\n",
       " 14652219172.038027,\n",
       " 16264607617.032507,\n",
       " 21187343719.41936]"
      ]
     },
     "execution_count": 28,
     "metadata": {},
     "output_type": "execute_result"
    }
   ],
   "source": [
    "norm_list = []\n",
    "for i in [100, 500, 1000, 5000, 10000]:\n",
    "    norm_list.append(avg_norm(categorical_df, i))\n",
    "\n",
    "avg_gamma = norm_list[-1]\n",
    "norm_list"
   ]
  },
  {
   "cell_type": "markdown",
   "metadata": {},
   "source": [
    "|Samples|Average Norm|\n",
    "|-|-|\n",
    "|100|25646033841.577633|\n",
    "|500|14747945968.281841|\n",
    "|1000|14652219172.03803|\n",
    "|5000|16264607617.032509|\n",
    "|10000|21187343719.41936|\n"
   ]
  },
  {
   "cell_type": "markdown",
   "metadata": {},
   "source": [
    "## Kernel functions based on Gaussian kernel"
   ]
  },
  {
   "cell_type": "code",
   "execution_count": 29,
   "metadata": {},
   "outputs": [],
   "source": [
    "def gaussian_kernel(gamma, v1, v2):\n",
    "    norm = np.square(np.linalg.norm(v1 - v2))\n",
    "    return np.exp((norm)/-(2 * (gamma)))\n",
    "\n",
    "\n",
    "def kernel_ridge_regression(dataset, alpha, gamma):\n",
    "    y = dataset[\"popularity\"]\n",
    "    dataset_values = dataset.drop(columns='popularity').values\n",
    "    n_samples = dataset.shape[0]\n",
    "\n",
    "    kernel = np.zeros((n_samples, n_samples))\n",
    "    for i in range(n_samples):\n",
    "        for j in range(i, n_samples):\n",
    "            kernel[i, j] = gaussian_kernel(gamma, dataset_values[i], dataset_values[j])\n",
    "\n",
    "    # we consider half of the datapoints since it is the 'specular'\n",
    "    kernel = np.triu(kernel, 1) + kernel.transpose()\n",
    "    \n",
    "    identity = np.identity(n_samples)\n",
    "\n",
    "    # w = y.transpose() @ np.linalg.inv((alpha * identity + kernel)) \n",
    "    w = np.linalg.solve(alpha * identity + kernel, y)\n",
    "\n",
    "    w_df = pd.DataFrame(w, columns=['weights'])\n",
    "    return w_df\n",
    "\n",
    "\n",
    "def kernel_predict(w, dataset, x, gamma):\n",
    "    x_values = x.drop(labels='popularity').values\n",
    "    dataset_values = dataset.drop(columns='popularity').values\n",
    "    kernel_values = np.array([gaussian_kernel(gamma, x_values, x_i) for x_i in dataset_values])\n",
    "    prediction = w['weights'] @ kernel_values\n",
    "    return prediction\n",
    "\n",
    "\n",
    "def kernel_avg_square_loss(w, train_set, test_set, gamma):\n",
    "    y = test_set[[\"popularity\"]]\n",
    "    predictions = test_set.apply(lambda r: kernel_predict(w, train_set, r, gamma), 1)\n",
    "    squared_diff = (predictions - y.transpose())**2\n",
    "    return np.mean(squared_diff, axis=1)[0]\n"
   ]
  },
  {
   "cell_type": "markdown",
   "metadata": {},
   "source": [
    "### Test Kernel only on numerical features"
   ]
  },
  {
   "cell_type": "code",
   "execution_count": 30,
   "metadata": {},
   "outputs": [
    {
     "name": "stdout",
     "output_type": "stream",
     "text": [
      "52.0\n",
      "35.27323639296537\n",
      "AVG Square loss:  420.2608901183598\n",
      "AVG loss:  20.50026561092221\n"
     ]
    }
   ],
   "source": [
    "# Test kernel on numerical features\n",
    "train_set = train_num_df.sample(7500, random_state=0)\n",
    "test_set = test_num_df.sample(2500, random_state=0)\n",
    "x = numerical_df.iloc[0]\n",
    "\n",
    "# Take gamma as average distance\n",
    "gamma = avg_norm(train_set, train_set.shape[0])\n",
    "w = kernel_ridge_regression(train_set, 1, gamma)\n",
    "\n",
    "print(x['popularity'])\n",
    "print(kernel_predict(w, train_set, x, gamma))\n",
    "\n",
    "kernel_loss = kernel_avg_square_loss(w, train_set, test_set, gamma)\n",
    "print(\"AVG Square loss: \", kernel_loss)\n",
    "print(\"AVG loss: \", kernel_loss**(1/2))"
   ]
  },
  {
   "cell_type": "markdown",
   "metadata": {},
   "source": [
    "### Test Kernel on all features"
   ]
  },
  {
   "cell_type": "code",
   "execution_count": 31,
   "metadata": {},
   "outputs": [
    {
     "name": "stdout",
     "output_type": "stream",
     "text": [
      "52.0\n",
      "35.27323645082265\n",
      "AVG Square loss:  420.26088944145107\n",
      "AVG loss:  20.500265594412454\n"
     ]
    }
   ],
   "source": [
    "# Test kernel on all features\n",
    "train_set = train_cat_df.sample(7500, random_state=0)\n",
    "test_set = test_cat_df.sample(2500, random_state=0)\n",
    "x = categorical_df.iloc[0]\n",
    "\n",
    "gamma = avg_norm(train_set, train_set.shape[0])\n",
    "w = kernel_ridge_regression(train_set, 1, gamma)\n",
    "\n",
    "print(x['popularity'])\n",
    "print(kernel_predict(w, train_set, x, gamma))\n",
    "\n",
    "kernel_loss = kernel_avg_square_loss(w, train_set, test_set, gamma)\n",
    "print(\"AVG Square loss: \", kernel_loss)\n",
    "print(\"AVG loss: \", kernel_loss**(1/2))\n"
   ]
  },
  {
   "cell_type": "markdown",
   "metadata": {},
   "source": [
    "## ScikitLearn Kernel Ridge regression (RBF)"
   ]
  },
  {
   "cell_type": "markdown",
   "metadata": {},
   "source": [
    "### Numerical"
   ]
  },
  {
   "cell_type": "code",
   "execution_count": 32,
   "metadata": {},
   "outputs": [
    {
     "name": "stdout",
     "output_type": "stream",
     "text": [
      "Train  424.1498427789297\n",
      "Test  430.4756943656728\n"
     ]
    }
   ],
   "source": [
    "# Scikitlearn Kernel Ridge regression on numerical features\n",
    "train_set = train_num_df.sample(7500, random_state=0)\n",
    "test_set = test_num_df.sample(2500, random_state=0)\n",
    "\n",
    "clf = KernelRidge(kernel=RBF(avg_gamma), alpha=1, gamma=avg_gamma)\n",
    "clf.fit(train_set.drop(columns='popularity'), train_set['popularity'])\n",
    "sk_kernel_train_loss = mean_squared_error(train_set['popularity'], clf.predict(train_set.drop(columns='popularity')))\n",
    "sk_kernel_test_loss = mean_squared_error(test_set['popularity'], clf.predict(test_set.drop(columns='popularity')))\n",
    "print(\"Train \", sk_kernel_train_loss)\n",
    "print(\"Test \", sk_kernel_test_loss)"
   ]
  },
  {
   "cell_type": "markdown",
   "metadata": {},
   "source": [
    "### Categorical"
   ]
  },
  {
   "cell_type": "code",
   "execution_count": 44,
   "metadata": {},
   "outputs": [
    {
     "name": "stdout",
     "output_type": "stream",
     "text": [
      "Train  424.14984277892955\n",
      "Test  430.47569436567204\n"
     ]
    }
   ],
   "source": [
    "# Scikitlearn Kernel Ridge regression on all features\n",
    "train_set = train_cat_df.sample(7500, random_state=0)\n",
    "test_set = test_cat_df.sample(2500, random_state=0)\n",
    "\n",
    "clf = KernelRidge(kernel=RBF(avg_gamma), alpha=1, gamma=avg_gamma)\n",
    "clf.fit(train_set.drop(columns='popularity'), train_set['popularity'])\n",
    "sk_kernel_train_loss = mean_squared_error(train_set['popularity'], clf.predict(train_set.drop(columns='popularity')))\n",
    "sk_kernel_test_loss = mean_squared_error(test_set['popularity'], clf.predict(test_set.drop(columns='popularity')))\n",
    "print(\"Train \", sk_kernel_train_loss)\n",
    "print(\"Test \", sk_kernel_test_loss)"
   ]
  },
  {
   "cell_type": "markdown",
   "metadata": {},
   "source": [
    "## ScikitLearn Kernel Ridge regression (Linear)"
   ]
  },
  {
   "cell_type": "markdown",
   "metadata": {},
   "source": [
    "### Numerical"
   ]
  },
  {
   "cell_type": "code",
   "execution_count": 45,
   "metadata": {},
   "outputs": [
    {
     "name": "stderr",
     "output_type": "stream",
     "text": [
      "c:\\Users\\andre\\AppData\\Local\\Programs\\Python\\Python310\\lib\\site-packages\\sklearn\\linear_model\\_ridge.py:248: LinAlgWarning: Ill-conditioned matrix (rcond=7.841e-18): result may not be accurate.\n",
      "  dual_coef = linalg.solve(K, y, assume_a=\"pos\", overwrite_a=False)\n"
     ]
    },
    {
     "name": "stdout",
     "output_type": "stream",
     "text": [
      "Train  417.63292042462825\n",
      "Test  422.89184965689185\n"
     ]
    }
   ],
   "source": [
    "# Scikitlearn Kernel Ridge regression on numerical features\n",
    "train_set = train_num_df.sample(7500, random_state=0)\n",
    "test_set = test_num_df.sample(2500, random_state=0)\n",
    "\n",
    "clf = KernelRidge(alpha=1)\n",
    "clf.fit(train_set.drop(columns='popularity'), train_set['popularity'])\n",
    "sk_kernel_lin_train_loss = mean_squared_error(train_set['popularity'], clf.predict(train_set.drop(columns='popularity')))\n",
    "sk_kernel_lin_test_loss = mean_squared_error(test_set['popularity'], clf.predict(test_set.drop(columns='popularity')))\n",
    "print(\"Train \", sk_kernel_lin_train_loss)\n",
    "print(\"Test \", sk_kernel_lin_test_loss)"
   ]
  },
  {
   "cell_type": "markdown",
   "metadata": {},
   "source": [
    "### Categorical"
   ]
  },
  {
   "cell_type": "code",
   "execution_count": 46,
   "metadata": {},
   "outputs": [
    {
     "name": "stderr",
     "output_type": "stream",
     "text": [
      "c:\\Users\\andre\\AppData\\Local\\Programs\\Python\\Python310\\lib\\site-packages\\sklearn\\linear_model\\_ridge.py:248: LinAlgWarning: Ill-conditioned matrix (rcond=1.44374e-17): result may not be accurate.\n",
      "  dual_coef = linalg.solve(K, y, assume_a=\"pos\", overwrite_a=False)\n"
     ]
    },
    {
     "name": "stdout",
     "output_type": "stream",
     "text": [
      "Train  269.1724077290535\n",
      "Test  291.3555272927284\n"
     ]
    }
   ],
   "source": [
    "# Scikitlearn Kernel Ridge regression on all features\n",
    "train_set = train_cat_df.sample(7500, random_state=0)\n",
    "test_set = test_cat_df.sample(2500, random_state=0)\n",
    "\n",
    "clf = KernelRidge(alpha=1)\n",
    "clf.fit(train_set.drop(columns='popularity'), train_set['popularity'])\n",
    "sk_kernel_lin_train_loss = mean_squared_error(train_set['popularity'], clf.predict(train_set.drop(columns='popularity')))\n",
    "sk_kernel_lin_test_loss = mean_squared_error(test_set['popularity'], clf.predict(test_set.drop(columns='popularity')))\n",
    "print(\"Train \", sk_kernel_lin_train_loss)\n",
    "print(\"Test \", sk_kernel_lin_test_loss)"
   ]
  },
  {
   "cell_type": "markdown",
   "metadata": {},
   "source": [
    "## Kernel Cross Validation"
   ]
  },
  {
   "cell_type": "code",
   "execution_count": 36,
   "metadata": {},
   "outputs": [],
   "source": [
    "# Generating the sets of hyperparameters\n",
    "alphas = 10. ** np.arange(-2, 5)\n",
    "gammas = np.logspace(1, 100, num=5, base=1.5)"
   ]
  },
  {
   "cell_type": "code",
   "execution_count": 37,
   "metadata": {},
   "outputs": [],
   "source": [
    "def kernel_cross_validation(k, dataset, alpha, gammas):\n",
    "    # Return a df from an arraty of df excepr the i-th\n",
    "    def get_set_except_i(dataset_array, i):\n",
    "        return pd.concat(dataset_array[j] for j in range(len(dataset_array)) if i!=j)\n",
    "\n",
    "    # Split the dataset into k parts\n",
    "    dataset_array = np.array_split(dataset, k)\n",
    "\n",
    "    losses = []\n",
    "\n",
    "    for i in range(k):\n",
    "        # In the i-th iteration, Si is the test and S\\Si is the training\n",
    "        test_cv = dataset_array[i]\n",
    "        train_cv = get_set_except_i(dataset_array, i)\n",
    "\n",
    "        # Split the training set into a new training set and a valid set (nested CV)\n",
    "        train_cv_array = np.array_split(train_cv, k-1)\n",
    "        dev_cv = train_cv_array[0]\n",
    "        nested_cv = get_set_except_i(train_cv_array, 0)\n",
    "\n",
    "        # Find the best hyperparameter of your gammas\n",
    "        loss = float(\"inf\")\n",
    "        gamma = 0\n",
    "        for g in gammas:\n",
    "            predictor = kernel_ridge_regression(nested_cv, alpha, g)\n",
    "\n",
    "            local_loss = kernel_avg_square_loss(predictor, nested_cv, dev_cv, g)\n",
    "            if loss > local_loss:\n",
    "                loss = local_loss\n",
    "                gamma = g\n",
    "\n",
    "        # Compute k predictors and their losses\n",
    "        prediction = kernel_ridge_regression(train_cv, alpha, gamma)\n",
    "        losses.append(kernel_avg_square_loss(prediction, train_cv, test_cv, gamma))\n",
    "\n",
    "    # Find the avg loss of the predictors\n",
    "    return np.mean(losses), prediction, gamma"
   ]
  },
  {
   "cell_type": "markdown",
   "metadata": {},
   "source": [
    "### KCV on gammas"
   ]
  },
  {
   "cell_type": "code",
   "execution_count": 38,
   "metadata": {},
   "outputs": [
    {
     "name": "stdout",
     "output_type": "stream",
     "text": [
      "alphas: [1.e-02 1.e-01 1.e+00 1.e+01 1.e+02 1.e+03 1.e+04]\n",
      "gammas: [780923662.2761682, 780923662.2761682, 780923662.2761682, 780923662.2761682, 17818340093850.26, 4.065611775352152e+17, 4.065611775352152e+17]\n",
      "losses: [436.90811629336457, 436.77776587101897, 434.79237102203433, 440.07760252822357, 446.094827382671, 746.461678535782, 1303.2481332127547]\n"
     ]
    }
   ],
   "source": [
    "K = 5\n",
    "kcv_size = 1000\n",
    "kcv_df = categorical_df.sample(kcv_size, random_state=0)\n",
    "kernel_cv_losses = []\n",
    "kernel_cv_predictor = []\n",
    "kernel_cv_gamma = []\n",
    "for a in alphas:\n",
    "    tmp = kernel_cross_validation(K, kcv_df, a, gammas)\n",
    "    kernel_cv_losses.append(tmp[0])\n",
    "    kernel_cv_predictor.append(tmp[1])\n",
    "    kernel_cv_gamma.append(tmp[2])\n",
    "\n",
    "print(f\"alphas: {alphas}\")\n",
    "print(f\"gammas: {kernel_cv_gamma}\")\n",
    "print(f\"losses: {kernel_cv_losses}\")"
   ]
  },
  {
   "cell_type": "code",
   "execution_count": 39,
   "metadata": {},
   "outputs": [
    {
     "name": "stdout",
     "output_type": "stream",
     "text": [
      "best alpha: 1.0\n",
      "best gamma: 780923662.2761682\n"
     ]
    }
   ],
   "source": [
    "# Retrieve the best alpha with its best corrispondent gamma\n",
    "ind = kernel_cv_losses.index(min(kernel_cv_losses))\n",
    "best_alpha = alphas[ind]\n",
    "best_gamma = kernel_cv_gamma[ind]\n",
    "\n",
    "print(f\"best alpha: {best_alpha}\")\n",
    "print(f\"best gamma: {best_gamma}\")"
   ]
  },
  {
   "cell_type": "code",
   "execution_count": 40,
   "metadata": {},
   "outputs": [
    {
     "data": {
      "text/plain": [
       "420.97682992135583"
      ]
     },
     "execution_count": 40,
     "metadata": {},
     "output_type": "execute_result"
    }
   ],
   "source": [
    "# Train and test Kernel CV with bigger set sizes\n",
    "train_cv = train_cat_df.sample(7500, random_state=0)\n",
    "test_cv = test_cat_df.sample(2500, random_state=0)\n",
    "prediction = kernel_ridge_regression(train_cv, best_alpha, best_gamma)\n",
    "kcv_loss = kernel_avg_square_loss(prediction, train_cv, test_cv, best_gamma)\n",
    "kcv_loss"
   ]
  },
  {
   "cell_type": "code",
   "execution_count": 47,
   "metadata": {},
   "outputs": [
    {
     "data": {
      "text/plain": [
       "Text(0.5, 1.0, 'Hyperparameter tuning in Kernel Ridge regression')"
      ]
     },
     "execution_count": 47,
     "metadata": {},
     "output_type": "execute_result"
    },
    {
     "data": {
      "image/png": "[encoded data removed]",
      "text/plain": [
       "<Figure size 640x480 with 1 Axes>"
      ]
     },
     "metadata": {},
     "output_type": "display_data"
    }
   ],
   "source": [
    "bar_alpha = [f'{i}' for i in alphas] \n",
    "bar_name = [str(i) for i in kernel_cv_gamma]\n",
    "bar_value = kernel_cv_losses\n",
    "bar_colors = ['tab:green', 'tab:orange', 'tab:blue', 'tab:red', 'y', 'c', 'm']\n",
    "\n",
    "bars = plt.bar(bar_alpha, bar_value, label=bar_name, color=bar_colors)\n",
    "for b in bars:\n",
    "    height = b.get_height()\n",
    "    plt.text(b.get_x() + b.get_width() / 2.0, height, f'{height:.3f}', ha='center', va='bottom')\n",
    "    plt.text(b.get_x() + b.get_width() / 2.0, height/2, f'{float(b.get_label()):.1}', ha='center', va='bottom')\n",
    "\n",
    "plt.ylabel('MSE')\n",
    "plt.xlabel('Alpha')\n",
    "plt.title('Hyperparameter tuning in Kernel Ridge regression')"
   ]
  },
  {
   "cell_type": "markdown",
   "metadata": {},
   "source": [
    "# CV vs. Kernel Ridge regression"
   ]
  },
  {
   "cell_type": "code",
   "execution_count": 48,
   "metadata": {},
   "outputs": [
    {
     "data": {
      "text/plain": [
       "Text(0.5, 1.0, 'CV: scratch vs scikit-learn')"
      ]
     },
     "execution_count": 48,
     "metadata": {},
     "output_type": "execute_result"
    },
    {
     "data": {
      "image/png": "[encoded data removed]",
      "text/plain": [
       "<Figure size 640x480 with 1 Axes>"
      ]
     },
     "metadata": {},
     "output_type": "display_data"
    }
   ],
   "source": [
    "bar_name = ['CV_scratch', 'CV_SK']\n",
    "bar_value = [loss_cv, sk_loss_cv]\n",
    "bar_colors = ['tab:green', 'tab:orange']\n",
    "\n",
    "bars = plt.bar(bar_name, bar_value, label=bar_name, color=bar_colors)\n",
    "for b in bars:\n",
    "    height = b.get_height()\n",
    "    plt.text(b.get_x() + b.get_width() / 2.0, height, f'{height:.4f}', ha='center', va='bottom')\n",
    "plt.ylabel('MSE')\n",
    "plt.title('CV: scratch vs scikit-learn')\n",
    "# plt.legend()\n"
   ]
  },
  {
   "cell_type": "code",
   "execution_count": 49,
   "metadata": {},
   "outputs": [
    {
     "data": {
      "text/plain": [
       "Text(0.5, 1.0, 'Kernel Ridge Regression: scratch vs scikit-learn')"
      ]
     },
     "execution_count": 49,
     "metadata": {},
     "output_type": "execute_result"
    },
    {
     "data": {
      "image/png": "[encoded data removed]",
      "text/plain": [
       "<Figure size 640x480 with 1 Axes>"
      ]
     },
     "metadata": {},
     "output_type": "display_data"
    }
   ],
   "source": [
    "bar_name = ['scratch_kernel', 'CV_kernel', 'SK_kernel']\n",
    "bar_value = [kernel_loss, kcv_loss, sk_kernel_test_loss]\n",
    "bar_colors = ['tab:green', 'tab:blue', 'tab:orange']\n",
    "\n",
    "bars = plt.bar(bar_name, bar_value, label=bar_name, color=bar_colors)\n",
    "for b in bars:\n",
    "    height = b.get_height()\n",
    "    plt.text(b.get_x() + b.get_width() / 2.0, height, f'{height:.4f}', ha='center', va='bottom')\n",
    "plt.ylabel('MSE')\n",
    "plt.title('Kernel Ridge Regression: scratch vs scikit-learn')\n",
    "# plt.legend()\n"
   ]
  }
 ],
 "metadata": {
  "kernelspec": {
   "display_name": "Python 3",
   "language": "python",
   "name": "python3"
  },
  "language_info": {
   "codemirror_mode": {
    "name": "ipython",
    "version": 3
   },
   "file_extension": ".py",
   "mimetype": "text/x-python",
   "name": "python",
   "nbconvert_exporter": "python",
   "pygments_lexer": "ipython3",
   "version": "3.10.8"
  },
  "orig_nbformat": 4
 },
 "nbformat": 4,
 "nbformat_minor": 2
}
